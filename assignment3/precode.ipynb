{
 "cells": [
  {
   "cell_type": "markdown",
   "source": [
    "# INF-2600-1 24V Artificial Intelligence: Assignment 3 Pre-code\n",
    "This code implements a Bayesian Network model for Analyzing Sensor Data for Weather Prediction using the pgmpy library in Python."
   ],
   "metadata": {
    "id": "8nGlHSmtz4Vb"
   }
  },
  {
   "cell_type": "markdown",
   "metadata": {
    "id": "1orEke6Msm1U"
   },
   "source": [
    "\n",
    "### BUILDING THE STRUCTURE OF BAYESIAN NETWORK: Using PgmPy\n",
    "#### Install Package: `!pip install pgmpy`"
   ]
  },
  {
   "cell_type": "code",
   "execution_count": 18,
   "metadata": {
    "id": "_Dnf0jwzsoK8",
    "ExecuteTime": {
     "end_time": "2024-04-19T08:21:47.100844Z",
     "start_time": "2024-04-19T08:21:46.960653Z"
    }
   },
   "outputs": [],
   "source": [
    "# Including the necessary libraries\n",
    "import numpy as np\n",
    "import pandas as pd\n",
    "import seaborn as sns\n",
    "import matplotlib.pyplot as plt\n",
    "\n",
    "from pgmpy.models import BayesianNetwork\n",
    "from pgmpy.factors.discrete import TabularCPD\n",
    "from pgmpy.models import BayesianModel\n",
    "from pgmpy.estimators import MaximumLikelihoodEstimator, BayesianEstimator\n",
    "from pgmpy.inference import VariableElimination\n",
    "import networkx as nx"
   ]
  },
  {
   "cell_type": "markdown",
   "metadata": {
    "id": "8kDXvpvVtFNJ"
   },
   "source": [
    "# Factoring the dataset"
   ]
  },
  {
   "cell_type": "code",
   "source": [
    "# Import data, make a copy of the original\n",
    "\n",
    "df0 = pd.read_csv('precode/seattle-weather.csv')\n",
    "dfc1 = df0.copy()\n",
    "dfc1.head()"
   ],
   "metadata": {
    "id": "j1UBAX640ozx",
    "colab": {
     "base_uri": "https://localhost:8080/",
     "height": 206
    },
    "outputId": "338206b0-408e-4c58-d0bc-cff2efc89adf",
    "ExecuteTime": {
     "end_time": "2024-04-19T08:21:47.128261Z",
     "start_time": "2024-04-19T08:21:47.103203Z"
    }
   },
   "execution_count": 19,
   "outputs": [
    {
     "data": {
      "text/plain": "         date  precipitation  temp_max  temp_min  wind  weather\n0  2012-01-01            0.0      12.8       5.0   4.7  drizzle\n1  2012-01-02           10.9      10.6       2.8   4.5     rain\n2  2012-01-03            0.8      11.7       7.2   2.3     rain\n3  2012-01-04           20.3      12.2       5.6   4.7     rain\n4  2012-01-05            1.3       8.9       2.8   6.1     rain",
      "text/html": "<div>\n<style scoped>\n    .dataframe tbody tr th:only-of-type {\n        vertical-align: middle;\n    }\n\n    .dataframe tbody tr th {\n        vertical-align: top;\n    }\n\n    .dataframe thead th {\n        text-align: right;\n    }\n</style>\n<table border=\"1\" class=\"dataframe\">\n  <thead>\n    <tr style=\"text-align: right;\">\n      <th></th>\n      <th>date</th>\n      <th>precipitation</th>\n      <th>temp_max</th>\n      <th>temp_min</th>\n      <th>wind</th>\n      <th>weather</th>\n    </tr>\n  </thead>\n  <tbody>\n    <tr>\n      <th>0</th>\n      <td>2012-01-01</td>\n      <td>0.0</td>\n      <td>12.8</td>\n      <td>5.0</td>\n      <td>4.7</td>\n      <td>drizzle</td>\n    </tr>\n    <tr>\n      <th>1</th>\n      <td>2012-01-02</td>\n      <td>10.9</td>\n      <td>10.6</td>\n      <td>2.8</td>\n      <td>4.5</td>\n      <td>rain</td>\n    </tr>\n    <tr>\n      <th>2</th>\n      <td>2012-01-03</td>\n      <td>0.8</td>\n      <td>11.7</td>\n      <td>7.2</td>\n      <td>2.3</td>\n      <td>rain</td>\n    </tr>\n    <tr>\n      <th>3</th>\n      <td>2012-01-04</td>\n      <td>20.3</td>\n      <td>12.2</td>\n      <td>5.6</td>\n      <td>4.7</td>\n      <td>rain</td>\n    </tr>\n    <tr>\n      <th>4</th>\n      <td>2012-01-05</td>\n      <td>1.3</td>\n      <td>8.9</td>\n      <td>2.8</td>\n      <td>6.1</td>\n      <td>rain</td>\n    </tr>\n  </tbody>\n</table>\n</div>"
     },
     "execution_count": 19,
     "metadata": {},
     "output_type": "execute_result"
    }
   ]
  },
  {
   "cell_type": "code",
   "source": [
    "# Get characteristics of dataset including columns with missing data as well:\n",
    "dfc1.info()"
   ],
   "metadata": {
    "id": "nFIlg96M0qH1",
    "colab": {
     "base_uri": "https://localhost:8080/"
    },
    "outputId": "36b3b9f8-9c4b-454f-c811-a77c6c513354",
    "ExecuteTime": {
     "end_time": "2024-04-19T08:21:47.155277Z",
     "start_time": "2024-04-19T08:21:47.130174Z"
    }
   },
   "execution_count": 20,
   "outputs": [
    {
     "name": "stdout",
     "output_type": "stream",
     "text": [
      "<class 'pandas.core.frame.DataFrame'>\n",
      "RangeIndex: 1461 entries, 0 to 1460\n",
      "Data columns (total 6 columns):\n",
      " #   Column         Non-Null Count  Dtype  \n",
      "---  ------         --------------  -----  \n",
      " 0   date           1461 non-null   object \n",
      " 1   precipitation  1461 non-null   float64\n",
      " 2   temp_max       1461 non-null   float64\n",
      " 3   temp_min       1461 non-null   float64\n",
      " 4   wind           1461 non-null   float64\n",
      " 5   weather        1461 non-null   object \n",
      "dtypes: float64(4), object(2)\n",
      "memory usage: 68.6+ KB\n"
     ]
    }
   ]
  },
  {
   "cell_type": "code",
   "source": [
    "# Checking the unique values in the 'weather' column\n",
    "unique_fields = dfc1['weather'].unique()\n",
    "print(unique_fields)"
   ],
   "metadata": {
    "colab": {
     "base_uri": "https://localhost:8080/"
    },
    "id": "J4-9pU7v9xCI",
    "outputId": "b245bb96-df16-40bc-aa50-805e0efa1ec4",
    "ExecuteTime": {
     "end_time": "2024-04-19T08:21:47.195951Z",
     "start_time": "2024-04-19T08:21:47.155482Z"
    }
   },
   "execution_count": 21,
   "outputs": [
    {
     "name": "stdout",
     "output_type": "stream",
     "text": [
      "['drizzle' 'rain' 'sun' 'snow' 'fog']\n"
     ]
    }
   ]
  },
  {
   "cell_type": "code",
   "source": [
    "dfc1.describe()"
   ],
   "metadata": {
    "id": "yHMgO4oF0tUI",
    "colab": {
     "base_uri": "https://localhost:8080/",
     "height": 300
    },
    "outputId": "851f538c-c6f9-40c9-e3ff-66e0c857543b",
    "ExecuteTime": {
     "end_time": "2024-04-19T08:21:47.221875Z",
     "start_time": "2024-04-19T08:21:47.196724Z"
    }
   },
   "execution_count": 22,
   "outputs": [
    {
     "data": {
      "text/plain": "       precipitation     temp_max     temp_min         wind\ncount    1461.000000  1461.000000  1461.000000  1461.000000\nmean        3.029432    16.439083     8.234771     3.241136\nstd         6.680194     7.349758     5.023004     1.437825\nmin         0.000000    -1.600000    -7.100000     0.400000\n25%         0.000000    10.600000     4.400000     2.200000\n50%         0.000000    15.600000     8.300000     3.000000\n75%         2.800000    22.200000    12.200000     4.000000\nmax        55.900000    35.600000    18.300000     9.500000",
      "text/html": "<div>\n<style scoped>\n    .dataframe tbody tr th:only-of-type {\n        vertical-align: middle;\n    }\n\n    .dataframe tbody tr th {\n        vertical-align: top;\n    }\n\n    .dataframe thead th {\n        text-align: right;\n    }\n</style>\n<table border=\"1\" class=\"dataframe\">\n  <thead>\n    <tr style=\"text-align: right;\">\n      <th></th>\n      <th>precipitation</th>\n      <th>temp_max</th>\n      <th>temp_min</th>\n      <th>wind</th>\n    </tr>\n  </thead>\n  <tbody>\n    <tr>\n      <th>count</th>\n      <td>1461.000000</td>\n      <td>1461.000000</td>\n      <td>1461.000000</td>\n      <td>1461.000000</td>\n    </tr>\n    <tr>\n      <th>mean</th>\n      <td>3.029432</td>\n      <td>16.439083</td>\n      <td>8.234771</td>\n      <td>3.241136</td>\n    </tr>\n    <tr>\n      <th>std</th>\n      <td>6.680194</td>\n      <td>7.349758</td>\n      <td>5.023004</td>\n      <td>1.437825</td>\n    </tr>\n    <tr>\n      <th>min</th>\n      <td>0.000000</td>\n      <td>-1.600000</td>\n      <td>-7.100000</td>\n      <td>0.400000</td>\n    </tr>\n    <tr>\n      <th>25%</th>\n      <td>0.000000</td>\n      <td>10.600000</td>\n      <td>4.400000</td>\n      <td>2.200000</td>\n    </tr>\n    <tr>\n      <th>50%</th>\n      <td>0.000000</td>\n      <td>15.600000</td>\n      <td>8.300000</td>\n      <td>3.000000</td>\n    </tr>\n    <tr>\n      <th>75%</th>\n      <td>2.800000</td>\n      <td>22.200000</td>\n      <td>12.200000</td>\n      <td>4.000000</td>\n    </tr>\n    <tr>\n      <th>max</th>\n      <td>55.900000</td>\n      <td>35.600000</td>\n      <td>18.300000</td>\n      <td>9.500000</td>\n    </tr>\n  </tbody>\n</table>\n</div>"
     },
     "execution_count": 22,
     "metadata": {},
     "output_type": "execute_result"
    }
   ]
  },
  {
   "cell_type": "code",
   "source": [
    "# Put categorical varaibles in a list\n",
    "categorical_lst = ['date','weather']\n",
    "# Create a seperate & smaller dataframe for categorical variables\n",
    "dfc2a = pd.DataFrame(dfc1, columns=categorical_lst, copy=True)\n",
    "dfc2a.head()"
   ],
   "metadata": {
    "id": "pD6zggr40w1R",
    "ExecuteTime": {
     "end_time": "2024-04-19T08:21:47.260067Z",
     "start_time": "2024-04-19T08:21:47.223396Z"
    }
   },
   "execution_count": 23,
   "outputs": [
    {
     "data": {
      "text/plain": "         date  weather\n0  2012-01-01  drizzle\n1  2012-01-02     rain\n2  2012-01-03     rain\n3  2012-01-04     rain\n4  2012-01-05     rain",
      "text/html": "<div>\n<style scoped>\n    .dataframe tbody tr th:only-of-type {\n        vertical-align: middle;\n    }\n\n    .dataframe tbody tr th {\n        vertical-align: top;\n    }\n\n    .dataframe thead th {\n        text-align: right;\n    }\n</style>\n<table border=\"1\" class=\"dataframe\">\n  <thead>\n    <tr style=\"text-align: right;\">\n      <th></th>\n      <th>date</th>\n      <th>weather</th>\n    </tr>\n  </thead>\n  <tbody>\n    <tr>\n      <th>0</th>\n      <td>2012-01-01</td>\n      <td>drizzle</td>\n    </tr>\n    <tr>\n      <th>1</th>\n      <td>2012-01-02</td>\n      <td>rain</td>\n    </tr>\n    <tr>\n      <th>2</th>\n      <td>2012-01-03</td>\n      <td>rain</td>\n    </tr>\n    <tr>\n      <th>3</th>\n      <td>2012-01-04</td>\n      <td>rain</td>\n    </tr>\n    <tr>\n      <th>4</th>\n      <td>2012-01-05</td>\n      <td>rain</td>\n    </tr>\n  </tbody>\n</table>\n</div>"
     },
     "execution_count": 23,
     "metadata": {},
     "output_type": "execute_result"
    }
   ]
  },
  {
   "cell_type": "code",
   "source": [
    "# Put all continuous variables into a list\n",
    "continuous_lst = ['precipitation', 'temp_max', 'temp_min', 'wind']\n",
    "# Create a seperate & smaller dataframe for our chosen variables. Use 'copy=True' so changes wont affect original\n",
    "dfc2b = pd.DataFrame(dfc1, columns=continuous_lst, copy=True)\n",
    "dfc2b.head()"
   ],
   "metadata": {
    "id": "lqmWkjP80yd-",
    "ExecuteTime": {
     "end_time": "2024-04-19T08:21:47.329919Z",
     "start_time": "2024-04-19T08:21:47.262938Z"
    }
   },
   "execution_count": 24,
   "outputs": [
    {
     "data": {
      "text/plain": "   precipitation  temp_max  temp_min  wind\n0            0.0      12.8       5.0   4.7\n1           10.9      10.6       2.8   4.5\n2            0.8      11.7       7.2   2.3\n3           20.3      12.2       5.6   4.7\n4            1.3       8.9       2.8   6.1",
      "text/html": "<div>\n<style scoped>\n    .dataframe tbody tr th:only-of-type {\n        vertical-align: middle;\n    }\n\n    .dataframe tbody tr th {\n        vertical-align: top;\n    }\n\n    .dataframe thead th {\n        text-align: right;\n    }\n</style>\n<table border=\"1\" class=\"dataframe\">\n  <thead>\n    <tr style=\"text-align: right;\">\n      <th></th>\n      <th>precipitation</th>\n      <th>temp_max</th>\n      <th>temp_min</th>\n      <th>wind</th>\n    </tr>\n  </thead>\n  <tbody>\n    <tr>\n      <th>0</th>\n      <td>0.0</td>\n      <td>12.8</td>\n      <td>5.0</td>\n      <td>4.7</td>\n    </tr>\n    <tr>\n      <th>1</th>\n      <td>10.9</td>\n      <td>10.6</td>\n      <td>2.8</td>\n      <td>4.5</td>\n    </tr>\n    <tr>\n      <th>2</th>\n      <td>0.8</td>\n      <td>11.7</td>\n      <td>7.2</td>\n      <td>2.3</td>\n    </tr>\n    <tr>\n      <th>3</th>\n      <td>20.3</td>\n      <td>12.2</td>\n      <td>5.6</td>\n      <td>4.7</td>\n    </tr>\n    <tr>\n      <th>4</th>\n      <td>1.3</td>\n      <td>8.9</td>\n      <td>2.8</td>\n      <td>6.1</td>\n    </tr>\n  </tbody>\n</table>\n</div>"
     },
     "execution_count": 24,
     "metadata": {},
     "output_type": "execute_result"
    }
   ]
  },
  {
   "cell_type": "markdown",
   "source": [
    "### Create new dataframe"
   ],
   "metadata": {
    "id": "TLtIxsxL01vX"
   }
  },
  {
   "cell_type": "code",
   "source": [
    "# Create new df with variables we want to work with:\n",
    "new_cols = ['date', 'precipitation', 'temp_max', 'temp_min', 'wind', 'weather']\n",
    "\n",
    "df = df0[new_cols]\n",
    "# df.head()"
   ],
   "metadata": {
    "id": "rSVcV5pL01_x",
    "ExecuteTime": {
     "end_time": "2024-04-19T08:21:47.357417Z",
     "start_time": "2024-04-19T08:21:47.317947Z"
    }
   },
   "execution_count": 25,
   "outputs": []
  },
  {
   "cell_type": "code",
   "source": [
    "# Let's show all columns with missing data as well:\n",
    "df[df.isnull().any(axis=1)] # any missing data in columns\n",
    "df.isnull().any()"
   ],
   "metadata": {
    "id": "0eVsX_2t3HYN",
    "ExecuteTime": {
     "end_time": "2024-04-19T08:21:47.411652Z",
     "start_time": "2024-04-19T08:21:47.359503Z"
    }
   },
   "execution_count": 26,
   "outputs": [
    {
     "data": {
      "text/plain": "date             False\nprecipitation    False\ntemp_max         False\ntemp_min         False\nwind             False\nweather          False\ndtype: bool"
     },
     "execution_count": 26,
     "metadata": {},
     "output_type": "execute_result"
    }
   ]
  },
  {
   "cell_type": "code",
   "source": [
    "num_stdv = 1\n",
    "\n",
    "# Define the labels dictionary\n",
    "labels = {\n",
    "\n",
    "}\n",
    "\n",
    "# Create bounds for continuous labels\n",
    "\n",
    "\n",
    "df.head()"
   ],
   "metadata": {
    "id": "YDZTIG8w06pU",
    "colab": {
     "base_uri": "https://localhost:8080/",
     "height": 206
    },
    "outputId": "b162c88d-a4fc-4f02-83df-8d6c28a99a60",
    "ExecuteTime": {
     "end_time": "2024-04-19T08:21:47.441170Z",
     "start_time": "2024-04-19T08:21:47.405675Z"
    }
   },
   "execution_count": 27,
   "outputs": [
    {
     "data": {
      "text/plain": "         date  precipitation  temp_max  temp_min  wind  weather\n0  2012-01-01            0.0      12.8       5.0   4.7  drizzle\n1  2012-01-02           10.9      10.6       2.8   4.5     rain\n2  2012-01-03            0.8      11.7       7.2   2.3     rain\n3  2012-01-04           20.3      12.2       5.6   4.7     rain\n4  2012-01-05            1.3       8.9       2.8   6.1     rain",
      "text/html": "<div>\n<style scoped>\n    .dataframe tbody tr th:only-of-type {\n        vertical-align: middle;\n    }\n\n    .dataframe tbody tr th {\n        vertical-align: top;\n    }\n\n    .dataframe thead th {\n        text-align: right;\n    }\n</style>\n<table border=\"1\" class=\"dataframe\">\n  <thead>\n    <tr style=\"text-align: right;\">\n      <th></th>\n      <th>date</th>\n      <th>precipitation</th>\n      <th>temp_max</th>\n      <th>temp_min</th>\n      <th>wind</th>\n      <th>weather</th>\n    </tr>\n  </thead>\n  <tbody>\n    <tr>\n      <th>0</th>\n      <td>2012-01-01</td>\n      <td>0.0</td>\n      <td>12.8</td>\n      <td>5.0</td>\n      <td>4.7</td>\n      <td>drizzle</td>\n    </tr>\n    <tr>\n      <th>1</th>\n      <td>2012-01-02</td>\n      <td>10.9</td>\n      <td>10.6</td>\n      <td>2.8</td>\n      <td>4.5</td>\n      <td>rain</td>\n    </tr>\n    <tr>\n      <th>2</th>\n      <td>2012-01-03</td>\n      <td>0.8</td>\n      <td>11.7</td>\n      <td>7.2</td>\n      <td>2.3</td>\n      <td>rain</td>\n    </tr>\n    <tr>\n      <th>3</th>\n      <td>2012-01-04</td>\n      <td>20.3</td>\n      <td>12.2</td>\n      <td>5.6</td>\n      <td>4.7</td>\n      <td>rain</td>\n    </tr>\n    <tr>\n      <th>4</th>\n      <td>2012-01-05</td>\n      <td>1.3</td>\n      <td>8.9</td>\n      <td>2.8</td>\n      <td>6.1</td>\n      <td>rain</td>\n    </tr>\n  </tbody>\n</table>\n</div>"
     },
     "execution_count": 27,
     "metadata": {},
     "output_type": "execute_result"
    }
   ]
  },
  {
   "cell_type": "markdown",
   "metadata": {
    "id": "eG6lW2LPsspt"
   },
   "source": [
    "# Creating Bayes Nets"
   ]
  },
  {
   "cell_type": "code",
   "execution_count": 28,
   "metadata": {
    "id": "4jLlqnOisqre",
    "ExecuteTime": {
     "end_time": "2024-04-19T08:21:47.491983Z",
     "start_time": "2024-04-19T08:21:47.436778Z"
    }
   },
   "outputs": [
    {
     "name": "stdout",
     "output_type": "stream",
     "text": [
      "+------------------+----------------+\n",
      "| weather          |   phi(weather) |\n",
      "+==================+================+\n",
      "| weather(drizzle) |         0.0000 |\n",
      "+------------------+----------------+\n",
      "| weather(fog)     |         0.0556 |\n",
      "+------------------+----------------+\n",
      "| weather(rain)    |         0.7778 |\n",
      "+------------------+----------------+\n",
      "| weather(snow)    |         0.1111 |\n",
      "+------------------+----------------+\n",
      "| weather(sun)     |         0.0556 |\n",
      "+------------------+----------------+\n"
     ]
    }
   ],
   "source": [
    "# Define the hierarchy\n",
    "weather_model_h1 = BayesianNetwork([\n",
    "    ('weather', 'precipitation'),\n",
    "    ('weather', 'wind'),\n",
    "    ('precipitation', 'temp_max'),\n",
    "    ('wind', 'temp_max'),\n",
    "    ('wind', 'temp_min')\n",
    "])\n",
    "\n",
    "#weather_model.add_nodes_from(['a', 'b'])\n",
    "\n",
    "weather_model_h1.fit(df, estimator=MaximumLikelihoodEstimator)\n",
    "\n",
    "infer = VariableElimination(weather_model_h1)\n",
    "#prob_weather_max_temp = infer.query(variables=['weather'], evidence={'temp_max': 10})\n",
    "#prob_weather_min_temp = infer.query(variables=['weather'], evidence={'temp_min': -3.3})\n",
    "#prob_high_wind_given_sunny = infer.query(variables=['wind'],evidence={'weather': 'sun'},joint=False)\n",
    "prob_sunny_given_high_wind = infer.query(variables=['weather'], evidence={'wind': 5})\n",
    "\n",
    "print(prob_sunny_given_high_wind)\n",
    "\n",
    "#nx.draw(weather_model, with_labels=True)\n",
    "#plt.show()\n"
   ]
  },
  {
   "cell_type": "code",
   "outputs": [
    {
     "name": "stdout",
     "output_type": "stream",
     "text": [
      "            date  precipitation  temp_max  temp_min  wind  weather\n",
      "0     2012-01-01            0.0      12.8       5.0   4.7  drizzle\n",
      "1     2012-01-02           10.9      10.6       2.8   4.5     rain\n",
      "2     2012-01-03            0.8      11.7       7.2   2.3     rain\n",
      "3     2012-01-04           20.3      12.2       5.6   4.7     rain\n",
      "4     2012-01-05            1.3       8.9       2.8   6.1     rain\n",
      "...          ...            ...       ...       ...   ...      ...\n",
      "1456  2015-12-27            8.6       4.4       1.7   2.9     rain\n",
      "1457  2015-12-28            1.5       5.0       1.7   1.3     rain\n",
      "1458  2015-12-29            0.0       7.2       0.6   2.6      fog\n",
      "1459  2015-12-30            0.0       5.6      -1.0   3.4      sun\n",
      "1460  2015-12-31            0.0       5.6      -2.1   3.5      sun\n",
      "\n",
      "[1461 rows x 6 columns]\n"
     ]
    }
   ],
   "source": [
    "# Create clasifiers\n",
    "\n",
    "#df['wind_category'] = pd.qcut(df['wind'], q=3, labels=['low', 'medium', 'high'])\n",
    "\n",
    "print(df)\n",
    "\n"
   ],
   "metadata": {
    "collapsed": false,
    "ExecuteTime": {
     "end_time": "2024-04-19T08:21:47.512331Z",
     "start_time": "2024-04-19T08:21:47.483636Z"
    }
   },
   "execution_count": 29
  },
  {
   "cell_type": "code",
   "outputs": [],
   "source": [
    "weather_model_h1 = BayesianNetwork([\n",
    "    ('weather', 'precipitation'),\n",
    "    ('weather', 'wind'),\n",
    "    ('precipitation', 'temp_max'),\n",
    "    ('wind', 'temp_max'),\n",
    "    ('wind', 'temp_min')\n",
    "])\n",
    "\n",
    "weather_model_h1.fit(df, estimator=MaximumLikelihoodEstimator)\n",
    "\n",
    "infer = VariableElimination(weather_model_h1)\n",
    "#prob_weather_max_temp = infer.query(variables=['weather'], evidence={'temp_max': 10})\n",
    "#prob_weather_min_temp = infer.query(variables=['weather'], evidence={'temp_min': -3.3})\n",
    "#prob_high_wind_given_sunny = infer.query(variables=['wind'],evidence={'weather': 'sun'},joint=False)\n",
    "#prob_sunny_given_high_wind = infer.query(variables=['weather'], evidence={'wind': 5})\n",
    "\n",
    "joint_probabilities = infer.query(\n",
    "    variables=['weather', 'precipitation', 'wind'],\n",
    "    joint=True\n",
    ")\n",
    "\n"
   ],
   "metadata": {
    "collapsed": false,
    "ExecuteTime": {
     "end_time": "2024-04-19T08:21:47.567519Z",
     "start_time": "2024-04-19T08:21:47.486998Z"
    }
   },
   "execution_count": 30
  },
  {
   "cell_type": "code",
   "outputs": [
    {
     "name": "stdout",
     "output_type": "stream",
     "text": [
      "The most probable condition and its probability are:\n",
      "{'weather': 'sun', 'precipitation': 0.0, 'wind': 2.6}\n",
      "Probability: 0.02532511978097193\n"
     ]
    }
   ],
   "source": [
    "# Perform the query for the joint probability distribution\n",
    "joint_probabilities = infer.query(variables=['weather', 'precipitation', 'wind'])\n",
    "\n",
    "# Extract the assignment and probabilities from the joint distribution\n",
    "probabilities = joint_probabilities.values\n",
    "state_names = joint_probabilities.state_names\n",
    "\n",
    "# Find the index of the maximum probability\n",
    "max_prob_index = probabilities.argmax()\n",
    "\n",
    "# Convert flat index to multi-dimensional index\n",
    "# This step is necessary because the joint probability table is multi-dimensional\n",
    "max_prob_multi_index = np.unravel_index(max_prob_index, probabilities.shape)\n",
    "\n",
    "# Extract the states that correspond to this maximum probability using the multi-dimensional index\n",
    "max_prob_states = {\n",
    "    variable: state_names[variable][index]\n",
    "    for variable, index in zip(joint_probabilities.variables, max_prob_multi_index)\n",
    "}\n",
    "\n",
    "# Extract the maximum probability value\n",
    "max_probability = probabilities.flatten()[max_prob_index]\n",
    "\n",
    "print(\"The most probable condition and its probability are:\")\n",
    "print(max_prob_states)\n",
    "print(f\"Probability: {max_probability}\")\n"
   ],
   "metadata": {
    "collapsed": false,
    "ExecuteTime": {
     "end_time": "2024-04-19T08:21:47.580453Z",
     "start_time": "2024-04-19T08:21:47.533571Z"
    }
   },
   "execution_count": 31
  },
  {
   "cell_type": "code",
   "outputs": [
    {
     "name": "stdout",
     "output_type": "stream",
     "text": [
      "+------------------+----------------+\n",
      "| weather          |   phi(weather) |\n",
      "+==================+================+\n",
      "| weather(drizzle) |         0.0000 |\n",
      "+------------------+----------------+\n",
      "| weather(fog)     |         0.0000 |\n",
      "+------------------+----------------+\n",
      "| weather(rain)    |         0.9565 |\n",
      "+------------------+----------------+\n",
      "| weather(snow)    |         0.0435 |\n",
      "+------------------+----------------+\n",
      "| weather(sun)     |         0.0000 |\n",
      "+------------------+----------------+\n"
     ]
    }
   ],
   "source": [
    "weather_probabilities_given_medium_precipitation = infer.query(\n",
    "    variables=['weather'],\n",
    "    evidence={'precipitation': 0.8}\n",
    ")\n",
    "\n",
    "print(weather_probabilities_given_medium_precipitation)\n"
   ],
   "metadata": {
    "collapsed": false,
    "ExecuteTime": {
     "end_time": "2024-04-19T08:21:47.581522Z",
     "start_time": "2024-04-19T08:21:47.537122Z"
    }
   },
   "execution_count": 32
  },
  {
   "cell_type": "code",
   "execution_count": 33,
   "metadata": {
    "id": "YfJQrK90s1mh",
    "ExecuteTime": {
     "end_time": "2024-04-19T08:21:47.654216Z",
     "start_time": "2024-04-19T08:21:47.562240Z"
    }
   },
   "outputs": [
    {
     "ename": "IndexError",
     "evalue": "list index out of range",
     "output_type": "error",
     "traceback": [
      "\u001B[0;31m---------------------------------------------------------------------------\u001B[0m",
      "\u001B[0;31mIndexError\u001B[0m                                Traceback (most recent call last)",
      "Cell \u001B[0;32mIn[33], line 20\u001B[0m\n\u001B[1;32m     15\u001B[0m     \u001B[38;5;28mprint\u001B[39m(key)\n\u001B[1;32m     17\u001B[0m \u001B[38;5;66;03m# Note that we get 3 Nan values in the above conditional distributions. This is because one of the type of precipitation (low) did not contain any relation with temp_max.\u001B[39;00m\n\u001B[1;32m     18\u001B[0m \u001B[38;5;66;03m# Therefore, normalization, does not produce the intended result.\u001B[39;00m\n\u001B[1;32m     19\u001B[0m \u001B[38;5;66;03m# To mitigate this, we replace Nan with the equal probability within the three values, i.e., 0.33\u001B[39;00m\n\u001B[0;32m---> 20\u001B[0m \u001B[43mcpd_lst\u001B[49m\u001B[43m[\u001B[49m\u001B[38;5;241;43m2\u001B[39;49m\u001B[43m]\u001B[49m[:,\u001B[38;5;241m0\u001B[39m] \u001B[38;5;241m=\u001B[39m \u001B[38;5;241m.33\u001B[39m\n\u001B[1;32m     22\u001B[0m cpd_lst\n",
      "\u001B[0;31mIndexError\u001B[0m: list index out of range"
     ]
    }
   ],
   "source": [
    "# Calculate Probabilities\n",
    "\n",
    "# Weather does not have any parents so all we need are the marginal probabilities of observing each weather type\n",
    "\n",
    "# Joint Propabilities\n",
    "# Create dict where key=parent, value=child\n",
    "var_dict = {\n",
    "\n",
    "            }\n",
    "\n",
    "# Create conditional distributions and store results in a list\n",
    "cpd_lst = []\n",
    "for key, value in var_dict.items():\n",
    "    ### Define yourself\n",
    "    print(key)\n",
    "\n",
    "# Note that we get 3 Nan values in the above conditional distributions. This is because one of the type of precipitation (low) did not contain any relation with temp_max.\n",
    "# Therefore, normalization, does not produce the intended result.\n",
    "# To mitigate this, we replace Nan with the equal probability within the three values, i.e., 0.33\n",
    "cpd_lst[2][:,0] = .33\n",
    "\n",
    "cpd_lst"
   ]
  },
  {
   "cell_type": "code",
   "execution_count": 34,
   "metadata": {
    "id": "WM28YMt-s2b_",
    "ExecuteTime": {
     "end_time": "2024-04-19T08:21:47.728371Z",
     "start_time": "2024-04-19T08:21:47.641831Z"
    }
   },
   "outputs": [],
   "source": [
    "# Creating tabular conditional probability distribution\n",
    "\n"
   ]
  },
  {
   "cell_type": "code",
   "execution_count": 35,
   "metadata": {
    "id": "zrJIsmU7s_5N",
    "ExecuteTime": {
     "end_time": "2024-04-19T08:21:47.807467Z",
     "start_time": "2024-04-19T08:21:47.730341Z"
    }
   },
   "outputs": [],
   "source": [
    "# Add CPDs and factors to the model\n",
    "\n",
    "\n",
    "# Check if model is consistent\n"
   ]
  },
  {
   "cell_type": "code",
   "source": [
    "# Viewing nodes of the model\n",
    "weather_model_h1.nodes()"
   ],
   "metadata": {
    "colab": {
     "base_uri": "https://localhost:8080/"
    },
    "id": "iWEUCooE6Y-z",
    "outputId": "6c9b3be0-c654-442b-a195-a306f902522b",
    "ExecuteTime": {
     "end_time": "2024-04-19T08:21:47.811181Z",
     "start_time": "2024-04-19T08:21:47.802959Z"
    }
   },
   "execution_count": 36,
   "outputs": [
    {
     "data": {
      "text/plain": "NodeView(('weather', 'precipitation', 'wind', 'temp_max', 'temp_min'))"
     },
     "execution_count": 36,
     "metadata": {},
     "output_type": "execute_result"
    }
   ]
  },
  {
   "cell_type": "code",
   "source": [
    "# Viewing edges of the model\n",
    "weather_model_h1.edges()"
   ],
   "metadata": {
    "colab": {
     "base_uri": "https://localhost:8080/"
    },
    "id": "udgc3c0G6lTJ",
    "outputId": "a1267d64-55f1-4acc-cbee-bfbffb2e00fb",
    "ExecuteTime": {
     "end_time": "2024-04-19T08:21:47.818616Z",
     "start_time": "2024-04-19T08:21:47.812211Z"
    }
   },
   "execution_count": 37,
   "outputs": [
    {
     "data": {
      "text/plain": "OutEdgeView([('weather', 'precipitation'), ('weather', 'wind'), ('precipitation', 'temp_max'), ('wind', 'temp_max'), ('wind', 'temp_min')])"
     },
     "execution_count": 37,
     "metadata": {},
     "output_type": "execute_result"
    }
   ]
  },
  {
   "cell_type": "code",
   "source": [
    "# Print the probability table of the weather node\n",
    "print(weather_cpd)\n",
    "\n",
    "# Print the probability table of the wind node\n",
    "print(wind_cpd)"
   ],
   "metadata": {
    "id": "hHv1dS0p6raG",
    "ExecuteTime": {
     "end_time": "2024-04-19T08:21:47.858715Z",
     "start_time": "2024-04-19T08:21:47.823759Z"
    }
   },
   "execution_count": 38,
   "outputs": [
    {
     "ename": "NameError",
     "evalue": "name 'weather_cpd' is not defined",
     "output_type": "error",
     "traceback": [
      "\u001B[0;31m---------------------------------------------------------------------------\u001B[0m",
      "\u001B[0;31mNameError\u001B[0m                                 Traceback (most recent call last)",
      "Cell \u001B[0;32mIn[38], line 2\u001B[0m\n\u001B[1;32m      1\u001B[0m \u001B[38;5;66;03m# Print the probability table of the weather node\u001B[39;00m\n\u001B[0;32m----> 2\u001B[0m \u001B[38;5;28mprint\u001B[39m(\u001B[43mweather_cpd\u001B[49m)\n\u001B[1;32m      4\u001B[0m \u001B[38;5;66;03m# Print the probability table of the wind node\u001B[39;00m\n\u001B[1;32m      5\u001B[0m \u001B[38;5;28mprint\u001B[39m(wind_cpd)\n",
      "\u001B[0;31mNameError\u001B[0m: name 'weather_cpd' is not defined"
     ]
    }
   ]
  },
  {
   "cell_type": "code",
   "source": [
    "# Independcies in the model\n",
    "\n",
    "# Checking independcies of a particular node\n"
   ],
   "metadata": {
    "id": "dSTNY8Mv7P5b",
    "ExecuteTime": {
     "end_time": "2024-04-19T08:21:47.872127Z",
     "start_time": "2024-04-19T08:21:47.834259Z"
    }
   },
   "execution_count": 39,
   "outputs": []
  },
  {
   "cell_type": "markdown",
   "source": [
    "# Task 1.2"
   ],
   "metadata": {
    "id": "DLGlLT-u1mgI"
   }
  },
  {
   "cell_type": "code",
   "source": [
    "from pgmpy.inference import VariableElimination"
   ],
   "metadata": {
    "id": "f7Bp2mCD1ocl",
    "ExecuteTime": {
     "end_time": "2024-04-19T08:21:47.914880Z",
     "start_time": "2024-04-19T08:21:47.873483Z"
    }
   },
   "execution_count": 40,
   "outputs": []
  },
  {
   "cell_type": "code",
   "source": [
    "# Question 1: (a) What is the probability of high wind when the weather is sunny? (b) What is the probability of sunny weather when the wind is high?\n"
   ],
   "metadata": {
    "id": "6C1h4iFn1ut3",
    "ExecuteTime": {
     "end_time": "2024-04-19T08:21:47.932060Z",
     "start_time": "2024-04-19T08:21:47.907087Z"
    }
   },
   "execution_count": 41,
   "outputs": []
  },
  {
   "cell_type": "code",
   "source": [
    "# Question 2:\n",
    "# (a) Calculate all the possible joint probability and determine the best probable condition. Explain your results?\n",
    "\n",
    "# (b) What is the most probable condition for precipitation, wind and weather, combined?\n"
   ],
   "metadata": {
    "id": "1-oEFaGh4ev5",
    "ExecuteTime": {
     "end_time": "2024-04-19T08:21:47.945892Z",
     "start_time": "2024-04-19T08:21:47.933646Z"
    }
   },
   "execution_count": 42,
   "outputs": []
  },
  {
   "cell_type": "code",
   "source": [
    "# Question 3. Find the probability associated with each weather, given that the precipitation is medium? Explain your result.\n",
    "\n"
   ],
   "metadata": {
    "id": "pqiWpd1h6Wsd",
    "ExecuteTime": {
     "end_time": "2024-04-19T08:21:47.952200Z",
     "start_time": "2024-04-19T08:21:47.945997Z"
    }
   },
   "execution_count": 43,
   "outputs": []
  },
  {
   "cell_type": "code",
   "source": [
    "# Question 4. What is the probability of each weather condition given that precipitation is medium and wind is low or medium? Explain your method and results. How does the result change with the addition of wind factor compared to question 3 of Task 1.2?\n",
    "\n"
   ],
   "metadata": {
    "id": "kHFGTqpRDIgy",
    "ExecuteTime": {
     "end_time": "2024-04-19T08:21:47.967894Z",
     "start_time": "2024-04-19T08:21:47.951280Z"
    }
   },
   "execution_count": 44,
   "outputs": []
  },
  {
   "cell_type": "markdown",
   "source": [
    "# Task 1.3 - Approximate Inference"
   ],
   "metadata": {
    "id": "Kjsqw6ktHlbU"
   }
  },
  {
   "cell_type": "markdown",
   "source": [
    "## Likelihood Weighted Sample\n",
    "\n",
    "Generates weighted sample(s) from joint distribution of the Bayesian Network, that comply with the given evidence."
   ],
   "metadata": {
    "id": "C5tLD8SIJdvz"
   }
  },
  {
   "cell_type": "code",
   "source": [
    "from pgmpy.factors.discrete import State\n",
    "from pgmpy.sampling import BayesianModelSampling"
   ],
   "metadata": {
    "id": "Qgf1j-UpMJF2",
    "ExecuteTime": {
     "end_time": "2024-04-19T08:21:47.976737Z",
     "start_time": "2024-04-19T08:21:47.963534Z"
    }
   },
   "execution_count": 45,
   "outputs": []
  },
  {
   "cell_type": "code",
   "source": [
    "# Repeat Q.1. (a) of Task 1.2 - What is the probability of high wind when the weather is sunny?\n",
    "\n"
   ],
   "metadata": {
    "id": "dJzv6qTcO4m8",
    "ExecuteTime": {
     "end_time": "2024-04-19T08:21:47.990485Z",
     "start_time": "2024-04-19T08:21:47.972058Z"
    }
   },
   "execution_count": 46,
   "outputs": []
  },
  {
   "cell_type": "code",
   "source": [
    "# Repeat Q.1. (b) of Task 1.2 - What is the probability of sunny weather when the wind is high?\n",
    "\n"
   ],
   "metadata": {
    "id": "lI68QNwgJalj",
    "ExecuteTime": {
     "end_time": "2024-04-19T08:21:48.010571Z",
     "start_time": "2024-04-19T08:21:47.988672Z"
    }
   },
   "execution_count": 47,
   "outputs": []
  },
  {
   "cell_type": "markdown",
   "source": [
    "## Rejection Sampling"
   ],
   "metadata": {
    "id": "-cxZxPokPP-O"
   }
  },
  {
   "cell_type": "code",
   "source": [
    "# Repeat Q.2 . (a) of Task 1.2 - Calculate all the possible joint probability and determine the best probable condition. Explain your results?\n",
    "\n"
   ],
   "metadata": {
    "id": "dFwIjAp3PPY_",
    "ExecuteTime": {
     "end_time": "2024-04-19T08:21:48.034853Z",
     "start_time": "2024-04-19T08:21:48.013690Z"
    }
   },
   "execution_count": 48,
   "outputs": []
  },
  {
   "cell_type": "code",
   "source": [
    "# Repeat Q.2 . (b) of Task 1.2 - What is the most probable condition for precipitation, wind and weather, combined?\n",
    "\n"
   ],
   "metadata": {
    "id": "9DS0j7ajLbov",
    "ExecuteTime": {
     "end_time": "2024-04-19T08:21:48.053321Z",
     "start_time": "2024-04-19T08:21:48.027559Z"
    }
   },
   "execution_count": 49,
   "outputs": []
  },
  {
   "cell_type": "markdown",
   "source": [
    "## Approx Inference"
   ],
   "metadata": {
    "id": "OPYm8MwWJkz_"
   }
  },
  {
   "cell_type": "code",
   "source": [
    "from pgmpy.inference import ApproxInference"
   ],
   "metadata": {
    "id": "Z5T8q0KbAVsd",
    "ExecuteTime": {
     "end_time": "2024-04-19T08:21:48.094335Z",
     "start_time": "2024-04-19T08:21:48.050973Z"
    }
   },
   "execution_count": 50,
   "outputs": []
  },
  {
   "cell_type": "code",
   "source": [
    "# Repeat Q.3 of Task 1.2 - Find the probability associated with each weather, given that the precipitation is medium? Explain your result.\n",
    "\n"
   ],
   "metadata": {
    "id": "arv0oy_OPJxA",
    "ExecuteTime": {
     "end_time": "2024-04-19T08:21:48.123253Z",
     "start_time": "2024-04-19T08:21:48.091224Z"
    }
   },
   "execution_count": 51,
   "outputs": []
  },
  {
   "cell_type": "markdown",
   "source": [
    "# Normal Sampling"
   ],
   "metadata": {
    "id": "a_4fNI7NPZEc"
   }
  },
  {
   "cell_type": "code",
   "source": [
    "# Repeat Q.4 of Task 1.2 - What is the probability of each weather condition given that precipitation is medium and wind is low or medium? Explain your method and results. How does the result change with the addition of wind factor compared to question 3 of Task 1.2?\n",
    "\n"
   ],
   "metadata": {
    "id": "FvkmgoARHkuV",
    "ExecuteTime": {
     "end_time": "2024-04-19T08:21:48.154405Z",
     "start_time": "2024-04-19T08:21:48.125380Z"
    }
   },
   "execution_count": 52,
   "outputs": []
  }
 ],
 "metadata": {
  "colab": {
   "provenance": []
  },
  "kernelspec": {
   "name": "python3",
   "language": "python",
   "display_name": "Python 3 (ipykernel)"
  },
  "language_info": {
   "name": "python"
  }
 },
 "nbformat": 4,
 "nbformat_minor": 0
}
