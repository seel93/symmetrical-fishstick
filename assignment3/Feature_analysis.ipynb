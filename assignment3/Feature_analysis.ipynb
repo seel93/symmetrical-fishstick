{
 "cells": [
  {
   "cell_type": "code",
   "execution_count": 1,
   "id": "initial_id",
   "metadata": {
    "collapsed": true,
    "ExecuteTime": {
     "end_time": "2024-05-07T21:12:26.396107Z",
     "start_time": "2024-05-07T21:12:25.577723Z"
    }
   },
   "outputs": [],
   "source": [
    "import pandas as pd\n",
    "from pgmpy.estimators import HillClimbSearch, BicScore\n",
    "from pgmpy.models import BayesianNetwork\n",
    "from pgmpy.estimators import MaximumLikelihoodEstimator\n",
    "from pgmpy.inference import VariableElimination"
   ]
  },
  {
   "cell_type": "code",
   "outputs": [],
   "source": [
    "# Load data\n",
    "data = pd.read_csv('precode/SPRICE_Norwegian_Maritime_Data.csv', low_memory=False)\n",
    "\n",
    "selected_columns = ['Air_temp_Act', 'Rel_Humidity_act', 'Rel_Air_Pressure', 'Wind_Speed_avg', 'Wind_Direction_vct']\n",
    "data = data[selected_columns]"
   ],
   "metadata": {
    "collapsed": false,
    "ExecuteTime": {
     "end_time": "2024-05-07T21:12:26.997768Z",
     "start_time": "2024-05-07T21:12:26.397810Z"
    }
   },
   "id": "2d8ae92565b7b4ad",
   "execution_count": 2
  },
  {
   "cell_type": "code",
   "outputs": [
    {
     "data": {
      "text/plain": "  0%|          | 0/1000000 [00:00<?, ?it/s]",
      "application/vnd.jupyter.widget-view+json": {
       "version_major": 2,
       "version_minor": 0,
       "model_id": "8a1c9f340759445bbcf80766dbe0affd"
      }
     },
     "metadata": {},
     "output_type": "display_data"
    },
    {
     "name": "stdout",
     "output_type": "stream",
     "text": [
      "Best model structure:  [('Air_temp_Act', 'Rel_Air_Pressure'), ('Rel_Humidity_act', 'Rel_Air_Pressure'), ('Wind_Speed_avg', 'Rel_Air_Pressure'), ('Wind_Direction_vct', 'Rel_Air_Pressure')]\n"
     ]
    }
   ],
   "source": [
    "# Create a BIC Score object and perform Hill Climbing search\n",
    "bic = BicScore(data)\n",
    "hc = HillClimbSearch(data)\n",
    "best_model = hc.estimate()\n",
    "\n",
    "print(\"Best model structure: \", best_model.edges())"
   ],
   "metadata": {
    "collapsed": false,
    "ExecuteTime": {
     "end_time": "2024-05-07T21:12:38.379575Z",
     "start_time": "2024-05-07T21:12:26.999013Z"
    }
   },
   "id": "49a279a6bc769814",
   "execution_count": 3
  },
  {
   "cell_type": "code",
   "outputs": [],
   "source": [
    "model = BayesianNetwork(best_model.edges())\n",
    "\n",
    "# Randomly sample a fraction of the data\n",
    "sample_data = data.sample(frac=0.1, random_state=42)  # Adjust frac as needed\n",
    "\n",
    "\n",
    "model.fit(sample_data, estimator=MaximumLikelihoodEstimator)\n",
    "\n",
    "for cpd in model.get_cpds():\n",
    "    print(\"CPD for {}: \".format(cpd.variable))\n",
    "    print(cpd)\n"
   ],
   "metadata": {
    "collapsed": false,
    "is_executing": true,
    "ExecuteTime": {
     "start_time": "2024-05-07T21:12:38.379492Z"
    }
   },
   "id": "8ef728ddc8921e9c"
  },
  {
   "cell_type": "code",
   "outputs": [],
   "source": [
    "inference = VariableElimination(model)\n",
    "# Query example: Probability of high wind given sunny weather\n",
    "result = inference.query(variables=['Wind_Speed_avg'], evidence={'Weather': 'Sunny'})\n",
    "print(result)"
   ],
   "metadata": {
    "collapsed": false,
    "is_executing": true
   },
   "id": "907300583f34ef56"
  }
 ],
 "metadata": {
  "kernelspec": {
   "display_name": "Python 3",
   "language": "python",
   "name": "python3"
  },
  "language_info": {
   "codemirror_mode": {
    "name": "ipython",
    "version": 2
   },
   "file_extension": ".py",
   "mimetype": "text/x-python",
   "name": "python",
   "nbconvert_exporter": "python",
   "pygments_lexer": "ipython2",
   "version": "2.7.6"
  }
 },
 "nbformat": 4,
 "nbformat_minor": 5
}
