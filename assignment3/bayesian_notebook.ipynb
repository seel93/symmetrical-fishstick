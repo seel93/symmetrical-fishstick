{
 "cells": [
  {
   "cell_type": "code",
   "execution_count": 543,
   "id": "initial_id",
   "metadata": {
    "collapsed": true,
    "ExecuteTime": {
     "end_time": "2024-04-30T11:04:38.794390Z",
     "start_time": "2024-04-30T11:04:38.639573Z"
    }
   },
   "outputs": [],
   "source": []
  },
  {
   "cell_type": "markdown",
   "source": [
    "# INF-2600-1 24V Artificial Intelligence: Assignment 3 Pre-code\n",
    "This code implements a Bayesian Network model for Analyzing Sensor Data for Weather Prediction using the pgmpy library in Python."
   ],
   "metadata": {
    "collapsed": false
   },
   "id": "76f25f44c035334d"
  },
  {
   "cell_type": "markdown",
   "source": [],
   "metadata": {
    "collapsed": false
   },
   "id": "bf99d0c30d2d40e6"
  },
  {
   "cell_type": "code",
   "outputs": [],
   "source": [
    "# Including the necessary libraries\n",
    "import numpy as np\n",
    "import pandas as pd\n",
    "import seaborn as sns\n",
    "import matplotlib.pyplot as plt\n",
    "from pgmpy.estimators import ParameterEstimator, MaximumLikelihoodEstimator\n",
    "from pgmpy.models import BayesianNetwork\n",
    "from pgmpy.inference import VariableElimination\n",
    "from pgmpy.factors.discrete import TabularCPD\n",
    "from pgmpy.estimators import MaximumLikelihoodEstimator"
   ],
   "metadata": {
    "collapsed": false,
    "ExecuteTime": {
     "end_time": "2024-04-30T11:04:38.817995Z",
     "start_time": "2024-04-30T11:04:38.790898Z"
    }
   },
   "id": "be43320c65525df",
   "execution_count": 544
  },
  {
   "cell_type": "markdown",
   "source": [
    "# Factoring the dataset"
   ],
   "metadata": {
    "collapsed": false
   },
   "id": "479b2973e65d61f5"
  },
  {
   "cell_type": "code",
   "outputs": [
    {
     "data": {
      "text/plain": "         date  precipitation  temp_max  temp_min  wind  weather\n0  2012-01-01            0.0      12.8       5.0   4.7  drizzle\n1  2012-01-02           10.9      10.6       2.8   4.5     rain\n2  2012-01-03            0.8      11.7       7.2   2.3     rain\n3  2012-01-04           20.3      12.2       5.6   4.7     rain\n4  2012-01-05            1.3       8.9       2.8   6.1     rain",
      "text/html": "<div>\n<style scoped>\n    .dataframe tbody tr th:only-of-type {\n        vertical-align: middle;\n    }\n\n    .dataframe tbody tr th {\n        vertical-align: top;\n    }\n\n    .dataframe thead th {\n        text-align: right;\n    }\n</style>\n<table border=\"1\" class=\"dataframe\">\n  <thead>\n    <tr style=\"text-align: right;\">\n      <th></th>\n      <th>date</th>\n      <th>precipitation</th>\n      <th>temp_max</th>\n      <th>temp_min</th>\n      <th>wind</th>\n      <th>weather</th>\n    </tr>\n  </thead>\n  <tbody>\n    <tr>\n      <th>0</th>\n      <td>2012-01-01</td>\n      <td>0.0</td>\n      <td>12.8</td>\n      <td>5.0</td>\n      <td>4.7</td>\n      <td>drizzle</td>\n    </tr>\n    <tr>\n      <th>1</th>\n      <td>2012-01-02</td>\n      <td>10.9</td>\n      <td>10.6</td>\n      <td>2.8</td>\n      <td>4.5</td>\n      <td>rain</td>\n    </tr>\n    <tr>\n      <th>2</th>\n      <td>2012-01-03</td>\n      <td>0.8</td>\n      <td>11.7</td>\n      <td>7.2</td>\n      <td>2.3</td>\n      <td>rain</td>\n    </tr>\n    <tr>\n      <th>3</th>\n      <td>2012-01-04</td>\n      <td>20.3</td>\n      <td>12.2</td>\n      <td>5.6</td>\n      <td>4.7</td>\n      <td>rain</td>\n    </tr>\n    <tr>\n      <th>4</th>\n      <td>2012-01-05</td>\n      <td>1.3</td>\n      <td>8.9</td>\n      <td>2.8</td>\n      <td>6.1</td>\n      <td>rain</td>\n    </tr>\n  </tbody>\n</table>\n</div>"
     },
     "execution_count": 545,
     "metadata": {},
     "output_type": "execute_result"
    }
   ],
   "source": [
    "# Import data, make a copy of the original\n",
    "\n",
    "df0 = pd.read_csv('precode/seattle-weather.csv')\n",
    "dfc1 = df0.copy()\n",
    "dfc1.head()"
   ],
   "metadata": {
    "collapsed": false,
    "ExecuteTime": {
     "end_time": "2024-04-30T11:04:38.855273Z",
     "start_time": "2024-04-30T11:04:38.814878Z"
    }
   },
   "id": "e184947872f94229",
   "execution_count": 545
  },
  {
   "cell_type": "code",
   "outputs": [
    {
     "name": "stdout",
     "output_type": "stream",
     "text": [
      "<class 'pandas.core.frame.DataFrame'>\n",
      "RangeIndex: 1461 entries, 0 to 1460\n",
      "Data columns (total 6 columns):\n",
      " #   Column         Non-Null Count  Dtype  \n",
      "---  ------         --------------  -----  \n",
      " 0   date           1461 non-null   object \n",
      " 1   precipitation  1461 non-null   float64\n",
      " 2   temp_max       1461 non-null   float64\n",
      " 3   temp_min       1461 non-null   float64\n",
      " 4   wind           1461 non-null   float64\n",
      " 5   weather        1461 non-null   object \n",
      "dtypes: float64(4), object(2)\n",
      "memory usage: 68.6+ KB\n"
     ]
    }
   ],
   "source": [
    "# Get characteristics of dataset including columns with missing data as well:\n",
    "dfc1.info()"
   ],
   "metadata": {
    "collapsed": false,
    "ExecuteTime": {
     "end_time": "2024-04-30T11:04:38.859062Z",
     "start_time": "2024-04-30T11:04:38.853465Z"
    }
   },
   "id": "cb0facdd7bc291e",
   "execution_count": 546
  },
  {
   "cell_type": "code",
   "outputs": [
    {
     "name": "stdout",
     "output_type": "stream",
     "text": [
      "['drizzle' 'rain' 'sun' 'snow' 'fog']\n"
     ]
    }
   ],
   "source": [
    "# Checking the unique values in the 'weather' column\n",
    "unique_fields = dfc1['weather'].unique()\n",
    "print(unique_fields)"
   ],
   "metadata": {
    "collapsed": false,
    "ExecuteTime": {
     "end_time": "2024-04-30T11:04:38.879753Z",
     "start_time": "2024-04-30T11:04:38.859666Z"
    }
   },
   "id": "6db5f6c03daa7ac6",
   "execution_count": 547
  },
  {
   "cell_type": "code",
   "outputs": [
    {
     "data": {
      "text/plain": "       precipitation     temp_max     temp_min         wind\ncount    1461.000000  1461.000000  1461.000000  1461.000000\nmean        3.029432    16.439083     8.234771     3.241136\nstd         6.680194     7.349758     5.023004     1.437825\nmin         0.000000    -1.600000    -7.100000     0.400000\n25%         0.000000    10.600000     4.400000     2.200000\n50%         0.000000    15.600000     8.300000     3.000000\n75%         2.800000    22.200000    12.200000     4.000000\nmax        55.900000    35.600000    18.300000     9.500000",
      "text/html": "<div>\n<style scoped>\n    .dataframe tbody tr th:only-of-type {\n        vertical-align: middle;\n    }\n\n    .dataframe tbody tr th {\n        vertical-align: top;\n    }\n\n    .dataframe thead th {\n        text-align: right;\n    }\n</style>\n<table border=\"1\" class=\"dataframe\">\n  <thead>\n    <tr style=\"text-align: right;\">\n      <th></th>\n      <th>precipitation</th>\n      <th>temp_max</th>\n      <th>temp_min</th>\n      <th>wind</th>\n    </tr>\n  </thead>\n  <tbody>\n    <tr>\n      <th>count</th>\n      <td>1461.000000</td>\n      <td>1461.000000</td>\n      <td>1461.000000</td>\n      <td>1461.000000</td>\n    </tr>\n    <tr>\n      <th>mean</th>\n      <td>3.029432</td>\n      <td>16.439083</td>\n      <td>8.234771</td>\n      <td>3.241136</td>\n    </tr>\n    <tr>\n      <th>std</th>\n      <td>6.680194</td>\n      <td>7.349758</td>\n      <td>5.023004</td>\n      <td>1.437825</td>\n    </tr>\n    <tr>\n      <th>min</th>\n      <td>0.000000</td>\n      <td>-1.600000</td>\n      <td>-7.100000</td>\n      <td>0.400000</td>\n    </tr>\n    <tr>\n      <th>25%</th>\n      <td>0.000000</td>\n      <td>10.600000</td>\n      <td>4.400000</td>\n      <td>2.200000</td>\n    </tr>\n    <tr>\n      <th>50%</th>\n      <td>0.000000</td>\n      <td>15.600000</td>\n      <td>8.300000</td>\n      <td>3.000000</td>\n    </tr>\n    <tr>\n      <th>75%</th>\n      <td>2.800000</td>\n      <td>22.200000</td>\n      <td>12.200000</td>\n      <td>4.000000</td>\n    </tr>\n    <tr>\n      <th>max</th>\n      <td>55.900000</td>\n      <td>35.600000</td>\n      <td>18.300000</td>\n      <td>9.500000</td>\n    </tr>\n  </tbody>\n</table>\n</div>"
     },
     "execution_count": 548,
     "metadata": {},
     "output_type": "execute_result"
    }
   ],
   "source": [
    "dfc1.describe()"
   ],
   "metadata": {
    "collapsed": false,
    "ExecuteTime": {
     "end_time": "2024-04-30T11:04:38.881682Z",
     "start_time": "2024-04-30T11:04:38.864094Z"
    }
   },
   "id": "e3cc0ec757c136bc",
   "execution_count": 548
  },
  {
   "cell_type": "code",
   "outputs": [
    {
     "data": {
      "text/plain": "         date  weather\n0  2012-01-01  drizzle\n1  2012-01-02     rain\n2  2012-01-03     rain\n3  2012-01-04     rain\n4  2012-01-05     rain",
      "text/html": "<div>\n<style scoped>\n    .dataframe tbody tr th:only-of-type {\n        vertical-align: middle;\n    }\n\n    .dataframe tbody tr th {\n        vertical-align: top;\n    }\n\n    .dataframe thead th {\n        text-align: right;\n    }\n</style>\n<table border=\"1\" class=\"dataframe\">\n  <thead>\n    <tr style=\"text-align: right;\">\n      <th></th>\n      <th>date</th>\n      <th>weather</th>\n    </tr>\n  </thead>\n  <tbody>\n    <tr>\n      <th>0</th>\n      <td>2012-01-01</td>\n      <td>drizzle</td>\n    </tr>\n    <tr>\n      <th>1</th>\n      <td>2012-01-02</td>\n      <td>rain</td>\n    </tr>\n    <tr>\n      <th>2</th>\n      <td>2012-01-03</td>\n      <td>rain</td>\n    </tr>\n    <tr>\n      <th>3</th>\n      <td>2012-01-04</td>\n      <td>rain</td>\n    </tr>\n    <tr>\n      <th>4</th>\n      <td>2012-01-05</td>\n      <td>rain</td>\n    </tr>\n  </tbody>\n</table>\n</div>"
     },
     "execution_count": 549,
     "metadata": {},
     "output_type": "execute_result"
    }
   ],
   "source": [
    "# Put categorical varaibles in a list\n",
    "categorical_lst = ['date','weather']\n",
    "# Create a seperate & smaller dataframe for categorical variables\n",
    "dfc2a = pd.DataFrame(dfc1, columns=categorical_lst, copy=True)\n",
    "dfc2a.head()"
   ],
   "metadata": {
    "collapsed": false,
    "ExecuteTime": {
     "end_time": "2024-04-30T11:04:38.924649Z",
     "start_time": "2024-04-30T11:04:38.884681Z"
    }
   },
   "id": "ffcc7eeb57c6c3e1",
   "execution_count": 549
  },
  {
   "cell_type": "code",
   "outputs": [
    {
     "data": {
      "text/plain": "   precipitation  temp_max  temp_min  wind\n0            0.0      12.8       5.0   4.7\n1           10.9      10.6       2.8   4.5\n2            0.8      11.7       7.2   2.3\n3           20.3      12.2       5.6   4.7\n4            1.3       8.9       2.8   6.1",
      "text/html": "<div>\n<style scoped>\n    .dataframe tbody tr th:only-of-type {\n        vertical-align: middle;\n    }\n\n    .dataframe tbody tr th {\n        vertical-align: top;\n    }\n\n    .dataframe thead th {\n        text-align: right;\n    }\n</style>\n<table border=\"1\" class=\"dataframe\">\n  <thead>\n    <tr style=\"text-align: right;\">\n      <th></th>\n      <th>precipitation</th>\n      <th>temp_max</th>\n      <th>temp_min</th>\n      <th>wind</th>\n    </tr>\n  </thead>\n  <tbody>\n    <tr>\n      <th>0</th>\n      <td>0.0</td>\n      <td>12.8</td>\n      <td>5.0</td>\n      <td>4.7</td>\n    </tr>\n    <tr>\n      <th>1</th>\n      <td>10.9</td>\n      <td>10.6</td>\n      <td>2.8</td>\n      <td>4.5</td>\n    </tr>\n    <tr>\n      <th>2</th>\n      <td>0.8</td>\n      <td>11.7</td>\n      <td>7.2</td>\n      <td>2.3</td>\n    </tr>\n    <tr>\n      <th>3</th>\n      <td>20.3</td>\n      <td>12.2</td>\n      <td>5.6</td>\n      <td>4.7</td>\n    </tr>\n    <tr>\n      <th>4</th>\n      <td>1.3</td>\n      <td>8.9</td>\n      <td>2.8</td>\n      <td>6.1</td>\n    </tr>\n  </tbody>\n</table>\n</div>"
     },
     "execution_count": 550,
     "metadata": {},
     "output_type": "execute_result"
    }
   ],
   "source": [
    "# Put all continuous variables into a list\n",
    "continuous_lst = ['precipitation', 'temp_max', 'temp_min', 'wind']\n",
    "# Create a seperate & smaller dataframe for our chosen variables. Use 'copy=True' so changes wont affect original\n",
    "dfc2b = pd.DataFrame(dfc1, columns=continuous_lst, copy=True)\n",
    "dfc2b.head()"
   ],
   "metadata": {
    "collapsed": false,
    "ExecuteTime": {
     "end_time": "2024-04-30T11:04:38.951160Z",
     "start_time": "2024-04-30T11:04:38.911162Z"
    }
   },
   "id": "4c99a1dd8187c9ed",
   "execution_count": 550
  },
  {
   "cell_type": "markdown",
   "source": [
    "### Create new dataframe"
   ],
   "metadata": {
    "collapsed": false
   },
   "id": "b20437eac45b77de"
  },
  {
   "cell_type": "code",
   "outputs": [],
   "source": [
    "# Create new df with variables we want to work with:\n",
    "new_cols = ['date', 'precipitation', 'temp_max', 'temp_min', 'wind', 'weather']\n",
    "\n",
    "df = df0[new_cols]\n",
    "# df.head()"
   ],
   "metadata": {
    "collapsed": false,
    "ExecuteTime": {
     "end_time": "2024-04-30T11:04:38.990183Z",
     "start_time": "2024-04-30T11:04:38.939105Z"
    }
   },
   "id": "33ac2e0777f690f9",
   "execution_count": 551
  },
  {
   "cell_type": "code",
   "outputs": [
    {
     "data": {
      "text/plain": "date             False\nprecipitation    False\ntemp_max         False\ntemp_min         False\nwind             False\nweather          False\ndtype: bool"
     },
     "execution_count": 552,
     "metadata": {},
     "output_type": "execute_result"
    }
   ],
   "source": [
    "# Let's show all columns with missing data as well:\n",
    "df[df.isnull().any(axis=1)] # any missing data in columns\n",
    "df.isnull().any()"
   ],
   "metadata": {
    "collapsed": false,
    "ExecuteTime": {
     "end_time": "2024-04-30T11:04:39.019541Z",
     "start_time": "2024-04-30T11:04:38.977144Z"
    }
   },
   "id": "20bff55898f74af7",
   "execution_count": 552
  },
  {
   "cell_type": "code",
   "outputs": [
    {
     "data": {
      "text/plain": "         date  precipitation  temp_max  temp_min  wind  weather\n0  2012-01-01            0.0      12.8       5.0   4.7  drizzle\n1  2012-01-02           10.9      10.6       2.8   4.5     rain\n2  2012-01-03            0.8      11.7       7.2   2.3     rain\n3  2012-01-04           20.3      12.2       5.6   4.7     rain\n4  2012-01-05            1.3       8.9       2.8   6.1     rain",
      "text/html": "<div>\n<style scoped>\n    .dataframe tbody tr th:only-of-type {\n        vertical-align: middle;\n    }\n\n    .dataframe tbody tr th {\n        vertical-align: top;\n    }\n\n    .dataframe thead th {\n        text-align: right;\n    }\n</style>\n<table border=\"1\" class=\"dataframe\">\n  <thead>\n    <tr style=\"text-align: right;\">\n      <th></th>\n      <th>date</th>\n      <th>precipitation</th>\n      <th>temp_max</th>\n      <th>temp_min</th>\n      <th>wind</th>\n      <th>weather</th>\n    </tr>\n  </thead>\n  <tbody>\n    <tr>\n      <th>0</th>\n      <td>2012-01-01</td>\n      <td>0.0</td>\n      <td>12.8</td>\n      <td>5.0</td>\n      <td>4.7</td>\n      <td>drizzle</td>\n    </tr>\n    <tr>\n      <th>1</th>\n      <td>2012-01-02</td>\n      <td>10.9</td>\n      <td>10.6</td>\n      <td>2.8</td>\n      <td>4.5</td>\n      <td>rain</td>\n    </tr>\n    <tr>\n      <th>2</th>\n      <td>2012-01-03</td>\n      <td>0.8</td>\n      <td>11.7</td>\n      <td>7.2</td>\n      <td>2.3</td>\n      <td>rain</td>\n    </tr>\n    <tr>\n      <th>3</th>\n      <td>2012-01-04</td>\n      <td>20.3</td>\n      <td>12.2</td>\n      <td>5.6</td>\n      <td>4.7</td>\n      <td>rain</td>\n    </tr>\n    <tr>\n      <th>4</th>\n      <td>2012-01-05</td>\n      <td>1.3</td>\n      <td>8.9</td>\n      <td>2.8</td>\n      <td>6.1</td>\n      <td>rain</td>\n    </tr>\n  </tbody>\n</table>\n</div>"
     },
     "execution_count": 553,
     "metadata": {},
     "output_type": "execute_result"
    }
   ],
   "source": [
    "num_stdv = 1\n",
    "\n",
    "# Define the labels dictionary\n",
    "labels = {\n",
    "\n",
    "}\n",
    "\n",
    "# Create bounds for continuous labels\n",
    "\n",
    "\n",
    "df.head()"
   ],
   "metadata": {
    "collapsed": false,
    "ExecuteTime": {
     "end_time": "2024-04-30T11:04:39.028736Z",
     "start_time": "2024-04-30T11:04:39.010651Z"
    }
   },
   "id": "ffdc7f0eade3c5ab",
   "execution_count": 553
  },
  {
   "cell_type": "code",
   "outputs": [],
   "source": [
    "def discretize_column(df, column_name, bins, labels, restore=False, original_data=None):\n",
    "    \"\"\"\n",
    "    Discretize or restore a specified column in a pandas DataFrame.\n",
    "    \n",
    "    Parameters:\n",
    "    df (pandas.DataFrame): The DataFrame containing the column to discretize.\n",
    "    column_name (str): The name of the column to discretize.\n",
    "    bins (list of numbers): The bin edges for discretization.\n",
    "    labels (list of str): The labels for the discrete bins.\n",
    "    restore (bool): If True, restore the column to its original state.\n",
    "    original_data (pandas.Series, optional): The original column data for restoration.\n",
    "    \n",
    "    Returns:\n",
    "    pandas.DataFrame: The DataFrame with the discretized or restored column.\n",
    "    pandas.Series (optional): The original column data if discretized for the first time.\n",
    "    \"\"\"\n",
    "    \n",
    "    if restore:\n",
    "        if original_data is not None and column_name in df:\n",
    "            df[column_name] = original_data\n",
    "        else:\n",
    "            raise ValueError(\"Original data is not provided for restoration.\")\n",
    "    else:\n",
    "        if column_name in df:\n",
    "            original_data = df[column_name].copy()\n",
    "            df[column_name] = pd.cut(df[column_name], bins=bins, labels=labels, include_lowest=True)\n",
    "        else:\n",
    "            raise ValueError(f\"Column {column_name} does not exist in the DataFrame.\")\n",
    "    \n",
    "    return df, original_data"
   ],
   "metadata": {
    "collapsed": false,
    "ExecuteTime": {
     "end_time": "2024-04-30T11:04:39.072945Z",
     "start_time": "2024-04-30T11:04:39.030756Z"
    }
   },
   "id": "d1f959829b631148",
   "execution_count": 554
  },
  {
   "cell_type": "markdown",
   "source": [
    "# Creating Bayes Nets"
   ],
   "metadata": {
    "collapsed": false
   },
   "id": "4c35a254420ba884"
  },
  {
   "cell_type": "code",
   "outputs": [
    {
     "name": "stdout",
     "output_type": "stream",
     "text": [
      "key error: 'high', no bueno key\n"
     ]
    }
   ],
   "source": [
    "# Define the hierarchy\n",
    "weather_model = BayesianNetwork([\n",
    "    ('weather', 'precipitation'),\n",
    "    ('weather', 'wind'),\n",
    "    ('precipitation', 'temp_max'),\n",
    "    ('wind', 'temp_max'),\n",
    "    ('wind', 'temp_min')\n",
    "])\n",
    "\n",
    "estimator = MaximumLikelihoodEstimator(weather_model, df)\n",
    "cpds = estimator.get_parameters()\n",
    "weather_model.add_cpds(*cpds)\n",
    "\n",
    "assert weather_model.check_model(), \"This model is inconsistent\"\n",
    "\n",
    "#for cpd in weather_model.get_cpds():\n",
    "#    print(cpd)\n",
    "    \n",
    "inference = VariableElimination(weather_model)\n",
    "\n",
    "\n",
    "df, original_precipitation = discretize_column(\n",
    "    df=df,\n",
    "    column_name='wind',\n",
    "    bins=[-float('inf'), 5, 15, float('inf')],\n",
    "    labels=['low', 'medium', 'high']\n",
    ")\n",
    "\n",
    "try:\n",
    "    result = inference.query(variables=['weather'],evidence={'precipitation': 'high'})\n",
    "    print(result)\n",
    "except KeyError as e:\n",
    "    print(f'key error: {e}, no bueno key')\n",
    "finally:\n",
    "    df, _ = discretize_column(\n",
    "     df=df,\n",
    "     column_name='wind',\n",
    "     bins=None,\n",
    "     labels=None,\n",
    "     restore=True,\n",
    "     original_data=original_precipitation\n",
    "    )\n",
    "    "
   ],
   "metadata": {
    "collapsed": false,
    "ExecuteTime": {
     "end_time": "2024-04-30T11:04:39.141780Z",
     "start_time": "2024-04-30T11:04:39.068985Z"
    }
   },
   "id": "347d12f52afe5e3a",
   "execution_count": 555
  },
  {
   "cell_type": "code",
   "outputs": [
    {
     "name": "stdout",
     "output_type": "stream",
     "text": [
      "Discretized wind column categories: Index(['low', 'medium', 'high'], dtype='object')\n",
      "Counts per category: wind\n",
      "low       788\n",
      "medium    499\n",
      "high      174\n",
      "Name: count, dtype: int64\n",
      "+------------------+-----------+\n",
      "| weather(drizzle) | 0.0362765 |\n",
      "+------------------+-----------+\n",
      "| weather(fog)     | 0.0691307 |\n",
      "+------------------+-----------+\n",
      "| weather(rain)    | 0.438741  |\n",
      "+------------------+-----------+\n",
      "| weather(snow)    | 0.017796  |\n",
      "+------------------+-----------+\n",
      "| weather(sun)     | 0.438056  |\n",
      "+------------------+-----------+\n",
      "+---------------------+-----+--------------+\n",
      "| weather             | ... | weather(sun) |\n",
      "+---------------------+-----+--------------+\n",
      "| precipitation(0.0)  | ... | 1.0          |\n",
      "+---------------------+-----+--------------+\n",
      "| precipitation(0.3)  | ... | 0.0          |\n",
      "+---------------------+-----+--------------+\n",
      "| precipitation(0.5)  | ... | 0.0          |\n",
      "+---------------------+-----+--------------+\n",
      "| precipitation(0.8)  | ... | 0.0          |\n",
      "+---------------------+-----+--------------+\n",
      "| precipitation(1.0)  | ... | 0.0          |\n",
      "+---------------------+-----+--------------+\n",
      "| precipitation(1.3)  | ... | 0.0          |\n",
      "+---------------------+-----+--------------+\n",
      "| precipitation(1.5)  | ... | 0.0          |\n",
      "+---------------------+-----+--------------+\n",
      "| precipitation(1.8)  | ... | 0.0          |\n",
      "+---------------------+-----+--------------+\n",
      "| precipitation(2.0)  | ... | 0.0          |\n",
      "+---------------------+-----+--------------+\n",
      "| precipitation(2.3)  | ... | 0.0          |\n",
      "+---------------------+-----+--------------+\n",
      "| precipitation(2.5)  | ... | 0.0          |\n",
      "+---------------------+-----+--------------+\n",
      "| precipitation(2.8)  | ... | 0.0          |\n",
      "+---------------------+-----+--------------+\n",
      "| precipitation(3.0)  | ... | 0.0          |\n",
      "+---------------------+-----+--------------+\n",
      "| precipitation(3.3)  | ... | 0.0          |\n",
      "+---------------------+-----+--------------+\n",
      "| precipitation(3.6)  | ... | 0.0          |\n",
      "+---------------------+-----+--------------+\n",
      "| precipitation(3.8)  | ... | 0.0          |\n",
      "+---------------------+-----+--------------+\n",
      "| precipitation(4.1)  | ... | 0.0          |\n",
      "+---------------------+-----+--------------+\n",
      "| precipitation(4.3)  | ... | 0.0          |\n",
      "+---------------------+-----+--------------+\n",
      "| precipitation(4.6)  | ... | 0.0          |\n",
      "+---------------------+-----+--------------+\n",
      "| precipitation(4.8)  | ... | 0.0          |\n",
      "+---------------------+-----+--------------+\n",
      "| precipitation(5.1)  | ... | 0.0          |\n",
      "+---------------------+-----+--------------+\n",
      "| precipitation(5.3)  | ... | 0.0          |\n",
      "+---------------------+-----+--------------+\n",
      "| precipitation(5.6)  | ... | 0.0          |\n",
      "+---------------------+-----+--------------+\n",
      "| precipitation(5.8)  | ... | 0.0          |\n",
      "+---------------------+-----+--------------+\n",
      "| precipitation(6.1)  | ... | 0.0          |\n",
      "+---------------------+-----+--------------+\n",
      "| precipitation(6.4)  | ... | 0.0          |\n",
      "+---------------------+-----+--------------+\n",
      "| precipitation(6.6)  | ... | 0.0          |\n",
      "+---------------------+-----+--------------+\n",
      "| precipitation(6.9)  | ... | 0.0          |\n",
      "+---------------------+-----+--------------+\n",
      "| precipitation(7.1)  | ... | 0.0          |\n",
      "+---------------------+-----+--------------+\n",
      "| precipitation(7.4)  | ... | 0.0          |\n",
      "+---------------------+-----+--------------+\n",
      "| precipitation(7.6)  | ... | 0.0          |\n",
      "+---------------------+-----+--------------+\n",
      "| precipitation(7.9)  | ... | 0.0          |\n",
      "+---------------------+-----+--------------+\n",
      "| precipitation(8.1)  | ... | 0.0          |\n",
      "+---------------------+-----+--------------+\n",
      "| precipitation(8.4)  | ... | 0.0          |\n",
      "+---------------------+-----+--------------+\n",
      "| precipitation(8.6)  | ... | 0.0          |\n",
      "+---------------------+-----+--------------+\n",
      "| precipitation(8.9)  | ... | 0.0          |\n",
      "+---------------------+-----+--------------+\n",
      "| precipitation(9.1)  | ... | 0.0          |\n",
      "+---------------------+-----+--------------+\n",
      "| precipitation(9.4)  | ... | 0.0          |\n",
      "+---------------------+-----+--------------+\n",
      "| precipitation(9.7)  | ... | 0.0          |\n",
      "+---------------------+-----+--------------+\n",
      "| precipitation(9.9)  | ... | 0.0          |\n",
      "+---------------------+-----+--------------+\n",
      "| precipitation(10.2) | ... | 0.0          |\n",
      "+---------------------+-----+--------------+\n",
      "| precipitation(10.4) | ... | 0.0          |\n",
      "+---------------------+-----+--------------+\n",
      "| precipitation(10.7) | ... | 0.0          |\n",
      "+---------------------+-----+--------------+\n",
      "| precipitation(10.9) | ... | 0.0          |\n",
      "+---------------------+-----+--------------+\n",
      "| precipitation(11.2) | ... | 0.0          |\n",
      "+---------------------+-----+--------------+\n",
      "| precipitation(11.4) | ... | 0.0          |\n",
      "+---------------------+-----+--------------+\n",
      "| precipitation(11.7) | ... | 0.0          |\n",
      "+---------------------+-----+--------------+\n",
      "| precipitation(11.9) | ... | 0.0          |\n",
      "+---------------------+-----+--------------+\n",
      "| precipitation(12.2) | ... | 0.0          |\n",
      "+---------------------+-----+--------------+\n",
      "| precipitation(12.4) | ... | 0.0          |\n",
      "+---------------------+-----+--------------+\n",
      "| precipitation(12.7) | ... | 0.0          |\n",
      "+---------------------+-----+--------------+\n",
      "| precipitation(13.0) | ... | 0.0          |\n",
      "+---------------------+-----+--------------+\n",
      "| precipitation(13.2) | ... | 0.0          |\n",
      "+---------------------+-----+--------------+\n",
      "| precipitation(13.5) | ... | 0.0          |\n",
      "+---------------------+-----+--------------+\n",
      "| precipitation(13.7) | ... | 0.0          |\n",
      "+---------------------+-----+--------------+\n",
      "| precipitation(14.0) | ... | 0.0          |\n",
      "+---------------------+-----+--------------+\n",
      "| precipitation(14.2) | ... | 0.0          |\n",
      "+---------------------+-----+--------------+\n",
      "| precipitation(14.5) | ... | 0.0          |\n",
      "+---------------------+-----+--------------+\n",
      "| precipitation(15.0) | ... | 0.0          |\n",
      "+---------------------+-----+--------------+\n",
      "| precipitation(15.2) | ... | 0.0          |\n",
      "+---------------------+-----+--------------+\n",
      "| precipitation(15.7) | ... | 0.0          |\n",
      "+---------------------+-----+--------------+\n",
      "| precipitation(16.0) | ... | 0.0          |\n",
      "+---------------------+-----+--------------+\n",
      "| precipitation(16.3) | ... | 0.0          |\n",
      "+---------------------+-----+--------------+\n",
      "| precipitation(16.5) | ... | 0.0          |\n",
      "+---------------------+-----+--------------+\n",
      "| precipitation(16.8) | ... | 0.0          |\n",
      "+---------------------+-----+--------------+\n",
      "| precipitation(17.0) | ... | 0.0          |\n",
      "+---------------------+-----+--------------+\n",
      "| precipitation(17.3) | ... | 0.0          |\n",
      "+---------------------+-----+--------------+\n",
      "| precipitation(18.3) | ... | 0.0          |\n",
      "+---------------------+-----+--------------+\n",
      "| precipitation(18.5) | ... | 0.0          |\n",
      "+---------------------+-----+--------------+\n",
      "| precipitation(18.8) | ... | 0.0          |\n",
      "+---------------------+-----+--------------+\n",
      "| precipitation(19.1) | ... | 0.0          |\n",
      "+---------------------+-----+--------------+\n",
      "| precipitation(19.3) | ... | 0.0          |\n",
      "+---------------------+-----+--------------+\n",
      "| precipitation(19.6) | ... | 0.0          |\n",
      "+---------------------+-----+--------------+\n",
      "| precipitation(19.8) | ... | 0.0          |\n",
      "+---------------------+-----+--------------+\n",
      "| precipitation(20.3) | ... | 0.0          |\n",
      "+---------------------+-----+--------------+\n",
      "| precipitation(20.6) | ... | 0.0          |\n",
      "+---------------------+-----+--------------+\n",
      "| precipitation(20.8) | ... | 0.0          |\n",
      "+---------------------+-----+--------------+\n",
      "| precipitation(21.3) | ... | 0.0          |\n",
      "+---------------------+-----+--------------+\n",
      "| precipitation(21.6) | ... | 0.0          |\n",
      "+---------------------+-----+--------------+\n",
      "| precipitation(21.8) | ... | 0.0          |\n",
      "+---------------------+-----+--------------+\n",
      "| precipitation(22.1) | ... | 0.0          |\n",
      "+---------------------+-----+--------------+\n",
      "| precipitation(22.4) | ... | 0.0          |\n",
      "+---------------------+-----+--------------+\n",
      "| precipitation(22.6) | ... | 0.0          |\n",
      "+---------------------+-----+--------------+\n",
      "| precipitation(23.1) | ... | 0.0          |\n",
      "+---------------------+-----+--------------+\n",
      "| precipitation(23.6) | ... | 0.0          |\n",
      "+---------------------+-----+--------------+\n",
      "| precipitation(23.9) | ... | 0.0          |\n",
      "+---------------------+-----+--------------+\n",
      "| precipitation(25.4) | ... | 0.0          |\n",
      "+---------------------+-----+--------------+\n",
      "| precipitation(26.2) | ... | 0.0          |\n",
      "+---------------------+-----+--------------+\n",
      "| precipitation(26.4) | ... | 0.0          |\n",
      "+---------------------+-----+--------------+\n",
      "| precipitation(27.4) | ... | 0.0          |\n",
      "+---------------------+-----+--------------+\n",
      "| precipitation(27.7) | ... | 0.0          |\n",
      "+---------------------+-----+--------------+\n",
      "| precipitation(28.7) | ... | 0.0          |\n",
      "+---------------------+-----+--------------+\n",
      "| precipitation(29.5) | ... | 0.0          |\n",
      "+---------------------+-----+--------------+\n",
      "| precipitation(30.0) | ... | 0.0          |\n",
      "+---------------------+-----+--------------+\n",
      "| precipitation(30.5) | ... | 0.0          |\n",
      "+---------------------+-----+--------------+\n",
      "| precipitation(32.0) | ... | 0.0          |\n",
      "+---------------------+-----+--------------+\n",
      "| precipitation(32.3) | ... | 0.0          |\n",
      "+---------------------+-----+--------------+\n",
      "| precipitation(32.5) | ... | 0.0          |\n",
      "+---------------------+-----+--------------+\n",
      "| precipitation(33.0) | ... | 0.0          |\n",
      "+---------------------+-----+--------------+\n",
      "| precipitation(33.3) | ... | 0.0          |\n",
      "+---------------------+-----+--------------+\n",
      "| precipitation(33.5) | ... | 0.0          |\n",
      "+---------------------+-----+--------------+\n",
      "| precipitation(34.3) | ... | 0.0          |\n",
      "+---------------------+-----+--------------+\n",
      "| precipitation(34.5) | ... | 0.0          |\n",
      "+---------------------+-----+--------------+\n",
      "| precipitation(35.6) | ... | 0.0          |\n",
      "+---------------------+-----+--------------+\n",
      "| precipitation(38.4) | ... | 0.0          |\n",
      "+---------------------+-----+--------------+\n",
      "| precipitation(39.1) | ... | 0.0          |\n",
      "+---------------------+-----+--------------+\n",
      "| precipitation(43.4) | ... | 0.0          |\n",
      "+---------------------+-----+--------------+\n",
      "| precipitation(46.7) | ... | 0.0          |\n",
      "+---------------------+-----+--------------+\n",
      "| precipitation(47.2) | ... | 0.0          |\n",
      "+---------------------+-----+--------------+\n",
      "| precipitation(54.1) | ... | 0.0          |\n",
      "+---------------------+-----+--------------+\n",
      "| precipitation(55.9) | ... | 0.0          |\n",
      "+---------------------+-----+--------------+\n",
      "+--------------+-----+--------------+\n",
      "| weather      | ... | weather(sun) |\n",
      "+--------------+-----+--------------+\n",
      "| wind(high)   | ... | 0.059375     |\n",
      "+--------------+-----+--------------+\n",
      "| wind(low)    | ... | 0.6203125    |\n",
      "+--------------+-----+--------------+\n",
      "| wind(medium) | ... | 0.3203125    |\n",
      "+--------------+-----+--------------+\n",
      "+----------------+-----+---------------------+\n",
      "| precipitation  | ... | precipitation(55.9) |\n",
      "+----------------+-----+---------------------+\n",
      "| wind           | ... | wind(medium)        |\n",
      "+----------------+-----+---------------------+\n",
      "| temp_max(-1.6) | ... | 0.0                 |\n",
      "+----------------+-----+---------------------+\n",
      "| temp_max(-1.1) | ... | 0.0                 |\n",
      "+----------------+-----+---------------------+\n",
      "| temp_max(-0.5) | ... | 0.0                 |\n",
      "+----------------+-----+---------------------+\n",
      "| temp_max(0.0)  | ... | 0.0                 |\n",
      "+----------------+-----+---------------------+\n",
      "| temp_max(1.1)  | ... | 0.0                 |\n",
      "+----------------+-----+---------------------+\n",
      "| temp_max(1.7)  | ... | 0.0                 |\n",
      "+----------------+-----+---------------------+\n",
      "| temp_max(2.2)  | ... | 0.0                 |\n",
      "+----------------+-----+---------------------+\n",
      "| temp_max(2.8)  | ... | 0.0                 |\n",
      "+----------------+-----+---------------------+\n",
      "| temp_max(3.3)  | ... | 0.0                 |\n",
      "+----------------+-----+---------------------+\n",
      "| temp_max(3.9)  | ... | 0.0                 |\n",
      "+----------------+-----+---------------------+\n",
      "| temp_max(4.4)  | ... | 0.0                 |\n",
      "+----------------+-----+---------------------+\n",
      "| temp_max(5.0)  | ... | 0.0                 |\n",
      "+----------------+-----+---------------------+\n",
      "| temp_max(5.6)  | ... | 0.0                 |\n",
      "+----------------+-----+---------------------+\n",
      "| temp_max(6.1)  | ... | 0.0                 |\n",
      "+----------------+-----+---------------------+\n",
      "| temp_max(6.7)  | ... | 0.0                 |\n",
      "+----------------+-----+---------------------+\n",
      "| temp_max(7.2)  | ... | 0.0                 |\n",
      "+----------------+-----+---------------------+\n",
      "| temp_max(7.8)  | ... | 0.0                 |\n",
      "+----------------+-----+---------------------+\n",
      "| temp_max(8.3)  | ... | 0.0                 |\n",
      "+----------------+-----+---------------------+\n",
      "| temp_max(8.9)  | ... | 0.0                 |\n",
      "+----------------+-----+---------------------+\n",
      "| temp_max(9.4)  | ... | 0.0                 |\n",
      "+----------------+-----+---------------------+\n",
      "| temp_max(10.0) | ... | 0.0                 |\n",
      "+----------------+-----+---------------------+\n",
      "| temp_max(10.6) | ... | 1.0                 |\n",
      "+----------------+-----+---------------------+\n",
      "| temp_max(11.1) | ... | 0.0                 |\n",
      "+----------------+-----+---------------------+\n",
      "| temp_max(11.7) | ... | 0.0                 |\n",
      "+----------------+-----+---------------------+\n",
      "| temp_max(12.2) | ... | 0.0                 |\n",
      "+----------------+-----+---------------------+\n",
      "| temp_max(12.8) | ... | 0.0                 |\n",
      "+----------------+-----+---------------------+\n",
      "| temp_max(13.3) | ... | 0.0                 |\n",
      "+----------------+-----+---------------------+\n",
      "| temp_max(13.9) | ... | 0.0                 |\n",
      "+----------------+-----+---------------------+\n",
      "| temp_max(14.4) | ... | 0.0                 |\n",
      "+----------------+-----+---------------------+\n",
      "| temp_max(15.0) | ... | 0.0                 |\n",
      "+----------------+-----+---------------------+\n",
      "| temp_max(15.6) | ... | 0.0                 |\n",
      "+----------------+-----+---------------------+\n",
      "| temp_max(16.1) | ... | 0.0                 |\n",
      "+----------------+-----+---------------------+\n",
      "| temp_max(16.7) | ... | 0.0                 |\n",
      "+----------------+-----+---------------------+\n",
      "| temp_max(17.2) | ... | 0.0                 |\n",
      "+----------------+-----+---------------------+\n",
      "| temp_max(17.8) | ... | 0.0                 |\n",
      "+----------------+-----+---------------------+\n",
      "| temp_max(18.3) | ... | 0.0                 |\n",
      "+----------------+-----+---------------------+\n",
      "| temp_max(18.9) | ... | 0.0                 |\n",
      "+----------------+-----+---------------------+\n",
      "| temp_max(19.4) | ... | 0.0                 |\n",
      "+----------------+-----+---------------------+\n",
      "| temp_max(20.0) | ... | 0.0                 |\n",
      "+----------------+-----+---------------------+\n",
      "| temp_max(20.6) | ... | 0.0                 |\n",
      "+----------------+-----+---------------------+\n",
      "| temp_max(21.1) | ... | 0.0                 |\n",
      "+----------------+-----+---------------------+\n",
      "| temp_max(21.7) | ... | 0.0                 |\n",
      "+----------------+-----+---------------------+\n",
      "| temp_max(22.2) | ... | 0.0                 |\n",
      "+----------------+-----+---------------------+\n",
      "| temp_max(22.8) | ... | 0.0                 |\n",
      "+----------------+-----+---------------------+\n",
      "| temp_max(23.3) | ... | 0.0                 |\n",
      "+----------------+-----+---------------------+\n",
      "| temp_max(23.9) | ... | 0.0                 |\n",
      "+----------------+-----+---------------------+\n",
      "| temp_max(24.4) | ... | 0.0                 |\n",
      "+----------------+-----+---------------------+\n",
      "| temp_max(25.0) | ... | 0.0                 |\n",
      "+----------------+-----+---------------------+\n",
      "| temp_max(25.6) | ... | 0.0                 |\n",
      "+----------------+-----+---------------------+\n",
      "| temp_max(26.1) | ... | 0.0                 |\n",
      "+----------------+-----+---------------------+\n",
      "| temp_max(26.7) | ... | 0.0                 |\n",
      "+----------------+-----+---------------------+\n",
      "| temp_max(27.2) | ... | 0.0                 |\n",
      "+----------------+-----+---------------------+\n",
      "| temp_max(27.8) | ... | 0.0                 |\n",
      "+----------------+-----+---------------------+\n",
      "| temp_max(28.3) | ... | 0.0                 |\n",
      "+----------------+-----+---------------------+\n",
      "| temp_max(28.9) | ... | 0.0                 |\n",
      "+----------------+-----+---------------------+\n",
      "| temp_max(29.4) | ... | 0.0                 |\n",
      "+----------------+-----+---------------------+\n",
      "| temp_max(30.0) | ... | 0.0                 |\n",
      "+----------------+-----+---------------------+\n",
      "| temp_max(30.6) | ... | 0.0                 |\n",
      "+----------------+-----+---------------------+\n",
      "| temp_max(31.1) | ... | 0.0                 |\n",
      "+----------------+-----+---------------------+\n",
      "| temp_max(31.7) | ... | 0.0                 |\n",
      "+----------------+-----+---------------------+\n",
      "| temp_max(32.2) | ... | 0.0                 |\n",
      "+----------------+-----+---------------------+\n",
      "| temp_max(32.8) | ... | 0.0                 |\n",
      "+----------------+-----+---------------------+\n",
      "| temp_max(33.3) | ... | 0.0                 |\n",
      "+----------------+-----+---------------------+\n",
      "| temp_max(33.9) | ... | 0.0                 |\n",
      "+----------------+-----+---------------------+\n",
      "| temp_max(34.4) | ... | 0.0                 |\n",
      "+----------------+-----+---------------------+\n",
      "| temp_max(35.0) | ... | 0.0                 |\n",
      "+----------------+-----+---------------------+\n",
      "| temp_max(35.6) | ... | 0.0                 |\n",
      "+----------------+-----+---------------------+\n",
      "+----------------+-----+----------------------+\n",
      "| wind           | ... | wind(medium)         |\n",
      "+----------------+-----+----------------------+\n",
      "| temp_min(-7.1) | ... | 0.002004008016032064 |\n",
      "+----------------+-----+----------------------+\n",
      "| temp_min(-6.6) | ... | 0.0                  |\n",
      "+----------------+-----+----------------------+\n",
      "| temp_min(-6.0) | ... | 0.002004008016032064 |\n",
      "+----------------+-----+----------------------+\n",
      "| temp_min(-5.5) | ... | 0.0                  |\n",
      "+----------------+-----+----------------------+\n",
      "| temp_min(-4.9) | ... | 0.004008016032064128 |\n",
      "+----------------+-----+----------------------+\n",
      "| temp_min(-4.4) | ... | 0.0                  |\n",
      "+----------------+-----+----------------------+\n",
      "| temp_min(-4.3) | ... | 0.002004008016032064 |\n",
      "+----------------+-----+----------------------+\n",
      "| temp_min(-3.9) | ... | 0.0                  |\n",
      "+----------------+-----+----------------------+\n",
      "| temp_min(-3.8) | ... | 0.0                  |\n",
      "+----------------+-----+----------------------+\n",
      "| temp_min(-3.3) | ... | 0.002004008016032064 |\n",
      "+----------------+-----+----------------------+\n",
      "| temp_min(-3.2) | ... | 0.0                  |\n",
      "+----------------+-----+----------------------+\n",
      "| temp_min(-2.8) | ... | 0.004008016032064128 |\n",
      "+----------------+-----+----------------------+\n",
      "| temp_min(-2.7) | ... | 0.0                  |\n",
      "+----------------+-----+----------------------+\n",
      "| temp_min(-2.2) | ... | 0.0                  |\n",
      "+----------------+-----+----------------------+\n",
      "| temp_min(-2.1) | ... | 0.01002004008016032  |\n",
      "+----------------+-----+----------------------+\n",
      "| temp_min(-1.7) | ... | 0.0                  |\n",
      "+----------------+-----+----------------------+\n",
      "| temp_min(-1.6) | ... | 0.002004008016032064 |\n",
      "+----------------+-----+----------------------+\n",
      "| temp_min(-1.1) | ... | 0.004008016032064128 |\n",
      "+----------------+-----+----------------------+\n",
      "| temp_min(-1.0) | ... | 0.004008016032064128 |\n",
      "+----------------+-----+----------------------+\n",
      "| temp_min(-0.6) | ... | 0.002004008016032064 |\n",
      "+----------------+-----+----------------------+\n",
      "| temp_min(-0.5) | ... | 0.006012024048096192 |\n",
      "+----------------+-----+----------------------+\n",
      "| temp_min(0.0)  | ... | 0.008016032064128256 |\n",
      "+----------------+-----+----------------------+\n",
      "| temp_min(0.6)  | ... | 0.01603206412825651  |\n",
      "+----------------+-----+----------------------+\n",
      "| temp_min(1.1)  | ... | 0.01603206412825651  |\n",
      "+----------------+-----+----------------------+\n",
      "| temp_min(1.7)  | ... | 0.02004008016032064  |\n",
      "+----------------+-----+----------------------+\n",
      "| temp_min(2.2)  | ... | 0.01603206412825651  |\n",
      "+----------------+-----+----------------------+\n",
      "| temp_min(2.8)  | ... | 0.026052104208416832 |\n",
      "+----------------+-----+----------------------+\n",
      "| temp_min(3.3)  | ... | 0.022044088176352707 |\n",
      "+----------------+-----+----------------------+\n",
      "| temp_min(3.9)  | ... | 0.03006012024048096  |\n",
      "+----------------+-----+----------------------+\n",
      "| temp_min(4.4)  | ... | 0.03206412825651302  |\n",
      "+----------------+-----+----------------------+\n",
      "| temp_min(5.0)  | ... | 0.028056112224448898 |\n",
      "+----------------+-----+----------------------+\n",
      "| temp_min(5.6)  | ... | 0.03206412825651302  |\n",
      "+----------------+-----+----------------------+\n",
      "| temp_min(6.1)  | ... | 0.04809619238476954  |\n",
      "+----------------+-----+----------------------+\n",
      "| temp_min(6.7)  | ... | 0.04208416833667335  |\n",
      "+----------------+-----+----------------------+\n",
      "| temp_min(7.2)  | ... | 0.04008016032064128  |\n",
      "+----------------+-----+----------------------+\n",
      "| temp_min(7.8)  | ... | 0.026052104208416832 |\n",
      "+----------------+-----+----------------------+\n",
      "| temp_min(8.3)  | ... | 0.03807615230460922  |\n",
      "+----------------+-----+----------------------+\n",
      "| temp_min(8.9)  | ... | 0.050100200400801605 |\n",
      "+----------------+-----+----------------------+\n",
      "| temp_min(9.4)  | ... | 0.04208416833667335  |\n",
      "+----------------+-----+----------------------+\n",
      "| temp_min(10.0) | ... | 0.03406813627254509  |\n",
      "+----------------+-----+----------------------+\n",
      "| temp_min(10.6) | ... | 0.026052104208416832 |\n",
      "+----------------+-----+----------------------+\n",
      "| temp_min(11.1) | ... | 0.050100200400801605 |\n",
      "+----------------+-----+----------------------+\n",
      "| temp_min(11.7) | ... | 0.04208416833667335  |\n",
      "+----------------+-----+----------------------+\n",
      "| temp_min(12.2) | ... | 0.03406813627254509  |\n",
      "+----------------+-----+----------------------+\n",
      "| temp_min(12.8) | ... | 0.04408817635270541  |\n",
      "+----------------+-----+----------------------+\n",
      "| temp_min(13.3) | ... | 0.03006012024048096  |\n",
      "+----------------+-----+----------------------+\n",
      "| temp_min(13.9) | ... | 0.03807615230460922  |\n",
      "+----------------+-----+----------------------+\n",
      "| temp_min(14.4) | ... | 0.03206412825651302  |\n",
      "+----------------+-----+----------------------+\n",
      "| temp_min(15.0) | ... | 0.028056112224448898 |\n",
      "+----------------+-----+----------------------+\n",
      "| temp_min(15.6) | ... | 0.02004008016032064  |\n",
      "+----------------+-----+----------------------+\n",
      "| temp_min(16.1) | ... | 0.01002004008016032  |\n",
      "+----------------+-----+----------------------+\n",
      "| temp_min(16.7) | ... | 0.012024048096192385 |\n",
      "+----------------+-----+----------------------+\n",
      "| temp_min(17.2) | ... | 0.01002004008016032  |\n",
      "+----------------+-----+----------------------+\n",
      "| temp_min(17.8) | ... | 0.01002004008016032  |\n",
      "+----------------+-----+----------------------+\n",
      "| temp_min(18.3) | ... | 0.002004008016032064 |\n",
      "+----------------+-----+----------------------+\n",
      "+------------------+----------------+\n",
      "| weather          |   phi(weather) |\n",
      "+==================+================+\n",
      "| weather(drizzle) |         0.0000 |\n",
      "+------------------+----------------+\n",
      "| weather(fog)     |         0.0287 |\n",
      "+------------------+----------------+\n",
      "| weather(rain)    |         0.6897 |\n",
      "+------------------+----------------+\n",
      "| weather(snow)    |         0.0632 |\n",
      "+------------------+----------------+\n",
      "| weather(sun)     |         0.2184 |\n",
      "+------------------+----------------+\n"
     ]
    }
   ],
   "source": [
    "import pandas as pd\n",
    "from pgmpy.models import BayesianModel\n",
    "from pgmpy.estimators import MaximumLikelihoodEstimator\n",
    "from pgmpy.inference import VariableElimination\n",
    "\n",
    "# Assume df is already loaded and structured as mentioned previously\n",
    "\n",
    "# Discretization details\n",
    "bins = [-float('inf'), 3, 5, float('inf')]\n",
    "labels = ['low', 'medium', 'high']\n",
    "\n",
    "# Apply discretization\n",
    "df['wind'] = pd.cut(df['wind'], bins=bins, labels=labels, include_lowest=True)\n",
    "print(\"Discretized wind column categories:\", df['wind'].cat.categories)\n",
    "print(\"Counts per category:\", df['wind'].value_counts())\n",
    "\n",
    "# Define the Bayesian Network structure\n",
    "weather_model = BayesianNetwork([\n",
    "    ('weather', 'precipitation'),\n",
    "    ('weather', 'wind'),\n",
    "    ('precipitation', 'temp_max'),\n",
    "    ('wind', 'temp_max'),\n",
    "    ('wind', 'temp_min')\n",
    "])\n",
    "\n",
    "# Estimate parameters\n",
    "estimator = MaximumLikelihoodEstimator(weather_model, df)\n",
    "cpds = estimator.get_parameters()\n",
    "weather_model.add_cpds(*cpds)\n",
    "\n",
    "# Check model consistency\n",
    "if not weather_model.check_model():\n",
    "    raise ValueError(\"The model is inconsistent\")\n",
    "\n",
    "# Print CPDs to check for 'high' presence\n",
    "for cpd in weather_model.get_cpds():\n",
    "    print(cpd)\n",
    "\n",
    "# Setup for inference\n",
    "inference = VariableElimination(weather_model)\n",
    "\n",
    "# Perform the query\n",
    "try:\n",
    "    # Query using the 'high' category if available\n",
    "    result = inference.query(variables=['weather'], evidence={'wind': 'high'})\n",
    "    print(result)\n",
    "except KeyError as e:\n",
    "    print(f\"Key error: {e}. It appears 'high' is not a valid category in the network CPDs.\")\n"
   ],
   "metadata": {
    "collapsed": false,
    "ExecuteTime": {
     "end_time": "2024-04-30T11:04:39.203707Z",
     "start_time": "2024-04-30T11:04:39.119430Z"
    }
   },
   "id": "beda8c4b9785aeca",
   "execution_count": 556
  },
  {
   "cell_type": "code",
   "outputs": [],
   "source": [],
   "metadata": {
    "collapsed": false,
    "ExecuteTime": {
     "end_time": "2024-04-30T11:04:39.205665Z",
     "start_time": "2024-04-30T11:04:39.195712Z"
    }
   },
   "id": "c4937787fdd316fe",
   "execution_count": 556
  },
  {
   "cell_type": "code",
   "outputs": [],
   "source": [
    "# Creating tabular conditional probability distribution\n",
    "\n"
   ],
   "metadata": {
    "collapsed": false,
    "ExecuteTime": {
     "end_time": "2024-04-30T11:04:39.206259Z",
     "start_time": "2024-04-30T11:04:39.198531Z"
    }
   },
   "id": "b311ce026ffce0f2",
   "execution_count": 557
  },
  {
   "cell_type": "code",
   "outputs": [],
   "source": [
    "# Add CPDs and factors to the model\n",
    "\n",
    "\n",
    "# Check if model is consistent\n"
   ],
   "metadata": {
    "collapsed": false,
    "ExecuteTime": {
     "end_time": "2024-04-30T11:04:39.206931Z",
     "start_time": "2024-04-30T11:04:39.200466Z"
    }
   },
   "id": "ef60afcb60312c45",
   "execution_count": 558
  },
  {
   "cell_type": "code",
   "outputs": [
    {
     "data": {
      "text/plain": "NodeView(('weather', 'precipitation', 'wind', 'temp_max', 'temp_min'))"
     },
     "execution_count": 559,
     "metadata": {},
     "output_type": "execute_result"
    }
   ],
   "source": [
    "# Viewing nodes of the model\n",
    "weather_model.nodes()"
   ],
   "metadata": {
    "collapsed": false,
    "ExecuteTime": {
     "end_time": "2024-04-30T11:04:39.235245Z",
     "start_time": "2024-04-30T11:04:39.203377Z"
    }
   },
   "id": "9080682929babe16",
   "execution_count": 559
  },
  {
   "cell_type": "code",
   "outputs": [
    {
     "data": {
      "text/plain": "OutEdgeView([('weather', 'precipitation'), ('weather', 'wind'), ('precipitation', 'temp_max'), ('wind', 'temp_max'), ('wind', 'temp_min')])"
     },
     "execution_count": 560,
     "metadata": {},
     "output_type": "execute_result"
    }
   ],
   "source": [
    "# Viewing edges of the model\n",
    "weather_model.edges()"
   ],
   "metadata": {
    "collapsed": false,
    "ExecuteTime": {
     "end_time": "2024-04-30T11:04:39.237875Z",
     "start_time": "2024-04-30T11:04:39.206113Z"
    }
   },
   "id": "730fc6678f3a338",
   "execution_count": 560
  },
  {
   "cell_type": "code",
   "outputs": [],
   "source": [],
   "metadata": {
    "collapsed": false,
    "ExecuteTime": {
     "end_time": "2024-04-30T11:04:39.238396Z",
     "start_time": "2024-04-30T11:04:39.208427Z"
    }
   },
   "id": "f0e553eef4083002",
   "execution_count": 560
  },
  {
   "cell_type": "code",
   "outputs": [],
   "source": [
    "# Independcies in the model\n",
    "\n",
    "# Checking independcies of a particular node\n"
   ],
   "metadata": {
    "collapsed": false,
    "ExecuteTime": {
     "end_time": "2024-04-30T11:04:39.238964Z",
     "start_time": "2024-04-30T11:04:39.210847Z"
    }
   },
   "id": "549b0ca933040656",
   "execution_count": 561
  },
  {
   "cell_type": "markdown",
   "source": [
    "# Task 1.2"
   ],
   "metadata": {
    "collapsed": false
   },
   "id": "ee5a805c4240b332"
  },
  {
   "cell_type": "code",
   "outputs": [],
   "source": [
    "from pgmpy.inference import VariableElimination"
   ],
   "metadata": {
    "collapsed": false,
    "ExecuteTime": {
     "end_time": "2024-04-30T11:04:39.240086Z",
     "start_time": "2024-04-30T11:04:39.212825Z"
    }
   },
   "id": "7e05861fb292716b",
   "execution_count": 562
  },
  {
   "cell_type": "code",
   "outputs": [
    {
     "ename": "TypeError",
     "evalue": "'<' not supported between instances of 'float' and 'str'",
     "output_type": "error",
     "traceback": [
      "\u001B[0;31m---------------------------------------------------------------------------\u001B[0m",
      "\u001B[0;31mTypeError\u001B[0m                                 Traceback (most recent call last)",
      "Cell \u001B[0;32mIn[563], line 4\u001B[0m\n\u001B[1;32m      1\u001B[0m \u001B[38;5;66;03m# Question 1: (a) What is the probability of high wind when the weather is sunny? (b) What is the probability of sunny weather when the wind is high?\u001B[39;00m\n\u001B[1;32m      2\u001B[0m result_high_wind_sunny \u001B[38;5;241m=\u001B[39m inference\u001B[38;5;241m.\u001B[39mquery(variables\u001B[38;5;241m=\u001B[39m[\u001B[38;5;124m'\u001B[39m\u001B[38;5;124mwind\u001B[39m\u001B[38;5;124m'\u001B[39m], evidence\u001B[38;5;241m=\u001B[39m{\u001B[38;5;124m'\u001B[39m\u001B[38;5;124mweather\u001B[39m\u001B[38;5;124m'\u001B[39m: \u001B[38;5;124m'\u001B[39m\u001B[38;5;124msun\u001B[39m\u001B[38;5;124m'\u001B[39m})\n\u001B[0;32m----> 4\u001B[0m df, original_wind \u001B[38;5;241m=\u001B[39m \u001B[43mdiscretize_column\u001B[49m\u001B[43m(\u001B[49m\n\u001B[1;32m      5\u001B[0m \u001B[43m    \u001B[49m\u001B[43mdf\u001B[49m\u001B[38;5;241;43m=\u001B[39;49m\u001B[43mdf\u001B[49m\u001B[43m,\u001B[49m\n\u001B[1;32m      6\u001B[0m \u001B[43m    \u001B[49m\u001B[43mcolumn_name\u001B[49m\u001B[38;5;241;43m=\u001B[39;49m\u001B[38;5;124;43m'\u001B[39;49m\u001B[38;5;124;43mwind\u001B[39;49m\u001B[38;5;124;43m'\u001B[39;49m\u001B[43m,\u001B[49m\n\u001B[1;32m      7\u001B[0m \u001B[43m    \u001B[49m\u001B[43mbins\u001B[49m\u001B[38;5;241;43m=\u001B[39;49m\u001B[43m[\u001B[49m\u001B[38;5;241;43m-\u001B[39;49m\u001B[38;5;28;43mfloat\u001B[39;49m\u001B[43m(\u001B[49m\u001B[38;5;124;43m'\u001B[39;49m\u001B[38;5;124;43minf\u001B[39;49m\u001B[38;5;124;43m'\u001B[39;49m\u001B[43m)\u001B[49m\u001B[43m,\u001B[49m\u001B[43m \u001B[49m\u001B[38;5;241;43m5\u001B[39;49m\u001B[43m,\u001B[49m\u001B[43m \u001B[49m\u001B[38;5;241;43m15\u001B[39;49m\u001B[43m,\u001B[49m\u001B[43m \u001B[49m\u001B[38;5;28;43mfloat\u001B[39;49m\u001B[43m(\u001B[49m\u001B[38;5;124;43m'\u001B[39;49m\u001B[38;5;124;43minf\u001B[39;49m\u001B[38;5;124;43m'\u001B[39;49m\u001B[43m)\u001B[49m\u001B[43m]\u001B[49m\u001B[43m,\u001B[49m\n\u001B[1;32m      8\u001B[0m \u001B[43m    \u001B[49m\u001B[43mlabels\u001B[49m\u001B[38;5;241;43m=\u001B[39;49m\u001B[43m[\u001B[49m\u001B[38;5;124;43m'\u001B[39;49m\u001B[38;5;124;43mlow\u001B[39;49m\u001B[38;5;124;43m'\u001B[39;49m\u001B[43m,\u001B[49m\u001B[43m \u001B[49m\u001B[38;5;124;43m'\u001B[39;49m\u001B[38;5;124;43mmedium\u001B[39;49m\u001B[38;5;124;43m'\u001B[39;49m\u001B[43m,\u001B[49m\u001B[43m \u001B[49m\u001B[38;5;124;43m'\u001B[39;49m\u001B[38;5;124;43mhigh\u001B[39;49m\u001B[38;5;124;43m'\u001B[39;49m\u001B[43m]\u001B[49m\n\u001B[1;32m      9\u001B[0m \u001B[43m)\u001B[49m\n\u001B[1;32m     11\u001B[0m df\u001B[38;5;241m.\u001B[39mhead()\n\u001B[1;32m     14\u001B[0m result_sunny_high_wind \u001B[38;5;241m=\u001B[39m inference\u001B[38;5;241m.\u001B[39mquery(variables\u001B[38;5;241m=\u001B[39m[\u001B[38;5;124m'\u001B[39m\u001B[38;5;124mweather\u001B[39m\u001B[38;5;124m'\u001B[39m], evidence\u001B[38;5;241m=\u001B[39m{\u001B[38;5;124m'\u001B[39m\u001B[38;5;124mwind\u001B[39m\u001B[38;5;124m'\u001B[39m: \u001B[38;5;124m'\u001B[39m\u001B[38;5;124mhigh\u001B[39m\u001B[38;5;124m'\u001B[39m})\n",
      "Cell \u001B[0;32mIn[554], line 26\u001B[0m, in \u001B[0;36mdiscretize_column\u001B[0;34m(df, column_name, bins, labels, restore, original_data)\u001B[0m\n\u001B[1;32m     24\u001B[0m \u001B[38;5;28;01mif\u001B[39;00m column_name \u001B[38;5;129;01min\u001B[39;00m df:\n\u001B[1;32m     25\u001B[0m     original_data \u001B[38;5;241m=\u001B[39m df[column_name]\u001B[38;5;241m.\u001B[39mcopy()\n\u001B[0;32m---> 26\u001B[0m     df[column_name] \u001B[38;5;241m=\u001B[39m \u001B[43mpd\u001B[49m\u001B[38;5;241;43m.\u001B[39;49m\u001B[43mcut\u001B[49m\u001B[43m(\u001B[49m\u001B[43mdf\u001B[49m\u001B[43m[\u001B[49m\u001B[43mcolumn_name\u001B[49m\u001B[43m]\u001B[49m\u001B[43m,\u001B[49m\u001B[43m \u001B[49m\u001B[43mbins\u001B[49m\u001B[38;5;241;43m=\u001B[39;49m\u001B[43mbins\u001B[49m\u001B[43m,\u001B[49m\u001B[43m \u001B[49m\u001B[43mlabels\u001B[49m\u001B[38;5;241;43m=\u001B[39;49m\u001B[43mlabels\u001B[49m\u001B[43m,\u001B[49m\u001B[43m \u001B[49m\u001B[43minclude_lowest\u001B[49m\u001B[38;5;241;43m=\u001B[39;49m\u001B[38;5;28;43;01mTrue\u001B[39;49;00m\u001B[43m)\u001B[49m\n\u001B[1;32m     27\u001B[0m \u001B[38;5;28;01melse\u001B[39;00m:\n\u001B[1;32m     28\u001B[0m     \u001B[38;5;28;01mraise\u001B[39;00m \u001B[38;5;167;01mValueError\u001B[39;00m(\u001B[38;5;124mf\u001B[39m\u001B[38;5;124m\"\u001B[39m\u001B[38;5;124mColumn \u001B[39m\u001B[38;5;132;01m{\u001B[39;00mcolumn_name\u001B[38;5;132;01m}\u001B[39;00m\u001B[38;5;124m does not exist in the DataFrame.\u001B[39m\u001B[38;5;124m\"\u001B[39m)\n",
      "File \u001B[0;32m~/Library/Caches/pypoetry/virtualenvs/ai-course-pkokEw5Q-py3.12/lib/python3.12/site-packages/pandas/core/reshape/tile.py:257\u001B[0m, in \u001B[0;36mcut\u001B[0;34m(x, bins, right, labels, retbins, precision, include_lowest, duplicates, ordered)\u001B[0m\n\u001B[1;32m    254\u001B[0m     \u001B[38;5;28;01mif\u001B[39;00m \u001B[38;5;129;01mnot\u001B[39;00m bins\u001B[38;5;241m.\u001B[39mis_monotonic_increasing:\n\u001B[1;32m    255\u001B[0m         \u001B[38;5;28;01mraise\u001B[39;00m \u001B[38;5;167;01mValueError\u001B[39;00m(\u001B[38;5;124m\"\u001B[39m\u001B[38;5;124mbins must increase monotonically.\u001B[39m\u001B[38;5;124m\"\u001B[39m)\n\u001B[0;32m--> 257\u001B[0m fac, bins \u001B[38;5;241m=\u001B[39m \u001B[43m_bins_to_cuts\u001B[49m\u001B[43m(\u001B[49m\n\u001B[1;32m    258\u001B[0m \u001B[43m    \u001B[49m\u001B[43mx_idx\u001B[49m\u001B[43m,\u001B[49m\n\u001B[1;32m    259\u001B[0m \u001B[43m    \u001B[49m\u001B[43mbins\u001B[49m\u001B[43m,\u001B[49m\n\u001B[1;32m    260\u001B[0m \u001B[43m    \u001B[49m\u001B[43mright\u001B[49m\u001B[38;5;241;43m=\u001B[39;49m\u001B[43mright\u001B[49m\u001B[43m,\u001B[49m\n\u001B[1;32m    261\u001B[0m \u001B[43m    \u001B[49m\u001B[43mlabels\u001B[49m\u001B[38;5;241;43m=\u001B[39;49m\u001B[43mlabels\u001B[49m\u001B[43m,\u001B[49m\n\u001B[1;32m    262\u001B[0m \u001B[43m    \u001B[49m\u001B[43mprecision\u001B[49m\u001B[38;5;241;43m=\u001B[39;49m\u001B[43mprecision\u001B[49m\u001B[43m,\u001B[49m\n\u001B[1;32m    263\u001B[0m \u001B[43m    \u001B[49m\u001B[43minclude_lowest\u001B[49m\u001B[38;5;241;43m=\u001B[39;49m\u001B[43minclude_lowest\u001B[49m\u001B[43m,\u001B[49m\n\u001B[1;32m    264\u001B[0m \u001B[43m    \u001B[49m\u001B[43mduplicates\u001B[49m\u001B[38;5;241;43m=\u001B[39;49m\u001B[43mduplicates\u001B[49m\u001B[43m,\u001B[49m\n\u001B[1;32m    265\u001B[0m \u001B[43m    \u001B[49m\u001B[43mordered\u001B[49m\u001B[38;5;241;43m=\u001B[39;49m\u001B[43mordered\u001B[49m\u001B[43m,\u001B[49m\n\u001B[1;32m    266\u001B[0m \u001B[43m\u001B[49m\u001B[43m)\u001B[49m\n\u001B[1;32m    268\u001B[0m \u001B[38;5;28;01mreturn\u001B[39;00m _postprocess_for_cut(fac, bins, retbins, original)\n",
      "File \u001B[0;32m~/Library/Caches/pypoetry/virtualenvs/ai-course-pkokEw5Q-py3.12/lib/python3.12/site-packages/pandas/core/reshape/tile.py:452\u001B[0m, in \u001B[0;36m_bins_to_cuts\u001B[0;34m(x_idx, bins, right, labels, precision, include_lowest, duplicates, ordered)\u001B[0m\n\u001B[1;32m    449\u001B[0m side: Literal[\u001B[38;5;124m\"\u001B[39m\u001B[38;5;124mleft\u001B[39m\u001B[38;5;124m\"\u001B[39m, \u001B[38;5;124m\"\u001B[39m\u001B[38;5;124mright\u001B[39m\u001B[38;5;124m\"\u001B[39m] \u001B[38;5;241m=\u001B[39m \u001B[38;5;124m\"\u001B[39m\u001B[38;5;124mleft\u001B[39m\u001B[38;5;124m\"\u001B[39m \u001B[38;5;28;01mif\u001B[39;00m right \u001B[38;5;28;01melse\u001B[39;00m \u001B[38;5;124m\"\u001B[39m\u001B[38;5;124mright\u001B[39m\u001B[38;5;124m\"\u001B[39m\n\u001B[1;32m    451\u001B[0m \u001B[38;5;28;01mtry\u001B[39;00m:\n\u001B[0;32m--> 452\u001B[0m     ids \u001B[38;5;241m=\u001B[39m \u001B[43mbins\u001B[49m\u001B[38;5;241;43m.\u001B[39;49m\u001B[43msearchsorted\u001B[49m\u001B[43m(\u001B[49m\u001B[43mx_idx\u001B[49m\u001B[43m,\u001B[49m\u001B[43m \u001B[49m\u001B[43mside\u001B[49m\u001B[38;5;241;43m=\u001B[39;49m\u001B[43mside\u001B[49m\u001B[43m)\u001B[49m\n\u001B[1;32m    453\u001B[0m \u001B[38;5;28;01mexcept\u001B[39;00m \u001B[38;5;167;01mTypeError\u001B[39;00m \u001B[38;5;28;01mas\u001B[39;00m err:\n\u001B[1;32m    454\u001B[0m     \u001B[38;5;66;03m# e.g. test_datetime_nan_error if bins are DatetimeArray and x_idx\u001B[39;00m\n\u001B[1;32m    455\u001B[0m     \u001B[38;5;66;03m#  is integers\u001B[39;00m\n\u001B[1;32m    456\u001B[0m     \u001B[38;5;28;01mif\u001B[39;00m x_idx\u001B[38;5;241m.\u001B[39mdtype\u001B[38;5;241m.\u001B[39mkind \u001B[38;5;241m==\u001B[39m \u001B[38;5;124m\"\u001B[39m\u001B[38;5;124mm\u001B[39m\u001B[38;5;124m\"\u001B[39m:\n",
      "File \u001B[0;32m~/Library/Caches/pypoetry/virtualenvs/ai-course-pkokEw5Q-py3.12/lib/python3.12/site-packages/pandas/core/base.py:1352\u001B[0m, in \u001B[0;36mIndexOpsMixin.searchsorted\u001B[0;34m(self, value, side, sorter)\u001B[0m\n\u001B[1;32m   1348\u001B[0m \u001B[38;5;28;01mif\u001B[39;00m \u001B[38;5;129;01mnot\u001B[39;00m \u001B[38;5;28misinstance\u001B[39m(values, np\u001B[38;5;241m.\u001B[39mndarray):\n\u001B[1;32m   1349\u001B[0m     \u001B[38;5;66;03m# Going through EA.searchsorted directly improves performance GH#38083\u001B[39;00m\n\u001B[1;32m   1350\u001B[0m     \u001B[38;5;28;01mreturn\u001B[39;00m values\u001B[38;5;241m.\u001B[39msearchsorted(value, side\u001B[38;5;241m=\u001B[39mside, sorter\u001B[38;5;241m=\u001B[39msorter)\n\u001B[0;32m-> 1352\u001B[0m \u001B[38;5;28;01mreturn\u001B[39;00m \u001B[43malgorithms\u001B[49m\u001B[38;5;241;43m.\u001B[39;49m\u001B[43msearchsorted\u001B[49m\u001B[43m(\u001B[49m\n\u001B[1;32m   1353\u001B[0m \u001B[43m    \u001B[49m\u001B[43mvalues\u001B[49m\u001B[43m,\u001B[49m\n\u001B[1;32m   1354\u001B[0m \u001B[43m    \u001B[49m\u001B[43mvalue\u001B[49m\u001B[43m,\u001B[49m\n\u001B[1;32m   1355\u001B[0m \u001B[43m    \u001B[49m\u001B[43mside\u001B[49m\u001B[38;5;241;43m=\u001B[39;49m\u001B[43mside\u001B[49m\u001B[43m,\u001B[49m\n\u001B[1;32m   1356\u001B[0m \u001B[43m    \u001B[49m\u001B[43msorter\u001B[49m\u001B[38;5;241;43m=\u001B[39;49m\u001B[43msorter\u001B[49m\u001B[43m,\u001B[49m\n\u001B[1;32m   1357\u001B[0m \u001B[43m\u001B[49m\u001B[43m)\u001B[49m\n",
      "File \u001B[0;32m~/Library/Caches/pypoetry/virtualenvs/ai-course-pkokEw5Q-py3.12/lib/python3.12/site-packages/pandas/core/algorithms.py:1329\u001B[0m, in \u001B[0;36msearchsorted\u001B[0;34m(arr, value, side, sorter)\u001B[0m\n\u001B[1;32m   1325\u001B[0m     arr \u001B[38;5;241m=\u001B[39m ensure_wrapped_if_datetimelike(arr)\n\u001B[1;32m   1327\u001B[0m \u001B[38;5;66;03m# Argument 1 to \"searchsorted\" of \"ndarray\" has incompatible type\u001B[39;00m\n\u001B[1;32m   1328\u001B[0m \u001B[38;5;66;03m# \"Union[NumpyValueArrayLike, ExtensionArray]\"; expected \"NumpyValueArrayLike\"\u001B[39;00m\n\u001B[0;32m-> 1329\u001B[0m \u001B[38;5;28;01mreturn\u001B[39;00m \u001B[43marr\u001B[49m\u001B[38;5;241;43m.\u001B[39;49m\u001B[43msearchsorted\u001B[49m\u001B[43m(\u001B[49m\u001B[43mvalue\u001B[49m\u001B[43m,\u001B[49m\u001B[43m \u001B[49m\u001B[43mside\u001B[49m\u001B[38;5;241;43m=\u001B[39;49m\u001B[43mside\u001B[49m\u001B[43m,\u001B[49m\u001B[43m \u001B[49m\u001B[43msorter\u001B[49m\u001B[38;5;241;43m=\u001B[39;49m\u001B[43msorter\u001B[49m\u001B[43m)\u001B[49m\n",
      "\u001B[0;31mTypeError\u001B[0m: '<' not supported between instances of 'float' and 'str'"
     ]
    }
   ],
   "source": [
    "# Question 1: (a) What is the probability of high wind when the weather is sunny? (b) What is the probability of sunny weather when the wind is high?\n",
    "result_high_wind_sunny = inference.query(variables=['wind'], evidence={'weather': 'sun'})\n",
    "\n",
    "df, original_wind = discretize_column(\n",
    "    df=df,\n",
    "    column_name='wind',\n",
    "    bins=[-float('inf'), 5, 15, float('inf')],\n",
    "    labels=['low', 'medium', 'high']\n",
    ")\n",
    "\n",
    "df.head()\n",
    "\n",
    "\n",
    "result_sunny_high_wind = inference.query(variables=['weather'], evidence={'wind': 'high'})\n",
    "#  \n",
    "# df, _ = discretize_column(\n",
    "#     df=df,\n",
    "#     column_name='wind',\n",
    "#     bins=None,\n",
    "#     labels=None,\n",
    "#     restore=True,\n",
    "#     original_data=original_wind\n",
    "# )\n",
    "# \n",
    "# print(result_sunny_high_wind)\n"
   ],
   "metadata": {
    "collapsed": false,
    "ExecuteTime": {
     "end_time": "2024-04-30T11:04:39.263477Z",
     "start_time": "2024-04-30T11:04:39.243023Z"
    }
   },
   "id": "a27889313e8e84c0",
   "execution_count": 563
  },
  {
   "cell_type": "code",
   "outputs": [],
   "source": [
    "# Question 2:\n",
    "# (a) Calculate all the possible joint probability and determine the best probable condition. Explain your results?\n",
    "\n",
    "# (b) What is the most probable condition for precipitation, wind and weather, combined?\n"
   ],
   "metadata": {
    "collapsed": false,
    "ExecuteTime": {
     "start_time": "2024-04-30T11:04:39.245240Z"
    }
   },
   "id": "518193b4544e2938",
   "execution_count": null
  },
  {
   "cell_type": "code",
   "outputs": [],
   "source": [
    "# Question 3. Find the probability associated with each weather, given that the precipitation is medium? Explain your result.\n",
    "\n"
   ],
   "metadata": {
    "collapsed": false,
    "ExecuteTime": {
     "end_time": "2024-04-30T11:04:39.291163Z",
     "start_time": "2024-04-30T11:04:39.255682Z"
    }
   },
   "id": "2a45225511df2758",
   "execution_count": 564
  },
  {
   "cell_type": "code",
   "outputs": [],
   "source": [
    "# Question 4. What is the probability of each weather condition given that precipitation is medium and wind is low or medium? Explain your method and results. How does the result change with the addition of wind factor compared to question 3 of Task 1.2?\n",
    "\n"
   ],
   "metadata": {
    "collapsed": false,
    "ExecuteTime": {
     "end_time": "2024-04-30T11:04:39.333761Z",
     "start_time": "2024-04-30T11:04:39.267526Z"
    }
   },
   "id": "9cdb0450af44cb01",
   "execution_count": 565
  },
  {
   "cell_type": "markdown",
   "source": [
    "# Task 1.3 - Approximate Inference"
   ],
   "metadata": {
    "collapsed": false
   },
   "id": "d7f8be2fe6c70648"
  },
  {
   "cell_type": "markdown",
   "source": [
    "## Likelihood Weighted Sample\n",
    "\n",
    "Generates weighted sample(s) from joint distribution of the Bayesian Network, that comply with the given evidence."
   ],
   "metadata": {
    "collapsed": false
   },
   "id": "a13825052cd008b4"
  },
  {
   "cell_type": "code",
   "outputs": [],
   "source": [
    "from pgmpy.factors.discrete import State\n",
    "from pgmpy.sampling import BayesianModelSampling"
   ],
   "metadata": {
    "collapsed": false,
    "ExecuteTime": {
     "end_time": "2024-04-30T11:04:39.365294Z",
     "start_time": "2024-04-30T11:04:39.335386Z"
    }
   },
   "id": "952669815d8ca852",
   "execution_count": 566
  },
  {
   "cell_type": "code",
   "outputs": [],
   "source": [
    "# Repeat Q.1. (a) of Task 1.2 - What is the probability of high wind when the weather is sunny?\n",
    "\n"
   ],
   "metadata": {
    "collapsed": false,
    "ExecuteTime": {
     "end_time": "2024-04-30T11:04:39.383344Z",
     "start_time": "2024-04-30T11:04:39.365873Z"
    }
   },
   "id": "63332120625cec77",
   "execution_count": 567
  },
  {
   "cell_type": "code",
   "outputs": [],
   "source": [
    "# Repeat Q.1. (b) of Task 1.2 - What is the probability of sunny weather when the wind is high?\n",
    "\n"
   ],
   "metadata": {
    "collapsed": false,
    "ExecuteTime": {
     "end_time": "2024-04-30T11:04:39.391529Z",
     "start_time": "2024-04-30T11:04:39.383741Z"
    }
   },
   "id": "bb6fee1e0c5e75ed",
   "execution_count": 568
  },
  {
   "cell_type": "markdown",
   "source": [
    "## Rejection Sampling"
   ],
   "metadata": {
    "collapsed": false
   },
   "id": "d077efcba0af4514"
  },
  {
   "cell_type": "code",
   "outputs": [],
   "source": [
    "# Repeat Q.2 . (a) of Task 1.2 - Calculate all the possible joint probability and determine the best probable condition. Explain your results?\n",
    "\n"
   ],
   "metadata": {
    "collapsed": false,
    "ExecuteTime": {
     "end_time": "2024-04-30T11:04:39.399535Z",
     "start_time": "2024-04-30T11:04:39.391284Z"
    }
   },
   "id": "cebf4bb9b0df63cd",
   "execution_count": 569
  },
  {
   "cell_type": "code",
   "outputs": [],
   "source": [
    "# Repeat Q.2 . (b) of Task 1.2 - What is the most probable condition for precipitation, wind and weather, combined?\n",
    "\n"
   ],
   "metadata": {
    "collapsed": false,
    "ExecuteTime": {
     "end_time": "2024-04-30T11:04:39.404726Z",
     "start_time": "2024-04-30T11:04:39.394304Z"
    }
   },
   "id": "e6c638824a2b66c",
   "execution_count": 570
  },
  {
   "cell_type": "markdown",
   "source": [
    "## Approx Inference"
   ],
   "metadata": {
    "collapsed": false
   },
   "id": "e55d10c6c8f0360c"
  },
  {
   "cell_type": "code",
   "outputs": [],
   "source": [
    "from pgmpy.inference import ApproxInference"
   ],
   "metadata": {
    "collapsed": false,
    "ExecuteTime": {
     "end_time": "2024-04-30T11:04:39.420701Z",
     "start_time": "2024-04-30T11:04:39.401384Z"
    }
   },
   "id": "a16df79e437b0e2f",
   "execution_count": 571
  },
  {
   "cell_type": "code",
   "outputs": [],
   "source": [
    "# Repeat Q.3 of Task 1.2 - Find the probability associated with each weather, given that the precipitation is medium? Explain your result.\n",
    "\n"
   ],
   "metadata": {
    "collapsed": false,
    "ExecuteTime": {
     "end_time": "2024-04-30T11:04:39.433766Z",
     "start_time": "2024-04-30T11:04:39.408600Z"
    }
   },
   "id": "da6ae9c67e269c20",
   "execution_count": 572
  },
  {
   "cell_type": "markdown",
   "source": [
    "# Normal Sampling"
   ],
   "metadata": {
    "collapsed": false
   },
   "id": "62a85f89cd63e86"
  },
  {
   "cell_type": "code",
   "outputs": [],
   "source": [
    "# Repeat Q.4 of Task 1.2 - What is the probability of each weather condition given that precipitation is medium and wind is low or medium? Explain your method and results. How does the result change with the addition of wind factor compared to question 3 of Task 1.2?\n",
    "\n"
   ],
   "metadata": {
    "collapsed": false,
    "ExecuteTime": {
     "end_time": "2024-04-30T11:04:39.445541Z",
     "start_time": "2024-04-30T11:04:39.435746Z"
    }
   },
   "id": "99e372c96b8a0703",
   "execution_count": 573
  }
 ],
 "metadata": {
  "kernelspec": {
   "display_name": "Python 3",
   "language": "python",
   "name": "python3"
  },
  "language_info": {
   "codemirror_mode": {
    "name": "ipython",
    "version": 2
   },
   "file_extension": ".py",
   "mimetype": "text/x-python",
   "name": "python",
   "nbconvert_exporter": "python",
   "pygments_lexer": "ipython2",
   "version": "2.7.6"
  }
 },
 "nbformat": 4,
 "nbformat_minor": 5
}
