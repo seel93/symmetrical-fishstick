{
 "cells": [
  {
   "cell_type": "code",
   "execution_count": 106,
   "id": "initial_id",
   "metadata": {
    "collapsed": true,
    "ExecuteTime": {
     "end_time": "2024-05-07T12:14:05.075227Z",
     "start_time": "2024-05-07T12:14:04.600508Z"
    }
   },
   "outputs": [],
   "source": []
  },
  {
   "cell_type": "markdown",
   "source": [
    "# INF-2600-1 24V Artificial Intelligence: Assignment 3 Pre-code\n",
    "This code implements a Bayesian Network model for Analyzing Sensor Data for Weather Prediction using the pgmpy library in Python."
   ],
   "metadata": {
    "collapsed": false
   },
   "id": "76f25f44c035334d"
  },
  {
   "cell_type": "markdown",
   "source": [],
   "metadata": {
    "collapsed": false
   },
   "id": "bf99d0c30d2d40e6"
  },
  {
   "cell_type": "code",
   "outputs": [],
   "source": [
    "# Including the necessary libraries\n",
    "import numpy as np\n",
    "import pandas as pd\n",
    "import seaborn as sns\n",
    "import matplotlib.pyplot as plt\n",
    "from pgmpy.estimators import ParameterEstimator, MaximumLikelihoodEstimator\n",
    "from pgmpy.models import BayesianNetwork\n",
    "from pgmpy.inference import VariableElimination\n",
    "from pgmpy.factors.discrete import TabularCPD\n",
    "from pgmpy.estimators import MaximumLikelihoodEstimator"
   ],
   "metadata": {
    "collapsed": false,
    "ExecuteTime": {
     "end_time": "2024-05-07T12:14:05.132853Z",
     "start_time": "2024-05-07T12:14:05.077851Z"
    }
   },
   "id": "be43320c65525df",
   "execution_count": 107
  },
  {
   "cell_type": "markdown",
   "source": [
    "# Factoring the dataset"
   ],
   "metadata": {
    "collapsed": false
   },
   "id": "479b2973e65d61f5"
  },
  {
   "cell_type": "code",
   "outputs": [
    {
     "data": {
      "text/plain": "         date  precipitation  temp_max  temp_min  wind  weather\n0  2012-01-01            0.0      12.8       5.0   4.7  drizzle\n1  2012-01-02           10.9      10.6       2.8   4.5     rain\n2  2012-01-03            0.8      11.7       7.2   2.3     rain\n3  2012-01-04           20.3      12.2       5.6   4.7     rain\n4  2012-01-05            1.3       8.9       2.8   6.1     rain",
      "text/html": "<div>\n<style scoped>\n    .dataframe tbody tr th:only-of-type {\n        vertical-align: middle;\n    }\n\n    .dataframe tbody tr th {\n        vertical-align: top;\n    }\n\n    .dataframe thead th {\n        text-align: right;\n    }\n</style>\n<table border=\"1\" class=\"dataframe\">\n  <thead>\n    <tr style=\"text-align: right;\">\n      <th></th>\n      <th>date</th>\n      <th>precipitation</th>\n      <th>temp_max</th>\n      <th>temp_min</th>\n      <th>wind</th>\n      <th>weather</th>\n    </tr>\n  </thead>\n  <tbody>\n    <tr>\n      <th>0</th>\n      <td>2012-01-01</td>\n      <td>0.0</td>\n      <td>12.8</td>\n      <td>5.0</td>\n      <td>4.7</td>\n      <td>drizzle</td>\n    </tr>\n    <tr>\n      <th>1</th>\n      <td>2012-01-02</td>\n      <td>10.9</td>\n      <td>10.6</td>\n      <td>2.8</td>\n      <td>4.5</td>\n      <td>rain</td>\n    </tr>\n    <tr>\n      <th>2</th>\n      <td>2012-01-03</td>\n      <td>0.8</td>\n      <td>11.7</td>\n      <td>7.2</td>\n      <td>2.3</td>\n      <td>rain</td>\n    </tr>\n    <tr>\n      <th>3</th>\n      <td>2012-01-04</td>\n      <td>20.3</td>\n      <td>12.2</td>\n      <td>5.6</td>\n      <td>4.7</td>\n      <td>rain</td>\n    </tr>\n    <tr>\n      <th>4</th>\n      <td>2012-01-05</td>\n      <td>1.3</td>\n      <td>8.9</td>\n      <td>2.8</td>\n      <td>6.1</td>\n      <td>rain</td>\n    </tr>\n  </tbody>\n</table>\n</div>"
     },
     "execution_count": 108,
     "metadata": {},
     "output_type": "execute_result"
    }
   ],
   "source": [
    "# Import data, make a copy of the original\n",
    "\n",
    "df0 = pd.read_csv('precode/seattle-weather.csv')\n",
    "dfc1 = df0.copy()\n",
    "dfc1.head()"
   ],
   "metadata": {
    "collapsed": false,
    "ExecuteTime": {
     "end_time": "2024-05-07T12:14:05.202664Z",
     "start_time": "2024-05-07T12:14:05.132488Z"
    }
   },
   "id": "e184947872f94229",
   "execution_count": 108
  },
  {
   "cell_type": "code",
   "outputs": [
    {
     "name": "stdout",
     "output_type": "stream",
     "text": [
      "<class 'pandas.core.frame.DataFrame'>\n",
      "RangeIndex: 1461 entries, 0 to 1460\n",
      "Data columns (total 6 columns):\n",
      " #   Column         Non-Null Count  Dtype  \n",
      "---  ------         --------------  -----  \n",
      " 0   date           1461 non-null   object \n",
      " 1   precipitation  1461 non-null   float64\n",
      " 2   temp_max       1461 non-null   float64\n",
      " 3   temp_min       1461 non-null   float64\n",
      " 4   wind           1461 non-null   float64\n",
      " 5   weather        1461 non-null   object \n",
      "dtypes: float64(4), object(2)\n",
      "memory usage: 68.6+ KB\n"
     ]
    }
   ],
   "source": [
    "# Get characteristics of dataset including columns with missing data as well:\n",
    "dfc1.info()"
   ],
   "metadata": {
    "collapsed": false,
    "ExecuteTime": {
     "end_time": "2024-05-07T12:14:05.235060Z",
     "start_time": "2024-05-07T12:14:05.205862Z"
    }
   },
   "id": "cb0facdd7bc291e",
   "execution_count": 109
  },
  {
   "cell_type": "code",
   "outputs": [
    {
     "name": "stdout",
     "output_type": "stream",
     "text": [
      "['drizzle' 'rain' 'sun' 'snow' 'fog']\n"
     ]
    }
   ],
   "source": [
    "# Checking the unique values in the 'weather' column\n",
    "unique_fields = dfc1['weather'].unique()\n",
    "print(unique_fields)"
   ],
   "metadata": {
    "collapsed": false,
    "ExecuteTime": {
     "end_time": "2024-05-07T12:14:05.302315Z",
     "start_time": "2024-05-07T12:14:05.234203Z"
    }
   },
   "id": "6db5f6c03daa7ac6",
   "execution_count": 110
  },
  {
   "cell_type": "code",
   "outputs": [
    {
     "data": {
      "text/plain": "       precipitation     temp_max     temp_min         wind\ncount    1461.000000  1461.000000  1461.000000  1461.000000\nmean        3.029432    16.439083     8.234771     3.241136\nstd         6.680194     7.349758     5.023004     1.437825\nmin         0.000000    -1.600000    -7.100000     0.400000\n25%         0.000000    10.600000     4.400000     2.200000\n50%         0.000000    15.600000     8.300000     3.000000\n75%         2.800000    22.200000    12.200000     4.000000\nmax        55.900000    35.600000    18.300000     9.500000",
      "text/html": "<div>\n<style scoped>\n    .dataframe tbody tr th:only-of-type {\n        vertical-align: middle;\n    }\n\n    .dataframe tbody tr th {\n        vertical-align: top;\n    }\n\n    .dataframe thead th {\n        text-align: right;\n    }\n</style>\n<table border=\"1\" class=\"dataframe\">\n  <thead>\n    <tr style=\"text-align: right;\">\n      <th></th>\n      <th>precipitation</th>\n      <th>temp_max</th>\n      <th>temp_min</th>\n      <th>wind</th>\n    </tr>\n  </thead>\n  <tbody>\n    <tr>\n      <th>count</th>\n      <td>1461.000000</td>\n      <td>1461.000000</td>\n      <td>1461.000000</td>\n      <td>1461.000000</td>\n    </tr>\n    <tr>\n      <th>mean</th>\n      <td>3.029432</td>\n      <td>16.439083</td>\n      <td>8.234771</td>\n      <td>3.241136</td>\n    </tr>\n    <tr>\n      <th>std</th>\n      <td>6.680194</td>\n      <td>7.349758</td>\n      <td>5.023004</td>\n      <td>1.437825</td>\n    </tr>\n    <tr>\n      <th>min</th>\n      <td>0.000000</td>\n      <td>-1.600000</td>\n      <td>-7.100000</td>\n      <td>0.400000</td>\n    </tr>\n    <tr>\n      <th>25%</th>\n      <td>0.000000</td>\n      <td>10.600000</td>\n      <td>4.400000</td>\n      <td>2.200000</td>\n    </tr>\n    <tr>\n      <th>50%</th>\n      <td>0.000000</td>\n      <td>15.600000</td>\n      <td>8.300000</td>\n      <td>3.000000</td>\n    </tr>\n    <tr>\n      <th>75%</th>\n      <td>2.800000</td>\n      <td>22.200000</td>\n      <td>12.200000</td>\n      <td>4.000000</td>\n    </tr>\n    <tr>\n      <th>max</th>\n      <td>55.900000</td>\n      <td>35.600000</td>\n      <td>18.300000</td>\n      <td>9.500000</td>\n    </tr>\n  </tbody>\n</table>\n</div>"
     },
     "execution_count": 111,
     "metadata": {},
     "output_type": "execute_result"
    }
   ],
   "source": [
    "dfc1.describe()"
   ],
   "metadata": {
    "collapsed": false,
    "ExecuteTime": {
     "end_time": "2024-05-07T12:14:05.398167Z",
     "start_time": "2024-05-07T12:14:05.301775Z"
    }
   },
   "id": "e3cc0ec757c136bc",
   "execution_count": 111
  },
  {
   "cell_type": "code",
   "outputs": [
    {
     "data": {
      "text/plain": "         date  weather\n0  2012-01-01  drizzle\n1  2012-01-02     rain\n2  2012-01-03     rain\n3  2012-01-04     rain\n4  2012-01-05     rain",
      "text/html": "<div>\n<style scoped>\n    .dataframe tbody tr th:only-of-type {\n        vertical-align: middle;\n    }\n\n    .dataframe tbody tr th {\n        vertical-align: top;\n    }\n\n    .dataframe thead th {\n        text-align: right;\n    }\n</style>\n<table border=\"1\" class=\"dataframe\">\n  <thead>\n    <tr style=\"text-align: right;\">\n      <th></th>\n      <th>date</th>\n      <th>weather</th>\n    </tr>\n  </thead>\n  <tbody>\n    <tr>\n      <th>0</th>\n      <td>2012-01-01</td>\n      <td>drizzle</td>\n    </tr>\n    <tr>\n      <th>1</th>\n      <td>2012-01-02</td>\n      <td>rain</td>\n    </tr>\n    <tr>\n      <th>2</th>\n      <td>2012-01-03</td>\n      <td>rain</td>\n    </tr>\n    <tr>\n      <th>3</th>\n      <td>2012-01-04</td>\n      <td>rain</td>\n    </tr>\n    <tr>\n      <th>4</th>\n      <td>2012-01-05</td>\n      <td>rain</td>\n    </tr>\n  </tbody>\n</table>\n</div>"
     },
     "execution_count": 112,
     "metadata": {},
     "output_type": "execute_result"
    }
   ],
   "source": [
    "# Put categorical varaibles in a list\n",
    "categorical_lst = ['date','weather']\n",
    "# Create a seperate & smaller dataframe for categorical variables\n",
    "dfc2a = pd.DataFrame(dfc1, columns=categorical_lst, copy=True)\n",
    "dfc2a.head()"
   ],
   "metadata": {
    "collapsed": false,
    "ExecuteTime": {
     "end_time": "2024-05-07T12:14:05.468651Z",
     "start_time": "2024-05-07T12:14:05.355264Z"
    }
   },
   "id": "ffcc7eeb57c6c3e1",
   "execution_count": 112
  },
  {
   "cell_type": "code",
   "outputs": [
    {
     "data": {
      "text/plain": "   precipitation  temp_max  temp_min  wind\n0            0.0      12.8       5.0   4.7\n1           10.9      10.6       2.8   4.5\n2            0.8      11.7       7.2   2.3\n3           20.3      12.2       5.6   4.7\n4            1.3       8.9       2.8   6.1",
      "text/html": "<div>\n<style scoped>\n    .dataframe tbody tr th:only-of-type {\n        vertical-align: middle;\n    }\n\n    .dataframe tbody tr th {\n        vertical-align: top;\n    }\n\n    .dataframe thead th {\n        text-align: right;\n    }\n</style>\n<table border=\"1\" class=\"dataframe\">\n  <thead>\n    <tr style=\"text-align: right;\">\n      <th></th>\n      <th>precipitation</th>\n      <th>temp_max</th>\n      <th>temp_min</th>\n      <th>wind</th>\n    </tr>\n  </thead>\n  <tbody>\n    <tr>\n      <th>0</th>\n      <td>0.0</td>\n      <td>12.8</td>\n      <td>5.0</td>\n      <td>4.7</td>\n    </tr>\n    <tr>\n      <th>1</th>\n      <td>10.9</td>\n      <td>10.6</td>\n      <td>2.8</td>\n      <td>4.5</td>\n    </tr>\n    <tr>\n      <th>2</th>\n      <td>0.8</td>\n      <td>11.7</td>\n      <td>7.2</td>\n      <td>2.3</td>\n    </tr>\n    <tr>\n      <th>3</th>\n      <td>20.3</td>\n      <td>12.2</td>\n      <td>5.6</td>\n      <td>4.7</td>\n    </tr>\n    <tr>\n      <th>4</th>\n      <td>1.3</td>\n      <td>8.9</td>\n      <td>2.8</td>\n      <td>6.1</td>\n    </tr>\n  </tbody>\n</table>\n</div>"
     },
     "execution_count": 113,
     "metadata": {},
     "output_type": "execute_result"
    }
   ],
   "source": [
    "# Put all continuous variables into a list\n",
    "continuous_lst = ['precipitation', 'temp_max', 'temp_min', 'wind']\n",
    "# Create a seperate & smaller dataframe for our chosen variables. Use 'copy=True' so changes wont affect original\n",
    "dfc2b = pd.DataFrame(dfc1, columns=continuous_lst, copy=True)\n",
    "dfc2b.head()"
   ],
   "metadata": {
    "collapsed": false,
    "ExecuteTime": {
     "end_time": "2024-05-07T12:14:05.538271Z",
     "start_time": "2024-05-07T12:14:05.472037Z"
    }
   },
   "id": "4c99a1dd8187c9ed",
   "execution_count": 113
  },
  {
   "cell_type": "markdown",
   "source": [
    "### Create new dataframe"
   ],
   "metadata": {
    "collapsed": false
   },
   "id": "b20437eac45b77de"
  },
  {
   "cell_type": "code",
   "outputs": [],
   "source": [
    "# Create new df with variables we want to work with:\n",
    "new_cols = ['date', 'precipitation', 'temp_max', 'temp_min', 'wind', 'weather']\n",
    "\n",
    "df = df0[new_cols]\n",
    "# df.head()"
   ],
   "metadata": {
    "collapsed": false,
    "ExecuteTime": {
     "end_time": "2024-05-07T12:14:05.656633Z",
     "start_time": "2024-05-07T12:14:05.527675Z"
    }
   },
   "id": "33ac2e0777f690f9",
   "execution_count": 114
  },
  {
   "cell_type": "code",
   "outputs": [
    {
     "data": {
      "text/plain": "date             False\nprecipitation    False\ntemp_max         False\ntemp_min         False\nwind             False\nweather          False\ndtype: bool"
     },
     "execution_count": 115,
     "metadata": {},
     "output_type": "execute_result"
    }
   ],
   "source": [
    "# Let's show all columns with missing data as well:\n",
    "df[df.isnull().any(axis=1)] # any missing data in columns\n",
    "df.isnull().any()"
   ],
   "metadata": {
    "collapsed": false,
    "ExecuteTime": {
     "end_time": "2024-05-07T12:14:05.749746Z",
     "start_time": "2024-05-07T12:14:05.660557Z"
    }
   },
   "id": "20bff55898f74af7",
   "execution_count": 115
  },
  {
   "cell_type": "markdown",
   "source": [
    "# Creating Bayes Nets"
   ],
   "metadata": {
    "collapsed": false
   },
   "id": "4c35a254420ba884"
  },
  {
   "cell_type": "code",
   "outputs": [
    {
     "name": "stdout",
     "output_type": "stream",
     "text": [
      "         date  precipitation  temp_max  temp_min    wind  weather\n",
      "0  2012-01-01            0.0      12.8       5.0  medium  drizzle\n",
      "1  2012-01-02           10.9      10.6       2.8  medium     rain\n",
      "2  2012-01-03            0.8      11.7       7.2     low     rain\n",
      "3  2012-01-04           20.3      12.2       5.6  medium     rain\n",
      "4  2012-01-05            1.3       8.9       2.8    high     rain\n",
      "+------------------+----------------+\n",
      "| weather          |   phi(weather) |\n",
      "+==================+================+\n",
      "| weather(drizzle) |         0.0000 |\n",
      "+------------------+----------------+\n",
      "| weather(fog)     |         0.0287 |\n",
      "+------------------+----------------+\n",
      "| weather(rain)    |         0.6897 |\n",
      "+------------------+----------------+\n",
      "| weather(snow)    |         0.0632 |\n",
      "+------------------+----------------+\n",
      "| weather(sun)     |         0.2184 |\n",
      "+------------------+----------------+\n"
     ]
    }
   ],
   "source": [
    "import pandas as pd\n",
    "from pgmpy.models import BayesianModel\n",
    "from pgmpy.estimators import MaximumLikelihoodEstimator\n",
    "from pgmpy.inference import VariableElimination\n",
    "\n",
    "# Discretization details\n",
    "wind_bins = [-float('inf'), 3, 5, float('inf')]\n",
    "labels = ['low', 'medium', 'high']\n",
    "\n",
    "# Apply discretization\n",
    "original_wind = df['wind'].copy()\n",
    "df['wind'] = pd.cut(df['wind'], bins=wind_bins, labels=labels, include_lowest=True)\n",
    "\n",
    "print(df.head())\n",
    "# Define the Bayesian Network structure\n",
    "weather_model = BayesianNetwork([\n",
    "    ('weather', 'precipitation'),\n",
    "    ('weather', 'wind'),\n",
    "    ('precipitation', 'temp_max'),\n",
    "    ('wind', 'temp_max'),\n",
    "    ('wind', 'temp_min')\n",
    "])\n",
    "\n",
    "# Estimate parameters\n",
    "estimator = MaximumLikelihoodEstimator(weather_model, df)\n",
    "cpds = estimator.get_parameters()\n",
    "weather_model.add_cpds(*cpds)\n",
    "\n",
    "# Check model consistency\n",
    "if not weather_model.check_model():\n",
    "    raise ValueError(\"The model is inconsistent\")\n",
    "\n",
    "# Print CPDs to check for 'high' presence\n",
    "#for cpd in weather_model.get_cpds():\n",
    "#    print(cpd)\n",
    "\n",
    "inference = VariableElimination(weather_model)\n",
    "\n",
    "try:\n",
    "    # Query using the 'high' category if available\n",
    "    result = inference.query(variables=['weather'], evidence={'wind': 'high'})\n",
    "    print(result)\n",
    "except KeyError as e:\n",
    "    print(f\"Key error: {e}. It appears 'high' is not a valid category in the network CPDs.\")\n",
    "finally:\n",
    "    df['wind'] = original_wind\n"
   ],
   "metadata": {
    "collapsed": false,
    "ExecuteTime": {
     "end_time": "2024-05-07T12:14:05.918012Z",
     "start_time": "2024-05-07T12:14:05.753099Z"
    }
   },
   "id": "beda8c4b9785aeca",
   "execution_count": 116
  },
  {
   "cell_type": "code",
   "outputs": [
    {
     "name": "stdout",
     "output_type": "stream",
     "text": [
      "Key error: 'high'. It appears 'high' is not a valid category in the network CPDs.\n",
      "         date  precipitation  temp_max  temp_min  wind  weather\n",
      "0  2012-01-01            0.0      12.8       5.0   4.7  drizzle\n",
      "1  2012-01-02           10.9      10.6       2.8   4.5     rain\n",
      "2  2012-01-03            0.8      11.7       7.2   2.3     rain\n",
      "3  2012-01-04           20.3      12.2       5.6   4.7     rain\n",
      "4  2012-01-05            1.3       8.9       2.8   6.1     rain\n"
     ]
    }
   ],
   "source": [
    "\n",
    "# Discretize columns\n",
    "precipitation_bins = [0, 5, 11, float('inf')]\n",
    "labels = ['low', 'medium', 'high']\n",
    "\n",
    "# Apply discretization\n",
    "original_precipitation = df['precipitation'].copy()\n",
    "df['precipitation'] = pd.cut(df['precipitation'], bins=precipitation_bins, labels=labels, include_lowest=True)\n",
    "\n",
    "weather_model = BayesianNetwork([\n",
    "    ('weather', 'precipitation'),\n",
    "    ('weather', 'wind'),\n",
    "    ('precipitation', 'temp_max'),\n",
    "    ('wind', 'temp_max'),\n",
    "    ('wind', 'temp_min')\n",
    "])\n",
    "\n",
    "# Estimate parameters\n",
    "estimator = MaximumLikelihoodEstimator(weather_model, df)\n",
    "cpds = estimator.get_parameters()\n",
    "weather_model.add_cpds(*cpds)\n",
    "\n",
    "# Check model consistency\n",
    "if not weather_model.check_model():\n",
    "    raise ValueError(\"The model is inconsistent\")\n",
    "\n",
    "# Print CPDs to check for 'high' presence\n",
    "#for cpd in weather_model.get_cpds():\n",
    "#    print(cpd)\n",
    "\n",
    "# Setup for inference\n",
    "inference = VariableElimination(weather_model)\n",
    "\n",
    "# Perform the query\n",
    "try:\n",
    "    # Query using the 'high' category if available\n",
    "    result = inference.query(variables=['weather'], evidence={'wind': 'high'})\n",
    "    print(result)\n",
    "except KeyError as e:\n",
    "    print(f\"Key error: {e}. It appears 'high' is not a valid category in the network CPDs.\")\n",
    "finally:\n",
    "    df['precipitation'] = original_precipitation\n",
    "    \n",
    "    print(df.head())"
   ],
   "metadata": {
    "collapsed": false,
    "ExecuteTime": {
     "end_time": "2024-05-07T12:14:05.955107Z",
     "start_time": "2024-05-07T12:14:05.886909Z"
    }
   },
   "id": "c4937787fdd316fe",
   "execution_count": 117
  },
  {
   "cell_type": "code",
   "outputs": [],
   "source": [
    "# Creating tabular conditional probability distribution\n",
    "\n"
   ],
   "metadata": {
    "collapsed": false,
    "ExecuteTime": {
     "end_time": "2024-05-07T12:14:06.016290Z",
     "start_time": "2024-05-07T12:14:05.922664Z"
    }
   },
   "id": "b311ce026ffce0f2",
   "execution_count": 118
  },
  {
   "cell_type": "code",
   "outputs": [],
   "source": [
    "# Add CPDs and factors to the model\n",
    "\n",
    "\n",
    "# Check if model is consistent\n"
   ],
   "metadata": {
    "collapsed": false,
    "ExecuteTime": {
     "end_time": "2024-05-07T12:14:06.025125Z",
     "start_time": "2024-05-07T12:14:06.016270Z"
    }
   },
   "id": "ef60afcb60312c45",
   "execution_count": 119
  },
  {
   "cell_type": "code",
   "outputs": [
    {
     "data": {
      "text/plain": "NodeView(('weather', 'precipitation', 'wind', 'temp_max', 'temp_min'))"
     },
     "execution_count": 120,
     "metadata": {},
     "output_type": "execute_result"
    }
   ],
   "source": [
    "# Viewing nodes of the model\n",
    "weather_model.nodes()"
   ],
   "metadata": {
    "collapsed": false,
    "ExecuteTime": {
     "end_time": "2024-05-07T12:14:06.052628Z",
     "start_time": "2024-05-07T12:14:06.024528Z"
    }
   },
   "id": "9080682929babe16",
   "execution_count": 120
  },
  {
   "cell_type": "code",
   "outputs": [
    {
     "data": {
      "text/plain": "OutEdgeView([('weather', 'precipitation'), ('weather', 'wind'), ('precipitation', 'temp_max'), ('wind', 'temp_max'), ('wind', 'temp_min')])"
     },
     "execution_count": 121,
     "metadata": {},
     "output_type": "execute_result"
    }
   ],
   "source": [
    "# Viewing edges of the model\n",
    "weather_model.edges()"
   ],
   "metadata": {
    "collapsed": false,
    "ExecuteTime": {
     "end_time": "2024-05-07T12:14:06.124293Z",
     "start_time": "2024-05-07T12:14:06.052502Z"
    }
   },
   "id": "730fc6678f3a338",
   "execution_count": 121
  },
  {
   "cell_type": "code",
   "outputs": [],
   "source": [],
   "metadata": {
    "collapsed": false,
    "ExecuteTime": {
     "end_time": "2024-05-07T12:14:06.181723Z",
     "start_time": "2024-05-07T12:14:06.122811Z"
    }
   },
   "id": "f0e553eef4083002",
   "execution_count": 121
  },
  {
   "cell_type": "code",
   "outputs": [],
   "source": [
    "# Independcies in the model\n",
    "\n",
    "# Checking independcies of a particular node\n"
   ],
   "metadata": {
    "collapsed": false,
    "ExecuteTime": {
     "end_time": "2024-05-07T12:14:06.215319Z",
     "start_time": "2024-05-07T12:14:06.150041Z"
    }
   },
   "id": "549b0ca933040656",
   "execution_count": 122
  },
  {
   "cell_type": "markdown",
   "source": [],
   "metadata": {
    "collapsed": false
   },
   "id": "b61a97f716010fc"
  },
  {
   "cell_type": "markdown",
   "source": [
    "# Task 1.2"
   ],
   "metadata": {
    "collapsed": false
   },
   "id": "ee5a805c4240b332"
  },
  {
   "cell_type": "code",
   "outputs": [],
   "source": [
    "from pgmpy.inference import VariableElimination"
   ],
   "metadata": {
    "collapsed": false,
    "ExecuteTime": {
     "end_time": "2024-05-07T12:14:06.250555Z",
     "start_time": "2024-05-07T12:14:06.216256Z"
    }
   },
   "id": "7e05861fb292716b",
   "execution_count": 123
  },
  {
   "cell_type": "code",
   "outputs": [
    {
     "name": "stdout",
     "output_type": "stream",
     "text": [
      "Probability of high wind given sunny weather:\n",
      "+-----------+-------------+\n",
      "| wind      |   phi(wind) |\n",
      "+===========+=============+\n",
      "| wind(0.4) |      0.0016 |\n",
      "+-----------+-------------+\n",
      "| wind(0.5) |      0.0031 |\n",
      "+-----------+-------------+\n",
      "| wind(0.6) |      0.0031 |\n",
      "+-----------+-------------+\n",
      "| wind(0.7) |      0.0016 |\n",
      "+-----------+-------------+\n",
      "| wind(0.8) |      0.0047 |\n",
      "+-----------+-------------+\n",
      "| wind(0.9) |      0.0031 |\n",
      "+-----------+-------------+\n",
      "| wind(1.0) |      0.0063 |\n",
      "+-----------+-------------+\n",
      "| wind(1.1) |      0.0047 |\n",
      "+-----------+-------------+\n",
      "| wind(1.2) |      0.0078 |\n",
      "+-----------+-------------+\n",
      "| wind(1.3) |      0.0203 |\n",
      "+-----------+-------------+\n",
      "| wind(1.4) |      0.0094 |\n",
      "+-----------+-------------+\n",
      "| wind(1.5) |      0.0156 |\n",
      "+-----------+-------------+\n",
      "| wind(1.6) |      0.0141 |\n",
      "+-----------+-------------+\n",
      "| wind(1.7) |      0.0234 |\n",
      "+-----------+-------------+\n",
      "| wind(1.8) |      0.0219 |\n",
      "+-----------+-------------+\n",
      "| wind(1.9) |      0.0281 |\n",
      "+-----------+-------------+\n",
      "| wind(2.0) |      0.0234 |\n",
      "+-----------+-------------+\n",
      "| wind(2.1) |      0.0375 |\n",
      "+-----------+-------------+\n",
      "| wind(2.2) |      0.0438 |\n",
      "+-----------+-------------+\n",
      "| wind(2.3) |      0.0438 |\n",
      "+-----------+-------------+\n",
      "| wind(2.4) |      0.0344 |\n",
      "+-----------+-------------+\n",
      "| wind(2.5) |      0.0438 |\n",
      "+-----------+-------------+\n",
      "| wind(2.6) |      0.0578 |\n",
      "+-----------+-------------+\n",
      "| wind(2.7) |      0.0344 |\n",
      "+-----------+-------------+\n",
      "| wind(2.8) |      0.0391 |\n",
      "+-----------+-------------+\n",
      "| wind(2.9) |      0.0359 |\n",
      "+-----------+-------------+\n",
      "| wind(3.0) |      0.0578 |\n",
      "+-----------+-------------+\n",
      "| wind(3.1) |      0.0313 |\n",
      "+-----------+-------------+\n",
      "| wind(3.2) |      0.0250 |\n",
      "+-----------+-------------+\n",
      "| wind(3.3) |      0.0188 |\n",
      "+-----------+-------------+\n",
      "| wind(3.4) |      0.0297 |\n",
      "+-----------+-------------+\n",
      "| wind(3.5) |      0.0141 |\n",
      "+-----------+-------------+\n",
      "| wind(3.6) |      0.0250 |\n",
      "+-----------+-------------+\n",
      "| wind(3.7) |      0.0328 |\n",
      "+-----------+-------------+\n",
      "| wind(3.8) |      0.0188 |\n",
      "+-----------+-------------+\n",
      "| wind(3.9) |      0.0172 |\n",
      "+-----------+-------------+\n",
      "| wind(4.0) |      0.0047 |\n",
      "+-----------+-------------+\n",
      "| wind(4.1) |      0.0156 |\n",
      "+-----------+-------------+\n",
      "| wind(4.2) |      0.0156 |\n",
      "+-----------+-------------+\n",
      "| wind(4.3) |      0.0250 |\n",
      "+-----------+-------------+\n",
      "| wind(4.4) |      0.0078 |\n",
      "+-----------+-------------+\n",
      "| wind(4.5) |      0.0078 |\n",
      "+-----------+-------------+\n",
      "| wind(4.6) |      0.0063 |\n",
      "+-----------+-------------+\n",
      "| wind(4.7) |      0.0172 |\n",
      "+-----------+-------------+\n",
      "| wind(4.8) |      0.0047 |\n",
      "+-----------+-------------+\n",
      "| wind(4.9) |      0.0016 |\n",
      "+-----------+-------------+\n",
      "| wind(5.0) |      0.0016 |\n",
      "+-----------+-------------+\n",
      "| wind(5.1) |      0.0094 |\n",
      "+-----------+-------------+\n",
      "| wind(5.2) |      0.0047 |\n",
      "+-----------+-------------+\n",
      "| wind(5.3) |      0.0063 |\n",
      "+-----------+-------------+\n",
      "| wind(5.4) |      0.0000 |\n",
      "+-----------+-------------+\n",
      "| wind(5.5) |      0.0016 |\n",
      "+-----------+-------------+\n",
      "| wind(5.6) |      0.0031 |\n",
      "+-----------+-------------+\n",
      "| wind(5.7) |      0.0063 |\n",
      "+-----------+-------------+\n",
      "| wind(5.8) |      0.0031 |\n",
      "+-----------+-------------+\n",
      "| wind(5.9) |      0.0063 |\n",
      "+-----------+-------------+\n",
      "| wind(6.0) |      0.0000 |\n",
      "+-----------+-------------+\n",
      "| wind(6.1) |      0.0016 |\n",
      "+-----------+-------------+\n",
      "| wind(6.2) |      0.0000 |\n",
      "+-----------+-------------+\n",
      "| wind(6.3) |      0.0000 |\n",
      "+-----------+-------------+\n",
      "| wind(6.4) |      0.0031 |\n",
      "+-----------+-------------+\n",
      "| wind(6.5) |      0.0047 |\n",
      "+-----------+-------------+\n",
      "| wind(6.6) |      0.0016 |\n",
      "+-----------+-------------+\n",
      "| wind(6.7) |      0.0000 |\n",
      "+-----------+-------------+\n",
      "| wind(6.8) |      0.0000 |\n",
      "+-----------+-------------+\n",
      "| wind(6.9) |      0.0000 |\n",
      "+-----------+-------------+\n",
      "| wind(7.0) |      0.0016 |\n",
      "+-----------+-------------+\n",
      "| wind(7.1) |      0.0016 |\n",
      "+-----------+-------------+\n",
      "| wind(7.2) |      0.0000 |\n",
      "+-----------+-------------+\n",
      "| wind(7.3) |      0.0016 |\n",
      "+-----------+-------------+\n",
      "| wind(7.5) |      0.0000 |\n",
      "+-----------+-------------+\n",
      "| wind(7.6) |      0.0016 |\n",
      "+-----------+-------------+\n",
      "| wind(7.7) |      0.0016 |\n",
      "+-----------+-------------+\n",
      "| wind(7.9) |      0.0000 |\n",
      "+-----------+-------------+\n",
      "| wind(8.0) |      0.0000 |\n",
      "+-----------+-------------+\n",
      "| wind(8.1) |      0.0000 |\n",
      "+-----------+-------------+\n",
      "| wind(8.2) |      0.0000 |\n",
      "+-----------+-------------+\n",
      "| wind(8.8) |      0.0000 |\n",
      "+-----------+-------------+\n",
      "| wind(9.5) |      0.0000 |\n",
      "+-----------+-------------+\n",
      "            date  precipitation  temp_max  temp_min    wind  weather\n",
      "0     2012-01-01            0.0      12.8       5.0  medium  drizzle\n",
      "1     2012-01-02           10.9      10.6       2.8  medium     rain\n",
      "2     2012-01-03            0.8      11.7       7.2     low     rain\n",
      "3     2012-01-04           20.3      12.2       5.6  medium     rain\n",
      "4     2012-01-05            1.3       8.9       2.8    high     rain\n",
      "...          ...            ...       ...       ...     ...      ...\n",
      "1456  2015-12-27            8.6       4.4       1.7     low     rain\n",
      "1457  2015-12-28            1.5       5.0       1.7     low     rain\n",
      "1458  2015-12-29            0.0       7.2       0.6     low      fog\n",
      "1459  2015-12-30            0.0       5.6      -1.0  medium      sun\n",
      "1460  2015-12-31            0.0       5.6      -2.1  medium      sun\n",
      "\n",
      "[1461 rows x 6 columns]\n"
     ]
    },
    {
     "ename": "KeyError",
     "evalue": "'high'",
     "output_type": "error",
     "traceback": [
      "\u001B[0;31m---------------------------------------------------------------------------\u001B[0m",
      "\u001B[0;31mKeyError\u001B[0m                                  Traceback (most recent call last)",
      "Cell \u001B[0;32mIn[124], line 11\u001B[0m\n\u001B[1;32m      8\u001B[0m df[\u001B[38;5;124m'\u001B[39m\u001B[38;5;124mwind\u001B[39m\u001B[38;5;124m'\u001B[39m] \u001B[38;5;241m=\u001B[39m pd\u001B[38;5;241m.\u001B[39mcut(df[\u001B[38;5;124m'\u001B[39m\u001B[38;5;124mwind\u001B[39m\u001B[38;5;124m'\u001B[39m], bins\u001B[38;5;241m=\u001B[39mwind_bins, labels\u001B[38;5;241m=\u001B[39mlabels, include_lowest\u001B[38;5;241m=\u001B[39m\u001B[38;5;28;01mTrue\u001B[39;00m)\n\u001B[1;32m      9\u001B[0m \u001B[38;5;28mprint\u001B[39m(df)\n\u001B[0;32m---> 11\u001B[0m prob_sunny_given_high_wind \u001B[38;5;241m=\u001B[39m \u001B[43minference\u001B[49m\u001B[38;5;241;43m.\u001B[39;49m\u001B[43mquery\u001B[49m\u001B[43m(\u001B[49m\u001B[43mvariables\u001B[49m\u001B[38;5;241;43m=\u001B[39;49m\u001B[43m[\u001B[49m\u001B[38;5;124;43m'\u001B[39;49m\u001B[38;5;124;43mweather\u001B[39;49m\u001B[38;5;124;43m'\u001B[39;49m\u001B[43m]\u001B[49m\u001B[43m,\u001B[49m\u001B[43m \u001B[49m\u001B[43mevidence\u001B[49m\u001B[38;5;241;43m=\u001B[39;49m\u001B[43m{\u001B[49m\u001B[38;5;124;43m'\u001B[39;49m\u001B[38;5;124;43mwind\u001B[39;49m\u001B[38;5;124;43m'\u001B[39;49m\u001B[43m:\u001B[49m\u001B[43m \u001B[49m\u001B[38;5;124;43m'\u001B[39;49m\u001B[38;5;124;43mhigh\u001B[39;49m\u001B[38;5;124;43m'\u001B[39;49m\u001B[43m}\u001B[49m\u001B[43m)\u001B[49m\n\u001B[1;32m     12\u001B[0m \u001B[38;5;28mprint\u001B[39m(\u001B[38;5;124m\"\u001B[39m\u001B[38;5;124mProbability of sunny weather given high wind:\u001B[39m\u001B[38;5;124m\"\u001B[39m)\n\u001B[1;32m     13\u001B[0m \u001B[38;5;28mprint\u001B[39m(prob_sunny_given_high_wind[\u001B[38;5;124m'\u001B[39m\u001B[38;5;124mweather\u001B[39m\u001B[38;5;124m'\u001B[39m])\n",
      "File \u001B[0;32m~/Library/Caches/pypoetry/virtualenvs/ai-course-pkokEw5Q-py3.12/lib/python3.12/site-packages/pgmpy/inference/ExactInference.py:339\u001B[0m, in \u001B[0;36mVariableElimination.query\u001B[0;34m(self, variables, evidence, virtual_evidence, elimination_order, joint, show_progress)\u001B[0m\n\u001B[1;32m    337\u001B[0m     indexer \u001B[38;5;241m=\u001B[39m [\u001B[38;5;28mslice\u001B[39m(\u001B[38;5;28;01mNone\u001B[39;00m)] \u001B[38;5;241m*\u001B[39m \u001B[38;5;28mlen\u001B[39m(phi\u001B[38;5;241m.\u001B[39mvariables)\n\u001B[1;32m    338\u001B[0m     \u001B[38;5;28;01mfor\u001B[39;00m index \u001B[38;5;129;01min\u001B[39;00m indexes_to_reduce:\n\u001B[0;32m--> 339\u001B[0m         indexer[index] \u001B[38;5;241m=\u001B[39m \u001B[43mphi\u001B[49m\u001B[38;5;241;43m.\u001B[39;49m\u001B[43mget_state_no\u001B[49m\u001B[43m(\u001B[49m\n\u001B[1;32m    340\u001B[0m \u001B[43m            \u001B[49m\u001B[43mphi\u001B[49m\u001B[38;5;241;43m.\u001B[39;49m\u001B[43mvariables\u001B[49m\u001B[43m[\u001B[49m\u001B[43mindex\u001B[49m\u001B[43m]\u001B[49m\u001B[43m,\u001B[49m\u001B[43m \u001B[49m\u001B[43mevidence\u001B[49m\u001B[43m[\u001B[49m\u001B[43mphi\u001B[49m\u001B[38;5;241;43m.\u001B[39;49m\u001B[43mvariables\u001B[49m\u001B[43m[\u001B[49m\u001B[43mindex\u001B[49m\u001B[43m]\u001B[49m\u001B[43m]\u001B[49m\n\u001B[1;32m    341\u001B[0m \u001B[43m        \u001B[49m\u001B[43m)\u001B[49m\n\u001B[1;32m    342\u001B[0m     reduce_indexes\u001B[38;5;241m.\u001B[39mappend(\u001B[38;5;28mtuple\u001B[39m(indexer))\n\u001B[1;32m    344\u001B[0m \u001B[38;5;66;03m# Step 5.2: Prepare values and index arrays to do use in einsum\u001B[39;00m\n",
      "File \u001B[0;32m~/Library/Caches/pypoetry/virtualenvs/ai-course-pkokEw5Q-py3.12/lib/python3.12/site-packages/pgmpy/utils/state_name.py:72\u001B[0m, in \u001B[0;36mStateNameMixin.get_state_no\u001B[0;34m(self, var, state_name)\u001B[0m\n\u001B[1;32m     68\u001B[0m \u001B[38;5;250m\u001B[39m\u001B[38;5;124;03m\"\"\"\u001B[39;00m\n\u001B[1;32m     69\u001B[0m \u001B[38;5;124;03mGiven `var` and `state_name` return the state number.\u001B[39;00m\n\u001B[1;32m     70\u001B[0m \u001B[38;5;124;03m\"\"\"\u001B[39;00m\n\u001B[1;32m     71\u001B[0m \u001B[38;5;28;01mif\u001B[39;00m \u001B[38;5;28mself\u001B[39m\u001B[38;5;241m.\u001B[39mstate_names:\n\u001B[0;32m---> 72\u001B[0m     \u001B[38;5;28;01mreturn\u001B[39;00m \u001B[38;5;28;43mself\u001B[39;49m\u001B[38;5;241;43m.\u001B[39;49m\u001B[43mname_to_no\u001B[49m\u001B[43m[\u001B[49m\u001B[43mvar\u001B[49m\u001B[43m]\u001B[49m\u001B[43m[\u001B[49m\u001B[43mstate_name\u001B[49m\u001B[43m]\u001B[49m\n\u001B[1;32m     73\u001B[0m \u001B[38;5;28;01melse\u001B[39;00m:\n\u001B[1;32m     74\u001B[0m     \u001B[38;5;28;01mreturn\u001B[39;00m state_name\n",
      "\u001B[0;31mKeyError\u001B[0m: 'high'"
     ]
    }
   ],
   "source": [
    "# Question 1: (a) What is the probability of high wind when the weather is sunny? (b) What is the probability of sunny weather when the wind is high?\n",
    "# (a) Probability of high wind when the weather is sunny\n",
    "prob_high_wind_given_sunny = inference.query(variables=['wind'], evidence={'weather': 'sun'})\n",
    "print(\"Probability of high wind given sunny weather:\")\n",
    "print(prob_high_wind_given_sunny)\n",
    "\n",
    "# (b) Probability of sunny weather when the wind is high\n",
    "df['wind'] = pd.cut(df['wind'], bins=wind_bins, labels=labels, include_lowest=True)\n",
    "print(df)\n",
    "\n",
    "prob_sunny_given_high_wind = inference.query(variables=['weather'], evidence={'wind': 'high'})\n",
    "print(\"Probability of sunny weather given high wind:\")\n",
    "print(prob_sunny_given_high_wind['weather'])\n",
    "df['wind'] = original_wind\n",
    "\n"
   ],
   "metadata": {
    "collapsed": false,
    "ExecuteTime": {
     "end_time": "2024-05-07T12:14:06.346907Z",
     "start_time": "2024-05-07T12:14:06.251288Z"
    }
   },
   "id": "a27889313e8e84c0",
   "execution_count": 124
  },
  {
   "cell_type": "code",
   "outputs": [
    {
     "name": "stdout",
     "output_type": "stream",
     "text": [
      "None\n"
     ]
    }
   ],
   "source": [
    "# Question 2:\n",
    "# (a) Calculate all the possible joint probability and determine the best probable condition. Explain your results?\n",
    "joint_prob = inference.query(variables=['weather', 'precipitation', 'wind', 'temp_max', 'temp_min'], joint=True)\n",
    "# print(joint_prob) # wont work, output to big\n",
    "\n",
    "# (b) What is the most probable condition for precipitation, wind and weather, combined?\n",
    "print(joint_prob.maximize([]))"
   ],
   "metadata": {
    "collapsed": false,
    "ExecuteTime": {
     "end_time": "2024-05-07T12:14:06.536846Z",
     "start_time": "2024-05-07T12:14:06.316408Z"
    }
   },
   "id": "518193b4544e2938",
   "execution_count": 125
  },
  {
   "cell_type": "code",
   "outputs": [
    {
     "name": "stdout",
     "output_type": "stream",
     "text": [
      "+------------------+----------------+\n",
      "| weather          |   phi(weather) |\n",
      "+==================+================+\n",
      "| weather(drizzle) |         0.0000 |\n",
      "+------------------+----------------+\n",
      "| weather(fog)     |         0.0000 |\n",
      "+------------------+----------------+\n",
      "| weather(rain)    |         0.9389 |\n",
      "+------------------+----------------+\n",
      "| weather(snow)    |         0.0611 |\n",
      "+------------------+----------------+\n",
      "| weather(sun)     |         0.0000 |\n",
      "+------------------+----------------+\n"
     ]
    }
   ],
   "source": [
    "# Question 3. Find the probability associated with each weather, given that the precipitation is medium? Explain your result.\n",
    "result_q3 = inference.query(variables=['weather'], evidence={'precipitation': 'medium'})\n",
    "print(result_q3)\n",
    "\n"
   ],
   "metadata": {
    "collapsed": false,
    "ExecuteTime": {
     "end_time": "2024-05-07T12:14:06.537992Z",
     "start_time": "2024-05-07T12:14:06.352334Z"
    }
   },
   "id": "2a45225511df2758",
   "execution_count": 126
  },
  {
   "cell_type": "code",
   "outputs": [
    {
     "ename": "TypeError",
     "evalue": "'<' not supported between instances of 'float' and 'str'",
     "output_type": "error",
     "traceback": [
      "\u001B[0;31m---------------------------------------------------------------------------\u001B[0m",
      "\u001B[0;31mTypeError\u001B[0m                                 Traceback (most recent call last)",
      "Cell \u001B[0;32mIn[127], line 3\u001B[0m\n\u001B[1;32m      1\u001B[0m \u001B[38;5;66;03m# Query the network for weather conditions with 'precipitation = medium' and 'wind = low'\u001B[39;00m\n\u001B[1;32m      2\u001B[0m df[\u001B[38;5;124m'\u001B[39m\u001B[38;5;124mprecipitation\u001B[39m\u001B[38;5;124m'\u001B[39m] \u001B[38;5;241m=\u001B[39m pd\u001B[38;5;241m.\u001B[39mcut(df[\u001B[38;5;124m'\u001B[39m\u001B[38;5;124mprecipitation\u001B[39m\u001B[38;5;124m'\u001B[39m], bins\u001B[38;5;241m=\u001B[39mprecipitation_bins, labels\u001B[38;5;241m=\u001B[39mlabels, include_lowest\u001B[38;5;241m=\u001B[39m\u001B[38;5;28;01mTrue\u001B[39;00m)\n\u001B[0;32m----> 3\u001B[0m df[\u001B[38;5;124m'\u001B[39m\u001B[38;5;124mwind\u001B[39m\u001B[38;5;124m'\u001B[39m] \u001B[38;5;241m=\u001B[39m \u001B[43mpd\u001B[49m\u001B[38;5;241;43m.\u001B[39;49m\u001B[43mcut\u001B[49m\u001B[43m(\u001B[49m\u001B[43mdf\u001B[49m\u001B[43m[\u001B[49m\u001B[38;5;124;43m'\u001B[39;49m\u001B[38;5;124;43mwind\u001B[39;49m\u001B[38;5;124;43m'\u001B[39;49m\u001B[43m]\u001B[49m\u001B[43m,\u001B[49m\u001B[43m \u001B[49m\u001B[43mbins\u001B[49m\u001B[38;5;241;43m=\u001B[39;49m\u001B[43mwind_bins\u001B[49m\u001B[43m,\u001B[49m\u001B[43m \u001B[49m\u001B[43mlabels\u001B[49m\u001B[38;5;241;43m=\u001B[39;49m\u001B[43mlabels\u001B[49m\u001B[43m,\u001B[49m\u001B[43m \u001B[49m\u001B[43minclude_lowest\u001B[49m\u001B[38;5;241;43m=\u001B[39;49m\u001B[38;5;28;43;01mTrue\u001B[39;49;00m\u001B[43m)\u001B[49m\n\u001B[1;32m      5\u001B[0m \u001B[38;5;28;01mtry\u001B[39;00m:\n\u001B[1;32m      6\u001B[0m     \u001B[38;5;66;03m# Query for 'precipitation' = 'medium'\u001B[39;00m\n\u001B[1;32m      7\u001B[0m     weather_given_precip_med \u001B[38;5;241m=\u001B[39m inference\u001B[38;5;241m.\u001B[39mquery(\n\u001B[1;32m      8\u001B[0m         variables\u001B[38;5;241m=\u001B[39m[\u001B[38;5;124m'\u001B[39m\u001B[38;5;124mweather\u001B[39m\u001B[38;5;124m'\u001B[39m],\n\u001B[1;32m      9\u001B[0m         evidence\u001B[38;5;241m=\u001B[39m{\u001B[38;5;124m'\u001B[39m\u001B[38;5;124mprecipitation\u001B[39m\u001B[38;5;124m'\u001B[39m: \u001B[38;5;124m'\u001B[39m\u001B[38;5;124mmedium\u001B[39m\u001B[38;5;124m'\u001B[39m}\n\u001B[1;32m     10\u001B[0m     )\n",
      "File \u001B[0;32m~/Library/Caches/pypoetry/virtualenvs/ai-course-pkokEw5Q-py3.12/lib/python3.12/site-packages/pandas/core/reshape/tile.py:257\u001B[0m, in \u001B[0;36mcut\u001B[0;34m(x, bins, right, labels, retbins, precision, include_lowest, duplicates, ordered)\u001B[0m\n\u001B[1;32m    254\u001B[0m     \u001B[38;5;28;01mif\u001B[39;00m \u001B[38;5;129;01mnot\u001B[39;00m bins\u001B[38;5;241m.\u001B[39mis_monotonic_increasing:\n\u001B[1;32m    255\u001B[0m         \u001B[38;5;28;01mraise\u001B[39;00m \u001B[38;5;167;01mValueError\u001B[39;00m(\u001B[38;5;124m\"\u001B[39m\u001B[38;5;124mbins must increase monotonically.\u001B[39m\u001B[38;5;124m\"\u001B[39m)\n\u001B[0;32m--> 257\u001B[0m fac, bins \u001B[38;5;241m=\u001B[39m \u001B[43m_bins_to_cuts\u001B[49m\u001B[43m(\u001B[49m\n\u001B[1;32m    258\u001B[0m \u001B[43m    \u001B[49m\u001B[43mx_idx\u001B[49m\u001B[43m,\u001B[49m\n\u001B[1;32m    259\u001B[0m \u001B[43m    \u001B[49m\u001B[43mbins\u001B[49m\u001B[43m,\u001B[49m\n\u001B[1;32m    260\u001B[0m \u001B[43m    \u001B[49m\u001B[43mright\u001B[49m\u001B[38;5;241;43m=\u001B[39;49m\u001B[43mright\u001B[49m\u001B[43m,\u001B[49m\n\u001B[1;32m    261\u001B[0m \u001B[43m    \u001B[49m\u001B[43mlabels\u001B[49m\u001B[38;5;241;43m=\u001B[39;49m\u001B[43mlabels\u001B[49m\u001B[43m,\u001B[49m\n\u001B[1;32m    262\u001B[0m \u001B[43m    \u001B[49m\u001B[43mprecision\u001B[49m\u001B[38;5;241;43m=\u001B[39;49m\u001B[43mprecision\u001B[49m\u001B[43m,\u001B[49m\n\u001B[1;32m    263\u001B[0m \u001B[43m    \u001B[49m\u001B[43minclude_lowest\u001B[49m\u001B[38;5;241;43m=\u001B[39;49m\u001B[43minclude_lowest\u001B[49m\u001B[43m,\u001B[49m\n\u001B[1;32m    264\u001B[0m \u001B[43m    \u001B[49m\u001B[43mduplicates\u001B[49m\u001B[38;5;241;43m=\u001B[39;49m\u001B[43mduplicates\u001B[49m\u001B[43m,\u001B[49m\n\u001B[1;32m    265\u001B[0m \u001B[43m    \u001B[49m\u001B[43mordered\u001B[49m\u001B[38;5;241;43m=\u001B[39;49m\u001B[43mordered\u001B[49m\u001B[43m,\u001B[49m\n\u001B[1;32m    266\u001B[0m \u001B[43m\u001B[49m\u001B[43m)\u001B[49m\n\u001B[1;32m    268\u001B[0m \u001B[38;5;28;01mreturn\u001B[39;00m _postprocess_for_cut(fac, bins, retbins, original)\n",
      "File \u001B[0;32m~/Library/Caches/pypoetry/virtualenvs/ai-course-pkokEw5Q-py3.12/lib/python3.12/site-packages/pandas/core/reshape/tile.py:452\u001B[0m, in \u001B[0;36m_bins_to_cuts\u001B[0;34m(x_idx, bins, right, labels, precision, include_lowest, duplicates, ordered)\u001B[0m\n\u001B[1;32m    449\u001B[0m side: Literal[\u001B[38;5;124m\"\u001B[39m\u001B[38;5;124mleft\u001B[39m\u001B[38;5;124m\"\u001B[39m, \u001B[38;5;124m\"\u001B[39m\u001B[38;5;124mright\u001B[39m\u001B[38;5;124m\"\u001B[39m] \u001B[38;5;241m=\u001B[39m \u001B[38;5;124m\"\u001B[39m\u001B[38;5;124mleft\u001B[39m\u001B[38;5;124m\"\u001B[39m \u001B[38;5;28;01mif\u001B[39;00m right \u001B[38;5;28;01melse\u001B[39;00m \u001B[38;5;124m\"\u001B[39m\u001B[38;5;124mright\u001B[39m\u001B[38;5;124m\"\u001B[39m\n\u001B[1;32m    451\u001B[0m \u001B[38;5;28;01mtry\u001B[39;00m:\n\u001B[0;32m--> 452\u001B[0m     ids \u001B[38;5;241m=\u001B[39m \u001B[43mbins\u001B[49m\u001B[38;5;241;43m.\u001B[39;49m\u001B[43msearchsorted\u001B[49m\u001B[43m(\u001B[49m\u001B[43mx_idx\u001B[49m\u001B[43m,\u001B[49m\u001B[43m \u001B[49m\u001B[43mside\u001B[49m\u001B[38;5;241;43m=\u001B[39;49m\u001B[43mside\u001B[49m\u001B[43m)\u001B[49m\n\u001B[1;32m    453\u001B[0m \u001B[38;5;28;01mexcept\u001B[39;00m \u001B[38;5;167;01mTypeError\u001B[39;00m \u001B[38;5;28;01mas\u001B[39;00m err:\n\u001B[1;32m    454\u001B[0m     \u001B[38;5;66;03m# e.g. test_datetime_nan_error if bins are DatetimeArray and x_idx\u001B[39;00m\n\u001B[1;32m    455\u001B[0m     \u001B[38;5;66;03m#  is integers\u001B[39;00m\n\u001B[1;32m    456\u001B[0m     \u001B[38;5;28;01mif\u001B[39;00m x_idx\u001B[38;5;241m.\u001B[39mdtype\u001B[38;5;241m.\u001B[39mkind \u001B[38;5;241m==\u001B[39m \u001B[38;5;124m\"\u001B[39m\u001B[38;5;124mm\u001B[39m\u001B[38;5;124m\"\u001B[39m:\n",
      "File \u001B[0;32m~/Library/Caches/pypoetry/virtualenvs/ai-course-pkokEw5Q-py3.12/lib/python3.12/site-packages/pandas/core/base.py:1352\u001B[0m, in \u001B[0;36mIndexOpsMixin.searchsorted\u001B[0;34m(self, value, side, sorter)\u001B[0m\n\u001B[1;32m   1348\u001B[0m \u001B[38;5;28;01mif\u001B[39;00m \u001B[38;5;129;01mnot\u001B[39;00m \u001B[38;5;28misinstance\u001B[39m(values, np\u001B[38;5;241m.\u001B[39mndarray):\n\u001B[1;32m   1349\u001B[0m     \u001B[38;5;66;03m# Going through EA.searchsorted directly improves performance GH#38083\u001B[39;00m\n\u001B[1;32m   1350\u001B[0m     \u001B[38;5;28;01mreturn\u001B[39;00m values\u001B[38;5;241m.\u001B[39msearchsorted(value, side\u001B[38;5;241m=\u001B[39mside, sorter\u001B[38;5;241m=\u001B[39msorter)\n\u001B[0;32m-> 1352\u001B[0m \u001B[38;5;28;01mreturn\u001B[39;00m \u001B[43malgorithms\u001B[49m\u001B[38;5;241;43m.\u001B[39;49m\u001B[43msearchsorted\u001B[49m\u001B[43m(\u001B[49m\n\u001B[1;32m   1353\u001B[0m \u001B[43m    \u001B[49m\u001B[43mvalues\u001B[49m\u001B[43m,\u001B[49m\n\u001B[1;32m   1354\u001B[0m \u001B[43m    \u001B[49m\u001B[43mvalue\u001B[49m\u001B[43m,\u001B[49m\n\u001B[1;32m   1355\u001B[0m \u001B[43m    \u001B[49m\u001B[43mside\u001B[49m\u001B[38;5;241;43m=\u001B[39;49m\u001B[43mside\u001B[49m\u001B[43m,\u001B[49m\n\u001B[1;32m   1356\u001B[0m \u001B[43m    \u001B[49m\u001B[43msorter\u001B[49m\u001B[38;5;241;43m=\u001B[39;49m\u001B[43msorter\u001B[49m\u001B[43m,\u001B[49m\n\u001B[1;32m   1357\u001B[0m \u001B[43m\u001B[49m\u001B[43m)\u001B[49m\n",
      "File \u001B[0;32m~/Library/Caches/pypoetry/virtualenvs/ai-course-pkokEw5Q-py3.12/lib/python3.12/site-packages/pandas/core/algorithms.py:1329\u001B[0m, in \u001B[0;36msearchsorted\u001B[0;34m(arr, value, side, sorter)\u001B[0m\n\u001B[1;32m   1325\u001B[0m     arr \u001B[38;5;241m=\u001B[39m ensure_wrapped_if_datetimelike(arr)\n\u001B[1;32m   1327\u001B[0m \u001B[38;5;66;03m# Argument 1 to \"searchsorted\" of \"ndarray\" has incompatible type\u001B[39;00m\n\u001B[1;32m   1328\u001B[0m \u001B[38;5;66;03m# \"Union[NumpyValueArrayLike, ExtensionArray]\"; expected \"NumpyValueArrayLike\"\u001B[39;00m\n\u001B[0;32m-> 1329\u001B[0m \u001B[38;5;28;01mreturn\u001B[39;00m \u001B[43marr\u001B[49m\u001B[38;5;241;43m.\u001B[39;49m\u001B[43msearchsorted\u001B[49m\u001B[43m(\u001B[49m\u001B[43mvalue\u001B[49m\u001B[43m,\u001B[49m\u001B[43m \u001B[49m\u001B[43mside\u001B[49m\u001B[38;5;241;43m=\u001B[39;49m\u001B[43mside\u001B[49m\u001B[43m,\u001B[49m\u001B[43m \u001B[49m\u001B[43msorter\u001B[49m\u001B[38;5;241;43m=\u001B[39;49m\u001B[43msorter\u001B[49m\u001B[43m)\u001B[49m\n",
      "\u001B[0;31mTypeError\u001B[0m: '<' not supported between instances of 'float' and 'str'"
     ]
    }
   ],
   "source": [
    "# Query the network for weather conditions with 'precipitation = medium' and 'wind = low'\n",
    "df['precipitation'] = pd.cut(df['precipitation'], bins=precipitation_bins, labels=labels, include_lowest=True)\n",
    "df['wind'] = pd.cut(df['wind'], bins=wind_bins, labels=labels, include_lowest=True)\n",
    "\n",
    "try:\n",
    "    # Query for 'precipitation' = 'medium'\n",
    "    weather_given_precip_med = inference.query(\n",
    "        variables=['weather'],\n",
    "        evidence={'precipitation': 'medium'}\n",
    "    )\n",
    "    print(weather_given_precip_med)\n",
    "finally:\n",
    "    df['precipitation'] = original_precipitation\n",
    "    \n",
    "try:\n",
    "    # Query for 'wind' = 'low'\n",
    "    weather_given_wind_low = inference.query(\n",
    "        variables=['weather'],\n",
    "        evidence={'wind': 'low'}\n",
    "    )\n",
    "    print(weather_given_wind_low)\n",
    "except Exception as e:\n",
    "    print(f'failed: {e}')\n",
    "finally:\n",
    "    df['wind'] = original_wind"
   ],
   "metadata": {
    "collapsed": false,
    "ExecuteTime": {
     "end_time": "2024-05-07T12:14:06.617020Z",
     "start_time": "2024-05-07T12:14:06.563489Z"
    }
   },
   "id": "77bbb338d438dc95",
   "execution_count": 127
  },
  {
   "cell_type": "markdown",
   "source": [
    "# Task 1.3 - Approximate Inference"
   ],
   "metadata": {
    "collapsed": false
   },
   "id": "d7f8be2fe6c70648"
  },
  {
   "cell_type": "markdown",
   "source": [
    "## Likelihood Weighted Sample\n",
    "\n",
    "Generates weighted sample(s) from joint distribution of the Bayesian Network, that comply with the given evidence."
   ],
   "metadata": {
    "collapsed": false
   },
   "id": "a13825052cd008b4"
  },
  {
   "cell_type": "code",
   "outputs": [],
   "source": [
    "from pgmpy.factors.discrete import State\n",
    "from pgmpy.sampling import BayesianModelSampling\n"
   ],
   "metadata": {
    "collapsed": false,
    "ExecuteTime": {
     "start_time": "2024-05-07T12:14:06.566095Z"
    }
   },
   "id": "952669815d8ca852",
   "execution_count": null
  },
  {
   "cell_type": "code",
   "outputs": [],
   "source": [
    "# Repeat Q.1. (a) of Task 1.2 - What is the probability of high wind when the weather is sunny?\n",
    "# (a) Likelihood Weighted Sampling for high wind given sunny weather\n",
    "sampler = BayesianModelSampling(weather_model)\n",
    "\n",
    "#lw_samples = sampler.likelihood_weighted_sample(evidence=[State('weather', 'sun')], size=1000)\n",
    "#high_wind_given_sunny = lw_samples[lw_samples['wind'] == 'high'].shape[0] / lw_samples.shape[0]\n",
    "#print(\"P(High Wind | Sunny) using Likelihood Weighted Sampling:\", high_wind_given_sunny)\n"
   ],
   "metadata": {
    "collapsed": false,
    "ExecuteTime": {
     "start_time": "2024-05-07T12:14:06.567159Z"
    }
   },
   "id": "63332120625cec77",
   "execution_count": null
  },
  {
   "cell_type": "code",
   "outputs": [
    {
     "ename": "TypeError",
     "evalue": "'<' not supported between instances of 'float' and 'str'",
     "output_type": "error",
     "traceback": [
      "\u001B[0;31m---------------------------------------------------------------------------\u001B[0m",
      "\u001B[0;31mTypeError\u001B[0m                                 Traceback (most recent call last)",
      "Cell \u001B[0;32mIn[128], line 3\u001B[0m\n\u001B[1;32m      1\u001B[0m \u001B[38;5;66;03m# Repeat Q.1. (b) of Task 1.2 - What is the probability of sunny weather when the wind is high?\u001B[39;00m\n\u001B[1;32m      2\u001B[0m sampler \u001B[38;5;241m=\u001B[39m BayesianModelSampling(weather_model)\n\u001B[0;32m----> 3\u001B[0m df[\u001B[38;5;124m'\u001B[39m\u001B[38;5;124mwind\u001B[39m\u001B[38;5;124m'\u001B[39m] \u001B[38;5;241m=\u001B[39m \u001B[43mpd\u001B[49m\u001B[38;5;241;43m.\u001B[39;49m\u001B[43mcut\u001B[49m\u001B[43m(\u001B[49m\u001B[43mdf\u001B[49m\u001B[43m[\u001B[49m\u001B[38;5;124;43m'\u001B[39;49m\u001B[38;5;124;43mwind\u001B[39;49m\u001B[38;5;124;43m'\u001B[39;49m\u001B[43m]\u001B[49m\u001B[43m,\u001B[49m\u001B[43m \u001B[49m\u001B[43mbins\u001B[49m\u001B[38;5;241;43m=\u001B[39;49m\u001B[43mwind_bins\u001B[49m\u001B[43m,\u001B[49m\u001B[43m \u001B[49m\u001B[43mlabels\u001B[49m\u001B[38;5;241;43m=\u001B[39;49m\u001B[43mlabels\u001B[49m\u001B[43m,\u001B[49m\u001B[43m \u001B[49m\u001B[43minclude_lowest\u001B[49m\u001B[38;5;241;43m=\u001B[39;49m\u001B[38;5;28;43;01mTrue\u001B[39;49;00m\u001B[43m)\u001B[49m\n\u001B[1;32m      6\u001B[0m \u001B[38;5;66;03m# Probability of high wind when the weather is sunny\u001B[39;00m\n\u001B[1;32m      7\u001B[0m lw_samples \u001B[38;5;241m=\u001B[39m sampler\u001B[38;5;241m.\u001B[39mlikelihood_weighted_sample(evidence\u001B[38;5;241m=\u001B[39m[State(\u001B[38;5;124m'\u001B[39m\u001B[38;5;124mweather\u001B[39m\u001B[38;5;124m'\u001B[39m, \u001B[38;5;124m'\u001B[39m\u001B[38;5;124msun\u001B[39m\u001B[38;5;124m'\u001B[39m)], size\u001B[38;5;241m=\u001B[39m\u001B[38;5;241m1000\u001B[39m)\n",
      "File \u001B[0;32m~/Library/Caches/pypoetry/virtualenvs/ai-course-pkokEw5Q-py3.12/lib/python3.12/site-packages/pandas/core/reshape/tile.py:257\u001B[0m, in \u001B[0;36mcut\u001B[0;34m(x, bins, right, labels, retbins, precision, include_lowest, duplicates, ordered)\u001B[0m\n\u001B[1;32m    254\u001B[0m     \u001B[38;5;28;01mif\u001B[39;00m \u001B[38;5;129;01mnot\u001B[39;00m bins\u001B[38;5;241m.\u001B[39mis_monotonic_increasing:\n\u001B[1;32m    255\u001B[0m         \u001B[38;5;28;01mraise\u001B[39;00m \u001B[38;5;167;01mValueError\u001B[39;00m(\u001B[38;5;124m\"\u001B[39m\u001B[38;5;124mbins must increase monotonically.\u001B[39m\u001B[38;5;124m\"\u001B[39m)\n\u001B[0;32m--> 257\u001B[0m fac, bins \u001B[38;5;241m=\u001B[39m \u001B[43m_bins_to_cuts\u001B[49m\u001B[43m(\u001B[49m\n\u001B[1;32m    258\u001B[0m \u001B[43m    \u001B[49m\u001B[43mx_idx\u001B[49m\u001B[43m,\u001B[49m\n\u001B[1;32m    259\u001B[0m \u001B[43m    \u001B[49m\u001B[43mbins\u001B[49m\u001B[43m,\u001B[49m\n\u001B[1;32m    260\u001B[0m \u001B[43m    \u001B[49m\u001B[43mright\u001B[49m\u001B[38;5;241;43m=\u001B[39;49m\u001B[43mright\u001B[49m\u001B[43m,\u001B[49m\n\u001B[1;32m    261\u001B[0m \u001B[43m    \u001B[49m\u001B[43mlabels\u001B[49m\u001B[38;5;241;43m=\u001B[39;49m\u001B[43mlabels\u001B[49m\u001B[43m,\u001B[49m\n\u001B[1;32m    262\u001B[0m \u001B[43m    \u001B[49m\u001B[43mprecision\u001B[49m\u001B[38;5;241;43m=\u001B[39;49m\u001B[43mprecision\u001B[49m\u001B[43m,\u001B[49m\n\u001B[1;32m    263\u001B[0m \u001B[43m    \u001B[49m\u001B[43minclude_lowest\u001B[49m\u001B[38;5;241;43m=\u001B[39;49m\u001B[43minclude_lowest\u001B[49m\u001B[43m,\u001B[49m\n\u001B[1;32m    264\u001B[0m \u001B[43m    \u001B[49m\u001B[43mduplicates\u001B[49m\u001B[38;5;241;43m=\u001B[39;49m\u001B[43mduplicates\u001B[49m\u001B[43m,\u001B[49m\n\u001B[1;32m    265\u001B[0m \u001B[43m    \u001B[49m\u001B[43mordered\u001B[49m\u001B[38;5;241;43m=\u001B[39;49m\u001B[43mordered\u001B[49m\u001B[43m,\u001B[49m\n\u001B[1;32m    266\u001B[0m \u001B[43m\u001B[49m\u001B[43m)\u001B[49m\n\u001B[1;32m    268\u001B[0m \u001B[38;5;28;01mreturn\u001B[39;00m _postprocess_for_cut(fac, bins, retbins, original)\n",
      "File \u001B[0;32m~/Library/Caches/pypoetry/virtualenvs/ai-course-pkokEw5Q-py3.12/lib/python3.12/site-packages/pandas/core/reshape/tile.py:452\u001B[0m, in \u001B[0;36m_bins_to_cuts\u001B[0;34m(x_idx, bins, right, labels, precision, include_lowest, duplicates, ordered)\u001B[0m\n\u001B[1;32m    449\u001B[0m side: Literal[\u001B[38;5;124m\"\u001B[39m\u001B[38;5;124mleft\u001B[39m\u001B[38;5;124m\"\u001B[39m, \u001B[38;5;124m\"\u001B[39m\u001B[38;5;124mright\u001B[39m\u001B[38;5;124m\"\u001B[39m] \u001B[38;5;241m=\u001B[39m \u001B[38;5;124m\"\u001B[39m\u001B[38;5;124mleft\u001B[39m\u001B[38;5;124m\"\u001B[39m \u001B[38;5;28;01mif\u001B[39;00m right \u001B[38;5;28;01melse\u001B[39;00m \u001B[38;5;124m\"\u001B[39m\u001B[38;5;124mright\u001B[39m\u001B[38;5;124m\"\u001B[39m\n\u001B[1;32m    451\u001B[0m \u001B[38;5;28;01mtry\u001B[39;00m:\n\u001B[0;32m--> 452\u001B[0m     ids \u001B[38;5;241m=\u001B[39m \u001B[43mbins\u001B[49m\u001B[38;5;241;43m.\u001B[39;49m\u001B[43msearchsorted\u001B[49m\u001B[43m(\u001B[49m\u001B[43mx_idx\u001B[49m\u001B[43m,\u001B[49m\u001B[43m \u001B[49m\u001B[43mside\u001B[49m\u001B[38;5;241;43m=\u001B[39;49m\u001B[43mside\u001B[49m\u001B[43m)\u001B[49m\n\u001B[1;32m    453\u001B[0m \u001B[38;5;28;01mexcept\u001B[39;00m \u001B[38;5;167;01mTypeError\u001B[39;00m \u001B[38;5;28;01mas\u001B[39;00m err:\n\u001B[1;32m    454\u001B[0m     \u001B[38;5;66;03m# e.g. test_datetime_nan_error if bins are DatetimeArray and x_idx\u001B[39;00m\n\u001B[1;32m    455\u001B[0m     \u001B[38;5;66;03m#  is integers\u001B[39;00m\n\u001B[1;32m    456\u001B[0m     \u001B[38;5;28;01mif\u001B[39;00m x_idx\u001B[38;5;241m.\u001B[39mdtype\u001B[38;5;241m.\u001B[39mkind \u001B[38;5;241m==\u001B[39m \u001B[38;5;124m\"\u001B[39m\u001B[38;5;124mm\u001B[39m\u001B[38;5;124m\"\u001B[39m:\n",
      "File \u001B[0;32m~/Library/Caches/pypoetry/virtualenvs/ai-course-pkokEw5Q-py3.12/lib/python3.12/site-packages/pandas/core/base.py:1352\u001B[0m, in \u001B[0;36mIndexOpsMixin.searchsorted\u001B[0;34m(self, value, side, sorter)\u001B[0m\n\u001B[1;32m   1348\u001B[0m \u001B[38;5;28;01mif\u001B[39;00m \u001B[38;5;129;01mnot\u001B[39;00m \u001B[38;5;28misinstance\u001B[39m(values, np\u001B[38;5;241m.\u001B[39mndarray):\n\u001B[1;32m   1349\u001B[0m     \u001B[38;5;66;03m# Going through EA.searchsorted directly improves performance GH#38083\u001B[39;00m\n\u001B[1;32m   1350\u001B[0m     \u001B[38;5;28;01mreturn\u001B[39;00m values\u001B[38;5;241m.\u001B[39msearchsorted(value, side\u001B[38;5;241m=\u001B[39mside, sorter\u001B[38;5;241m=\u001B[39msorter)\n\u001B[0;32m-> 1352\u001B[0m \u001B[38;5;28;01mreturn\u001B[39;00m \u001B[43malgorithms\u001B[49m\u001B[38;5;241;43m.\u001B[39;49m\u001B[43msearchsorted\u001B[49m\u001B[43m(\u001B[49m\n\u001B[1;32m   1353\u001B[0m \u001B[43m    \u001B[49m\u001B[43mvalues\u001B[49m\u001B[43m,\u001B[49m\n\u001B[1;32m   1354\u001B[0m \u001B[43m    \u001B[49m\u001B[43mvalue\u001B[49m\u001B[43m,\u001B[49m\n\u001B[1;32m   1355\u001B[0m \u001B[43m    \u001B[49m\u001B[43mside\u001B[49m\u001B[38;5;241;43m=\u001B[39;49m\u001B[43mside\u001B[49m\u001B[43m,\u001B[49m\n\u001B[1;32m   1356\u001B[0m \u001B[43m    \u001B[49m\u001B[43msorter\u001B[49m\u001B[38;5;241;43m=\u001B[39;49m\u001B[43msorter\u001B[49m\u001B[43m,\u001B[49m\n\u001B[1;32m   1357\u001B[0m \u001B[43m\u001B[49m\u001B[43m)\u001B[49m\n",
      "File \u001B[0;32m~/Library/Caches/pypoetry/virtualenvs/ai-course-pkokEw5Q-py3.12/lib/python3.12/site-packages/pandas/core/algorithms.py:1329\u001B[0m, in \u001B[0;36msearchsorted\u001B[0;34m(arr, value, side, sorter)\u001B[0m\n\u001B[1;32m   1325\u001B[0m     arr \u001B[38;5;241m=\u001B[39m ensure_wrapped_if_datetimelike(arr)\n\u001B[1;32m   1327\u001B[0m \u001B[38;5;66;03m# Argument 1 to \"searchsorted\" of \"ndarray\" has incompatible type\u001B[39;00m\n\u001B[1;32m   1328\u001B[0m \u001B[38;5;66;03m# \"Union[NumpyValueArrayLike, ExtensionArray]\"; expected \"NumpyValueArrayLike\"\u001B[39;00m\n\u001B[0;32m-> 1329\u001B[0m \u001B[38;5;28;01mreturn\u001B[39;00m \u001B[43marr\u001B[49m\u001B[38;5;241;43m.\u001B[39;49m\u001B[43msearchsorted\u001B[49m\u001B[43m(\u001B[49m\u001B[43mvalue\u001B[49m\u001B[43m,\u001B[49m\u001B[43m \u001B[49m\u001B[43mside\u001B[49m\u001B[38;5;241;43m=\u001B[39;49m\u001B[43mside\u001B[49m\u001B[43m,\u001B[49m\u001B[43m \u001B[49m\u001B[43msorter\u001B[49m\u001B[38;5;241;43m=\u001B[39;49m\u001B[43msorter\u001B[49m\u001B[43m)\u001B[49m\n",
      "\u001B[0;31mTypeError\u001B[0m: '<' not supported between instances of 'float' and 'str'"
     ]
    }
   ],
   "source": [
    "# Repeat Q.1. (b) of Task 1.2 - What is the probability of sunny weather when the wind is high?\n",
    "sampler = BayesianModelSampling(weather_model)\n",
    "df['wind'] = pd.cut(df['wind'], bins=wind_bins, labels=labels, include_lowest=True)\n",
    "\n",
    "\n",
    "# Probability of high wind when the weather is sunny\n",
    "lw_samples = sampler.likelihood_weighted_sample(evidence=[State('weather', 'sun')], size=1000)\n",
    "high_wind_given_sunny = lw_samples[lw_samples['wind'] == 'high'].shape[0] / lw_samples.shape[0]\n",
    "print(\"P(High Wind | Sunny) using Likelihood Weighted Sampling:\", high_wind_given_sunny)\n",
    "\n"
   ],
   "metadata": {
    "collapsed": false,
    "ExecuteTime": {
     "start_time": "2024-05-07T12:14:06.582313Z"
    }
   },
   "id": "bb6fee1e0c5e75ed",
   "execution_count": 128
  },
  {
   "cell_type": "markdown",
   "source": [
    "## Rejection Sampling"
   ],
   "metadata": {
    "collapsed": false
   },
   "id": "d077efcba0af4514"
  },
  {
   "cell_type": "code",
   "outputs": [],
   "source": [
    "# Repeat Q.2 . (a) of Task 1.2 - Calculate all the possible joint probability and determine the best probable condition. Explain your results?\n",
    "\n"
   ],
   "metadata": {
    "collapsed": false,
    "ExecuteTime": {
     "end_time": "2024-05-07T12:14:06.745098Z",
     "start_time": "2024-05-07T12:14:06.622190Z"
    }
   },
   "id": "cebf4bb9b0df63cd",
   "execution_count": 129
  },
  {
   "cell_type": "code",
   "outputs": [],
   "source": [
    "# Repeat Q.2 . (b) of Task 1.2 - What is the most probable condition for precipitation, wind and weather, combined?\n",
    "\n"
   ],
   "metadata": {
    "collapsed": false,
    "ExecuteTime": {
     "end_time": "2024-05-07T12:14:06.848019Z",
     "start_time": "2024-05-07T12:14:06.694253Z"
    }
   },
   "id": "e6c638824a2b66c",
   "execution_count": 130
  },
  {
   "cell_type": "markdown",
   "source": [
    "## Approx Inference"
   ],
   "metadata": {
    "collapsed": false
   },
   "id": "e55d10c6c8f0360c"
  },
  {
   "cell_type": "code",
   "outputs": [],
   "source": [
    "from pgmpy.inference import ApproxInference"
   ],
   "metadata": {
    "collapsed": false,
    "ExecuteTime": {
     "end_time": "2024-05-07T12:14:06.856471Z",
     "start_time": "2024-05-07T12:14:06.849404Z"
    }
   },
   "id": "a16df79e437b0e2f",
   "execution_count": 131
  },
  {
   "cell_type": "code",
   "outputs": [],
   "source": [
    "# Repeat Q.3 of Task 1.2 - Find the probability associated with each weather, given that the precipitation is medium? Explain your result.\n",
    "\n"
   ],
   "metadata": {
    "collapsed": false,
    "ExecuteTime": {
     "end_time": "2024-05-07T12:14:06.884034Z",
     "start_time": "2024-05-07T12:14:06.856103Z"
    }
   },
   "id": "da6ae9c67e269c20",
   "execution_count": 132
  },
  {
   "cell_type": "markdown",
   "source": [
    "# Normal Sampling"
   ],
   "metadata": {
    "collapsed": false
   },
   "id": "62a85f89cd63e86"
  },
  {
   "cell_type": "code",
   "outputs": [],
   "source": [
    "# Repeat Q.4 of Task 1.2 - What is the probability of each weather condition given that precipitation is medium and wind is low or medium? Explain your method and results. How does the result change with the addition of wind factor compared to question 3 of Task 1.2?\n",
    "\n"
   ],
   "metadata": {
    "collapsed": false,
    "ExecuteTime": {
     "end_time": "2024-05-07T12:14:06.887602Z",
     "start_time": "2024-05-07T12:14:06.860111Z"
    }
   },
   "id": "99e372c96b8a0703",
   "execution_count": 133
  },
  {
   "cell_type": "markdown",
   "source": [
    "# Other hierarchies\n"
   ],
   "metadata": {
    "collapsed": false
   },
   "id": "54baa432c8a98826"
  },
  {
   "cell_type": "code",
   "outputs": [],
   "source": [
    "weather_model_h1 = BayesianNetwork([\n",
    "    ('weather', 'precipitation'),\n",
    "    ('weather', 'wind'),\n",
    "    ('precipitation', 'temp_max'),\n",
    "    ('precipitation', 'temp_min'),\n",
    "    ('wind', 'temp_min'),\n",
    "    ('wind', 'temp_max')\n",
    "])\n",
    "\n",
    "weather_model_h2 = BayesianNetwork([\n",
    "    ('weather', 'wind'),\n",
    "    ('wind', 'precipitation'),\n",
    "    ('precipitation', 'temp_max'),\n",
    "    ('precipitation', 'temp_min')\n",
    "])\n",
    "\n"
   ],
   "metadata": {
    "collapsed": false,
    "ExecuteTime": {
     "end_time": "2024-05-07T12:14:06.941967Z",
     "start_time": "2024-05-07T12:14:06.888906Z"
    }
   },
   "id": "abfcbb6a8d117e86",
   "execution_count": 134
  }
 ],
 "metadata": {
  "kernelspec": {
   "display_name": "Python 3",
   "language": "python",
   "name": "python3"
  },
  "language_info": {
   "codemirror_mode": {
    "name": "ipython",
    "version": 2
   },
   "file_extension": ".py",
   "mimetype": "text/x-python",
   "name": "python",
   "nbconvert_exporter": "python",
   "pygments_lexer": "ipython2",
   "version": "2.7.6"
  }
 },
 "nbformat": 4,
 "nbformat_minor": 5
}
