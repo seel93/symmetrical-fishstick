{
 "cells": [
  {
   "cell_type": "code",
   "execution_count": 1439,
   "id": "initial_id",
   "metadata": {
    "collapsed": true,
    "ExecuteTime": {
     "end_time": "2024-04-30T12:35:24.643149Z",
     "start_time": "2024-04-30T12:35:24.565236Z"
    }
   },
   "outputs": [],
   "source": []
  },
  {
   "cell_type": "markdown",
   "source": [
    "# INF-2600-1 24V Artificial Intelligence: Assignment 3 Pre-code\n",
    "This code implements a Bayesian Network model for Analyzing Sensor Data for Weather Prediction using the pgmpy library in Python."
   ],
   "metadata": {
    "collapsed": false
   },
   "id": "76f25f44c035334d"
  },
  {
   "cell_type": "markdown",
   "source": [],
   "metadata": {
    "collapsed": false
   },
   "id": "bf99d0c30d2d40e6"
  },
  {
   "cell_type": "code",
   "outputs": [],
   "source": [
    "# Including the necessary libraries\n",
    "import numpy as np\n",
    "import pandas as pd\n",
    "import seaborn as sns\n",
    "import matplotlib.pyplot as plt\n",
    "from pgmpy.estimators import ParameterEstimator, MaximumLikelihoodEstimator\n",
    "from pgmpy.models import BayesianNetwork\n",
    "from pgmpy.inference import VariableElimination\n",
    "from pgmpy.factors.discrete import TabularCPD\n",
    "from pgmpy.estimators import MaximumLikelihoodEstimator"
   ],
   "metadata": {
    "collapsed": false,
    "ExecuteTime": {
     "end_time": "2024-04-30T12:35:24.647854Z",
     "start_time": "2024-04-30T12:35:24.645410Z"
    }
   },
   "id": "be43320c65525df",
   "execution_count": 1440
  },
  {
   "cell_type": "markdown",
   "source": [
    "# Factoring the dataset"
   ],
   "metadata": {
    "collapsed": false
   },
   "id": "479b2973e65d61f5"
  },
  {
   "cell_type": "code",
   "outputs": [
    {
     "data": {
      "text/plain": "         date  precipitation  temp_max  temp_min  wind  weather\n0  2012-01-01            0.0      12.8       5.0   4.7  drizzle\n1  2012-01-02           10.9      10.6       2.8   4.5     rain\n2  2012-01-03            0.8      11.7       7.2   2.3     rain\n3  2012-01-04           20.3      12.2       5.6   4.7     rain\n4  2012-01-05            1.3       8.9       2.8   6.1     rain",
      "text/html": "<div>\n<style scoped>\n    .dataframe tbody tr th:only-of-type {\n        vertical-align: middle;\n    }\n\n    .dataframe tbody tr th {\n        vertical-align: top;\n    }\n\n    .dataframe thead th {\n        text-align: right;\n    }\n</style>\n<table border=\"1\" class=\"dataframe\">\n  <thead>\n    <tr style=\"text-align: right;\">\n      <th></th>\n      <th>date</th>\n      <th>precipitation</th>\n      <th>temp_max</th>\n      <th>temp_min</th>\n      <th>wind</th>\n      <th>weather</th>\n    </tr>\n  </thead>\n  <tbody>\n    <tr>\n      <th>0</th>\n      <td>2012-01-01</td>\n      <td>0.0</td>\n      <td>12.8</td>\n      <td>5.0</td>\n      <td>4.7</td>\n      <td>drizzle</td>\n    </tr>\n    <tr>\n      <th>1</th>\n      <td>2012-01-02</td>\n      <td>10.9</td>\n      <td>10.6</td>\n      <td>2.8</td>\n      <td>4.5</td>\n      <td>rain</td>\n    </tr>\n    <tr>\n      <th>2</th>\n      <td>2012-01-03</td>\n      <td>0.8</td>\n      <td>11.7</td>\n      <td>7.2</td>\n      <td>2.3</td>\n      <td>rain</td>\n    </tr>\n    <tr>\n      <th>3</th>\n      <td>2012-01-04</td>\n      <td>20.3</td>\n      <td>12.2</td>\n      <td>5.6</td>\n      <td>4.7</td>\n      <td>rain</td>\n    </tr>\n    <tr>\n      <th>4</th>\n      <td>2012-01-05</td>\n      <td>1.3</td>\n      <td>8.9</td>\n      <td>2.8</td>\n      <td>6.1</td>\n      <td>rain</td>\n    </tr>\n  </tbody>\n</table>\n</div>"
     },
     "execution_count": 1441,
     "metadata": {},
     "output_type": "execute_result"
    }
   ],
   "source": [
    "# Import data, make a copy of the original\n",
    "\n",
    "df0 = pd.read_csv('precode/seattle-weather.csv')\n",
    "dfc1 = df0.copy()\n",
    "dfc1.head()"
   ],
   "metadata": {
    "collapsed": false,
    "ExecuteTime": {
     "end_time": "2024-04-30T12:35:24.661249Z",
     "start_time": "2024-04-30T12:35:24.647785Z"
    }
   },
   "id": "e184947872f94229",
   "execution_count": 1441
  },
  {
   "cell_type": "code",
   "outputs": [
    {
     "name": "stdout",
     "output_type": "stream",
     "text": [
      "<class 'pandas.core.frame.DataFrame'>\n",
      "RangeIndex: 1461 entries, 0 to 1460\n",
      "Data columns (total 6 columns):\n",
      " #   Column         Non-Null Count  Dtype  \n",
      "---  ------         --------------  -----  \n",
      " 0   date           1461 non-null   object \n",
      " 1   precipitation  1461 non-null   float64\n",
      " 2   temp_max       1461 non-null   float64\n",
      " 3   temp_min       1461 non-null   float64\n",
      " 4   wind           1461 non-null   float64\n",
      " 5   weather        1461 non-null   object \n",
      "dtypes: float64(4), object(2)\n",
      "memory usage: 68.6+ KB\n"
     ]
    }
   ],
   "source": [
    "# Get characteristics of dataset including columns with missing data as well:\n",
    "dfc1.info()"
   ],
   "metadata": {
    "collapsed": false,
    "ExecuteTime": {
     "end_time": "2024-04-30T12:35:24.661778Z",
     "start_time": "2024-04-30T12:35:24.656537Z"
    }
   },
   "id": "cb0facdd7bc291e",
   "execution_count": 1442
  },
  {
   "cell_type": "code",
   "outputs": [
    {
     "name": "stdout",
     "output_type": "stream",
     "text": [
      "['drizzle' 'rain' 'sun' 'snow' 'fog']\n"
     ]
    }
   ],
   "source": [
    "# Checking the unique values in the 'weather' column\n",
    "unique_fields = dfc1['weather'].unique()\n",
    "print(unique_fields)"
   ],
   "metadata": {
    "collapsed": false,
    "ExecuteTime": {
     "end_time": "2024-04-30T12:35:24.663231Z",
     "start_time": "2024-04-30T12:35:24.659042Z"
    }
   },
   "id": "6db5f6c03daa7ac6",
   "execution_count": 1443
  },
  {
   "cell_type": "code",
   "outputs": [
    {
     "data": {
      "text/plain": "       precipitation     temp_max     temp_min         wind\ncount    1461.000000  1461.000000  1461.000000  1461.000000\nmean        3.029432    16.439083     8.234771     3.241136\nstd         6.680194     7.349758     5.023004     1.437825\nmin         0.000000    -1.600000    -7.100000     0.400000\n25%         0.000000    10.600000     4.400000     2.200000\n50%         0.000000    15.600000     8.300000     3.000000\n75%         2.800000    22.200000    12.200000     4.000000\nmax        55.900000    35.600000    18.300000     9.500000",
      "text/html": "<div>\n<style scoped>\n    .dataframe tbody tr th:only-of-type {\n        vertical-align: middle;\n    }\n\n    .dataframe tbody tr th {\n        vertical-align: top;\n    }\n\n    .dataframe thead th {\n        text-align: right;\n    }\n</style>\n<table border=\"1\" class=\"dataframe\">\n  <thead>\n    <tr style=\"text-align: right;\">\n      <th></th>\n      <th>precipitation</th>\n      <th>temp_max</th>\n      <th>temp_min</th>\n      <th>wind</th>\n    </tr>\n  </thead>\n  <tbody>\n    <tr>\n      <th>count</th>\n      <td>1461.000000</td>\n      <td>1461.000000</td>\n      <td>1461.000000</td>\n      <td>1461.000000</td>\n    </tr>\n    <tr>\n      <th>mean</th>\n      <td>3.029432</td>\n      <td>16.439083</td>\n      <td>8.234771</td>\n      <td>3.241136</td>\n    </tr>\n    <tr>\n      <th>std</th>\n      <td>6.680194</td>\n      <td>7.349758</td>\n      <td>5.023004</td>\n      <td>1.437825</td>\n    </tr>\n    <tr>\n      <th>min</th>\n      <td>0.000000</td>\n      <td>-1.600000</td>\n      <td>-7.100000</td>\n      <td>0.400000</td>\n    </tr>\n    <tr>\n      <th>25%</th>\n      <td>0.000000</td>\n      <td>10.600000</td>\n      <td>4.400000</td>\n      <td>2.200000</td>\n    </tr>\n    <tr>\n      <th>50%</th>\n      <td>0.000000</td>\n      <td>15.600000</td>\n      <td>8.300000</td>\n      <td>3.000000</td>\n    </tr>\n    <tr>\n      <th>75%</th>\n      <td>2.800000</td>\n      <td>22.200000</td>\n      <td>12.200000</td>\n      <td>4.000000</td>\n    </tr>\n    <tr>\n      <th>max</th>\n      <td>55.900000</td>\n      <td>35.600000</td>\n      <td>18.300000</td>\n      <td>9.500000</td>\n    </tr>\n  </tbody>\n</table>\n</div>"
     },
     "execution_count": 1444,
     "metadata": {},
     "output_type": "execute_result"
    }
   ],
   "source": [
    "dfc1.describe()"
   ],
   "metadata": {
    "collapsed": false,
    "ExecuteTime": {
     "end_time": "2024-04-30T12:35:24.695706Z",
     "start_time": "2024-04-30T12:35:24.662208Z"
    }
   },
   "id": "e3cc0ec757c136bc",
   "execution_count": 1444
  },
  {
   "cell_type": "code",
   "outputs": [
    {
     "data": {
      "text/plain": "         date  weather\n0  2012-01-01  drizzle\n1  2012-01-02     rain\n2  2012-01-03     rain\n3  2012-01-04     rain\n4  2012-01-05     rain",
      "text/html": "<div>\n<style scoped>\n    .dataframe tbody tr th:only-of-type {\n        vertical-align: middle;\n    }\n\n    .dataframe tbody tr th {\n        vertical-align: top;\n    }\n\n    .dataframe thead th {\n        text-align: right;\n    }\n</style>\n<table border=\"1\" class=\"dataframe\">\n  <thead>\n    <tr style=\"text-align: right;\">\n      <th></th>\n      <th>date</th>\n      <th>weather</th>\n    </tr>\n  </thead>\n  <tbody>\n    <tr>\n      <th>0</th>\n      <td>2012-01-01</td>\n      <td>drizzle</td>\n    </tr>\n    <tr>\n      <th>1</th>\n      <td>2012-01-02</td>\n      <td>rain</td>\n    </tr>\n    <tr>\n      <th>2</th>\n      <td>2012-01-03</td>\n      <td>rain</td>\n    </tr>\n    <tr>\n      <th>3</th>\n      <td>2012-01-04</td>\n      <td>rain</td>\n    </tr>\n    <tr>\n      <th>4</th>\n      <td>2012-01-05</td>\n      <td>rain</td>\n    </tr>\n  </tbody>\n</table>\n</div>"
     },
     "execution_count": 1445,
     "metadata": {},
     "output_type": "execute_result"
    }
   ],
   "source": [
    "# Put categorical varaibles in a list\n",
    "categorical_lst = ['date','weather']\n",
    "# Create a seperate & smaller dataframe for categorical variables\n",
    "dfc2a = pd.DataFrame(dfc1, columns=categorical_lst, copy=True)\n",
    "dfc2a.head()"
   ],
   "metadata": {
    "collapsed": false,
    "ExecuteTime": {
     "end_time": "2024-04-30T12:35:24.696232Z",
     "start_time": "2024-04-30T12:35:24.670315Z"
    }
   },
   "id": "ffcc7eeb57c6c3e1",
   "execution_count": 1445
  },
  {
   "cell_type": "code",
   "outputs": [
    {
     "data": {
      "text/plain": "   precipitation  temp_max  temp_min  wind\n0            0.0      12.8       5.0   4.7\n1           10.9      10.6       2.8   4.5\n2            0.8      11.7       7.2   2.3\n3           20.3      12.2       5.6   4.7\n4            1.3       8.9       2.8   6.1",
      "text/html": "<div>\n<style scoped>\n    .dataframe tbody tr th:only-of-type {\n        vertical-align: middle;\n    }\n\n    .dataframe tbody tr th {\n        vertical-align: top;\n    }\n\n    .dataframe thead th {\n        text-align: right;\n    }\n</style>\n<table border=\"1\" class=\"dataframe\">\n  <thead>\n    <tr style=\"text-align: right;\">\n      <th></th>\n      <th>precipitation</th>\n      <th>temp_max</th>\n      <th>temp_min</th>\n      <th>wind</th>\n    </tr>\n  </thead>\n  <tbody>\n    <tr>\n      <th>0</th>\n      <td>0.0</td>\n      <td>12.8</td>\n      <td>5.0</td>\n      <td>4.7</td>\n    </tr>\n    <tr>\n      <th>1</th>\n      <td>10.9</td>\n      <td>10.6</td>\n      <td>2.8</td>\n      <td>4.5</td>\n    </tr>\n    <tr>\n      <th>2</th>\n      <td>0.8</td>\n      <td>11.7</td>\n      <td>7.2</td>\n      <td>2.3</td>\n    </tr>\n    <tr>\n      <th>3</th>\n      <td>20.3</td>\n      <td>12.2</td>\n      <td>5.6</td>\n      <td>4.7</td>\n    </tr>\n    <tr>\n      <th>4</th>\n      <td>1.3</td>\n      <td>8.9</td>\n      <td>2.8</td>\n      <td>6.1</td>\n    </tr>\n  </tbody>\n</table>\n</div>"
     },
     "execution_count": 1446,
     "metadata": {},
     "output_type": "execute_result"
    }
   ],
   "source": [
    "# Put all continuous variables into a list\n",
    "continuous_lst = ['precipitation', 'temp_max', 'temp_min', 'wind']\n",
    "# Create a seperate & smaller dataframe for our chosen variables. Use 'copy=True' so changes wont affect original\n",
    "dfc2b = pd.DataFrame(dfc1, columns=continuous_lst, copy=True)\n",
    "dfc2b.head()"
   ],
   "metadata": {
    "collapsed": false,
    "ExecuteTime": {
     "end_time": "2024-04-30T12:35:24.696783Z",
     "start_time": "2024-04-30T12:35:24.674643Z"
    }
   },
   "id": "4c99a1dd8187c9ed",
   "execution_count": 1446
  },
  {
   "cell_type": "markdown",
   "source": [
    "### Create new dataframe"
   ],
   "metadata": {
    "collapsed": false
   },
   "id": "b20437eac45b77de"
  },
  {
   "cell_type": "code",
   "outputs": [],
   "source": [
    "# Create new df with variables we want to work with:\n",
    "new_cols = ['date', 'precipitation', 'temp_max', 'temp_min', 'wind', 'weather']\n",
    "\n",
    "df = df0[new_cols]\n",
    "# df.head()"
   ],
   "metadata": {
    "collapsed": false,
    "ExecuteTime": {
     "end_time": "2024-04-30T12:35:24.737217Z",
     "start_time": "2024-04-30T12:35:24.697589Z"
    }
   },
   "id": "33ac2e0777f690f9",
   "execution_count": 1447
  },
  {
   "cell_type": "code",
   "outputs": [
    {
     "data": {
      "text/plain": "date             False\nprecipitation    False\ntemp_max         False\ntemp_min         False\nwind             False\nweather          False\ndtype: bool"
     },
     "execution_count": 1448,
     "metadata": {},
     "output_type": "execute_result"
    }
   ],
   "source": [
    "# Let's show all columns with missing data as well:\n",
    "df[df.isnull().any(axis=1)] # any missing data in columns\n",
    "df.isnull().any()"
   ],
   "metadata": {
    "collapsed": false,
    "ExecuteTime": {
     "end_time": "2024-04-30T12:35:24.767351Z",
     "start_time": "2024-04-30T12:35:24.708992Z"
    }
   },
   "id": "20bff55898f74af7",
   "execution_count": 1448
  },
  {
   "cell_type": "markdown",
   "source": [
    "# Creating Bayes Nets"
   ],
   "metadata": {
    "collapsed": false
   },
   "id": "4c35a254420ba884"
  },
  {
   "cell_type": "code",
   "outputs": [
    {
     "name": "stdout",
     "output_type": "stream",
     "text": [
      "         date  precipitation  temp_max  temp_min    wind  weather\n",
      "0  2012-01-01            0.0      12.8       5.0  medium  drizzle\n",
      "1  2012-01-02           10.9      10.6       2.8  medium     rain\n",
      "2  2012-01-03            0.8      11.7       7.2     low     rain\n",
      "3  2012-01-04           20.3      12.2       5.6  medium     rain\n",
      "4  2012-01-05            1.3       8.9       2.8    high     rain\n",
      "+------------------+----------------+\n",
      "| weather          |   phi(weather) |\n",
      "+==================+================+\n",
      "| weather(drizzle) |         0.0000 |\n",
      "+------------------+----------------+\n",
      "| weather(fog)     |         0.0287 |\n",
      "+------------------+----------------+\n",
      "| weather(rain)    |         0.6897 |\n",
      "+------------------+----------------+\n",
      "| weather(snow)    |         0.0632 |\n",
      "+------------------+----------------+\n",
      "| weather(sun)     |         0.2184 |\n",
      "+------------------+----------------+\n"
     ]
    }
   ],
   "source": [
    "import pandas as pd\n",
    "from pgmpy.models import BayesianModel\n",
    "from pgmpy.estimators import MaximumLikelihoodEstimator\n",
    "from pgmpy.inference import VariableElimination\n",
    "\n",
    "# Discretization details\n",
    "bins = [-float('inf'), 3, 5, float('inf')]\n",
    "labels = ['low', 'medium', 'high']\n",
    "\n",
    "# Apply discretization\n",
    "df['wind'] = pd.cut(df['wind'], bins=bins, labels=labels, include_lowest=True)\n",
    "\n",
    "print(df.head())\n",
    "# Define the Bayesian Network structure\n",
    "weather_model = BayesianNetwork([\n",
    "    ('weather', 'precipitation'),\n",
    "    ('weather', 'wind'),\n",
    "    ('precipitation', 'temp_max'),\n",
    "    ('wind', 'temp_max'),\n",
    "    ('wind', 'temp_min')\n",
    "])\n",
    "\n",
    "# Estimate parameters\n",
    "estimator = MaximumLikelihoodEstimator(weather_model, df)\n",
    "cpds = estimator.get_parameters()\n",
    "weather_model.add_cpds(*cpds)\n",
    "\n",
    "# Check model consistency\n",
    "if not weather_model.check_model():\n",
    "    raise ValueError(\"The model is inconsistent\")\n",
    "\n",
    "# Print CPDs to check for 'high' presence\n",
    "#for cpd in weather_model.get_cpds():\n",
    "#    print(cpd)\n",
    "\n",
    "# Setup for inference\n",
    "inference = VariableElimination(weather_model)\n",
    "\n",
    "# Perform the query\n",
    "try:\n",
    "    # Query using the 'high' category if available\n",
    "    result = inference.query(variables=['weather'], evidence={'wind': 'high'})\n",
    "    print(result)\n",
    "except KeyError as e:\n",
    "    print(f\"Key error: {e}. It appears 'high' is not a valid category in the network CPDs.\")\n"
   ],
   "metadata": {
    "collapsed": false,
    "ExecuteTime": {
     "end_time": "2024-04-30T12:35:24.828266Z",
     "start_time": "2024-04-30T12:35:24.745246Z"
    }
   },
   "id": "beda8c4b9785aeca",
   "execution_count": 1449
  },
  {
   "cell_type": "code",
   "outputs": [
    {
     "name": "stdout",
     "output_type": "stream",
     "text": [
      "+------------------+----------------+\n",
      "| weather          |   phi(weather) |\n",
      "+==================+================+\n",
      "| weather(drizzle) |         0.0000 |\n",
      "+------------------+----------------+\n",
      "| weather(fog)     |         0.0287 |\n",
      "+------------------+----------------+\n",
      "| weather(rain)    |         0.6897 |\n",
      "+------------------+----------------+\n",
      "| weather(snow)    |         0.0632 |\n",
      "+------------------+----------------+\n",
      "| weather(sun)     |         0.2184 |\n",
      "+------------------+----------------+\n",
      "         date  precipitation  temp_max  temp_min    wind  weather\n",
      "0  2012-01-01            0.0      12.8       5.0  medium  drizzle\n",
      "1  2012-01-02           10.9      10.6       2.8  medium     rain\n",
      "2  2012-01-03            0.8      11.7       7.2     low     rain\n",
      "3  2012-01-04           20.3      12.2       5.6  medium     rain\n",
      "4  2012-01-05            1.3       8.9       2.8    high     rain\n"
     ]
    }
   ],
   "source": [
    "\n",
    "# Discretize columns\n",
    "bins = [0, 5, 11, float('inf')]\n",
    "#bins = [-float('inf'), 3, 5, float('inf')]\n",
    "labels = ['low', 'medium', 'high']\n",
    "\n",
    "# Apply discretization\n",
    "original_precipitation = df['precipitation'].copy()\n",
    "df['precipitation'] = pd.cut(df['precipitation'], bins=bins, labels=labels, include_lowest=True)\n",
    "\n",
    "weather_model = BayesianNetwork([\n",
    "    ('weather', 'precipitation'),\n",
    "    ('weather', 'wind'),\n",
    "    ('precipitation', 'temp_max'),\n",
    "    ('wind', 'temp_max'),\n",
    "    ('wind', 'temp_min')\n",
    "])\n",
    "\n",
    "# Estimate parameters\n",
    "estimator = MaximumLikelihoodEstimator(weather_model, df)\n",
    "cpds = estimator.get_parameters()\n",
    "weather_model.add_cpds(*cpds)\n",
    "\n",
    "# Check model consistency\n",
    "if not weather_model.check_model():\n",
    "    raise ValueError(\"The model is inconsistent\")\n",
    "\n",
    "# Print CPDs to check for 'high' presence\n",
    "#for cpd in weather_model.get_cpds():\n",
    "#    print(cpd)\n",
    "\n",
    "# Setup for inference\n",
    "inference = VariableElimination(weather_model)\n",
    "\n",
    "# Perform the query\n",
    "try:\n",
    "    # Query using the 'high' category if available\n",
    "    result = inference.query(variables=['weather'], evidence={'wind': 'high'})\n",
    "    print(result)\n",
    "except KeyError as e:\n",
    "    print(f\"Key error: {e}. It appears 'high' is not a valid category in the network CPDs.\")\n",
    "finally:\n",
    "    df['precipitation'] = original_precipitation\n",
    "    print(df.head())"
   ],
   "metadata": {
    "collapsed": false,
    "ExecuteTime": {
     "end_time": "2024-04-30T12:35:24.857340Z",
     "start_time": "2024-04-30T12:35:24.794728Z"
    }
   },
   "id": "c4937787fdd316fe",
   "execution_count": 1450
  },
  {
   "cell_type": "code",
   "outputs": [],
   "source": [
    "# Creating tabular conditional probability distribution\n",
    "\n"
   ],
   "metadata": {
    "collapsed": false,
    "ExecuteTime": {
     "end_time": "2024-04-30T12:35:24.894635Z",
     "start_time": "2024-04-30T12:35:24.844749Z"
    }
   },
   "id": "b311ce026ffce0f2",
   "execution_count": 1451
  },
  {
   "cell_type": "code",
   "outputs": [],
   "source": [
    "# Add CPDs and factors to the model\n",
    "\n",
    "\n",
    "# Check if model is consistent\n"
   ],
   "metadata": {
    "collapsed": false,
    "ExecuteTime": {
     "end_time": "2024-04-30T12:35:24.912819Z",
     "start_time": "2024-04-30T12:35:24.896074Z"
    }
   },
   "id": "ef60afcb60312c45",
   "execution_count": 1452
  },
  {
   "cell_type": "code",
   "outputs": [
    {
     "data": {
      "text/plain": "NodeView(('weather', 'precipitation', 'wind', 'temp_max', 'temp_min'))"
     },
     "execution_count": 1453,
     "metadata": {},
     "output_type": "execute_result"
    }
   ],
   "source": [
    "# Viewing nodes of the model\n",
    "weather_model.nodes()"
   ],
   "metadata": {
    "collapsed": false,
    "ExecuteTime": {
     "end_time": "2024-04-30T12:35:24.935627Z",
     "start_time": "2024-04-30T12:35:24.914308Z"
    }
   },
   "id": "9080682929babe16",
   "execution_count": 1453
  },
  {
   "cell_type": "code",
   "outputs": [
    {
     "data": {
      "text/plain": "OutEdgeView([('weather', 'precipitation'), ('weather', 'wind'), ('precipitation', 'temp_max'), ('wind', 'temp_max'), ('wind', 'temp_min')])"
     },
     "execution_count": 1454,
     "metadata": {},
     "output_type": "execute_result"
    }
   ],
   "source": [
    "# Viewing edges of the model\n",
    "weather_model.edges()"
   ],
   "metadata": {
    "collapsed": false,
    "ExecuteTime": {
     "end_time": "2024-04-30T12:35:24.946504Z",
     "start_time": "2024-04-30T12:35:24.922351Z"
    }
   },
   "id": "730fc6678f3a338",
   "execution_count": 1454
  },
  {
   "cell_type": "code",
   "outputs": [],
   "source": [],
   "metadata": {
    "collapsed": false,
    "ExecuteTime": {
     "end_time": "2024-04-30T12:35:24.959276Z",
     "start_time": "2024-04-30T12:35:24.943775Z"
    }
   },
   "id": "f0e553eef4083002",
   "execution_count": 1454
  },
  {
   "cell_type": "code",
   "outputs": [],
   "source": [
    "# Independcies in the model\n",
    "\n",
    "# Checking independcies of a particular node\n"
   ],
   "metadata": {
    "collapsed": false,
    "ExecuteTime": {
     "end_time": "2024-04-30T12:35:24.987606Z",
     "start_time": "2024-04-30T12:35:24.955761Z"
    }
   },
   "id": "549b0ca933040656",
   "execution_count": 1455
  },
  {
   "cell_type": "markdown",
   "source": [
    "# Task 1.2"
   ],
   "metadata": {
    "collapsed": false
   },
   "id": "ee5a805c4240b332"
  },
  {
   "cell_type": "code",
   "outputs": [],
   "source": [
    "from pgmpy.inference import VariableElimination"
   ],
   "metadata": {
    "collapsed": false,
    "ExecuteTime": {
     "end_time": "2024-04-30T12:35:25.008689Z",
     "start_time": "2024-04-30T12:35:24.971864Z"
    }
   },
   "id": "7e05861fb292716b",
   "execution_count": 1456
  },
  {
   "cell_type": "code",
   "outputs": [],
   "source": [
    "# Question 1: (a) What is the probability of high wind when the weather is sunny? (b) What is the probability of sunny weather when the wind is high?\n",
    "\n"
   ],
   "metadata": {
    "collapsed": false,
    "ExecuteTime": {
     "end_time": "2024-04-30T12:35:25.028066Z",
     "start_time": "2024-04-30T12:35:25.003772Z"
    }
   },
   "id": "a27889313e8e84c0",
   "execution_count": 1457
  },
  {
   "cell_type": "code",
   "outputs": [],
   "source": [
    "# Question 2:\n",
    "# (a) Calculate all the possible joint probability and determine the best probable condition. Explain your results?\n",
    "\n",
    "# (b) What is the most probable condition for precipitation, wind and weather, combined?\n"
   ],
   "metadata": {
    "collapsed": false,
    "ExecuteTime": {
     "end_time": "2024-04-30T12:35:25.038197Z",
     "start_time": "2024-04-30T12:35:25.029759Z"
    }
   },
   "id": "518193b4544e2938",
   "execution_count": 1458
  },
  {
   "cell_type": "code",
   "outputs": [],
   "source": [
    "# Question 3. Find the probability associated with each weather, given that the precipitation is medium? Explain your result.\n",
    "\n"
   ],
   "metadata": {
    "collapsed": false,
    "ExecuteTime": {
     "end_time": "2024-04-30T12:35:25.038709Z",
     "start_time": "2024-04-30T12:35:25.031862Z"
    }
   },
   "id": "2a45225511df2758",
   "execution_count": 1459
  },
  {
   "cell_type": "code",
   "outputs": [],
   "source": [
    "# Question 4. What is the probability of each weather condition given that precipitation is medium and wind is low or medium? Explain your method and results. How does the result change with the addition of wind factor compared to question 3 of Task 1.2?\n",
    "\n"
   ],
   "metadata": {
    "collapsed": false,
    "ExecuteTime": {
     "end_time": "2024-04-30T12:35:25.046997Z",
     "start_time": "2024-04-30T12:35:25.039887Z"
    }
   },
   "id": "9cdb0450af44cb01",
   "execution_count": 1460
  },
  {
   "cell_type": "markdown",
   "source": [
    "# Task 1.3 - Approximate Inference"
   ],
   "metadata": {
    "collapsed": false
   },
   "id": "d7f8be2fe6c70648"
  },
  {
   "cell_type": "markdown",
   "source": [
    "## Likelihood Weighted Sample\n",
    "\n",
    "Generates weighted sample(s) from joint distribution of the Bayesian Network, that comply with the given evidence."
   ],
   "metadata": {
    "collapsed": false
   },
   "id": "a13825052cd008b4"
  },
  {
   "cell_type": "code",
   "outputs": [],
   "source": [
    "from pgmpy.factors.discrete import State\n",
    "from pgmpy.sampling import BayesianModelSampling"
   ],
   "metadata": {
    "collapsed": false,
    "ExecuteTime": {
     "end_time": "2024-04-30T12:35:25.047519Z",
     "start_time": "2024-04-30T12:35:25.042119Z"
    }
   },
   "id": "952669815d8ca852",
   "execution_count": 1461
  },
  {
   "cell_type": "code",
   "outputs": [],
   "source": [
    "# Repeat Q.1. (a) of Task 1.2 - What is the probability of high wind when the weather is sunny?\n",
    "\n"
   ],
   "metadata": {
    "collapsed": false,
    "ExecuteTime": {
     "end_time": "2024-04-30T12:35:25.055608Z",
     "start_time": "2024-04-30T12:35:25.048056Z"
    }
   },
   "id": "63332120625cec77",
   "execution_count": 1462
  },
  {
   "cell_type": "code",
   "outputs": [],
   "source": [
    "# Repeat Q.1. (b) of Task 1.2 - What is the probability of sunny weather when the wind is high?\n",
    "\n"
   ],
   "metadata": {
    "collapsed": false,
    "ExecuteTime": {
     "end_time": "2024-04-30T12:35:25.056262Z",
     "start_time": "2024-04-30T12:35:25.050132Z"
    }
   },
   "id": "bb6fee1e0c5e75ed",
   "execution_count": 1463
  },
  {
   "cell_type": "markdown",
   "source": [
    "## Rejection Sampling"
   ],
   "metadata": {
    "collapsed": false
   },
   "id": "d077efcba0af4514"
  },
  {
   "cell_type": "code",
   "outputs": [],
   "source": [
    "# Repeat Q.2 . (a) of Task 1.2 - Calculate all the possible joint probability and determine the best probable condition. Explain your results?\n",
    "\n"
   ],
   "metadata": {
    "collapsed": false,
    "ExecuteTime": {
     "end_time": "2024-04-30T12:35:25.066708Z",
     "start_time": "2024-04-30T12:35:25.056827Z"
    }
   },
   "id": "cebf4bb9b0df63cd",
   "execution_count": 1464
  },
  {
   "cell_type": "code",
   "outputs": [],
   "source": [
    "# Repeat Q.2 . (b) of Task 1.2 - What is the most probable condition for precipitation, wind and weather, combined?\n",
    "\n"
   ],
   "metadata": {
    "collapsed": false,
    "ExecuteTime": {
     "end_time": "2024-04-30T12:35:25.067538Z",
     "start_time": "2024-04-30T12:35:25.058837Z"
    }
   },
   "id": "e6c638824a2b66c",
   "execution_count": 1465
  },
  {
   "cell_type": "markdown",
   "source": [
    "## Approx Inference"
   ],
   "metadata": {
    "collapsed": false
   },
   "id": "e55d10c6c8f0360c"
  },
  {
   "cell_type": "code",
   "outputs": [],
   "source": [
    "from pgmpy.inference import ApproxInference"
   ],
   "metadata": {
    "collapsed": false,
    "ExecuteTime": {
     "end_time": "2024-04-30T12:35:25.069166Z",
     "start_time": "2024-04-30T12:35:25.062034Z"
    }
   },
   "id": "a16df79e437b0e2f",
   "execution_count": 1466
  },
  {
   "cell_type": "code",
   "outputs": [],
   "source": [
    "# Repeat Q.3 of Task 1.2 - Find the probability associated with each weather, given that the precipitation is medium? Explain your result.\n",
    "\n"
   ],
   "metadata": {
    "collapsed": false,
    "ExecuteTime": {
     "end_time": "2024-04-30T12:35:25.086945Z",
     "start_time": "2024-04-30T12:35:25.070131Z"
    }
   },
   "id": "da6ae9c67e269c20",
   "execution_count": 1467
  },
  {
   "cell_type": "markdown",
   "source": [
    "# Normal Sampling"
   ],
   "metadata": {
    "collapsed": false
   },
   "id": "62a85f89cd63e86"
  },
  {
   "cell_type": "code",
   "outputs": [],
   "source": [
    "# Repeat Q.4 of Task 1.2 - What is the probability of each weather condition given that precipitation is medium and wind is low or medium? Explain your method and results. How does the result change with the addition of wind factor compared to question 3 of Task 1.2?\n",
    "\n"
   ],
   "metadata": {
    "collapsed": false,
    "ExecuteTime": {
     "end_time": "2024-04-30T12:35:25.087771Z",
     "start_time": "2024-04-30T12:35:25.072700Z"
    }
   },
   "id": "99e372c96b8a0703",
   "execution_count": 1468
  },
  {
   "cell_type": "markdown",
   "source": [
    "# Other hierarchies\n"
   ],
   "metadata": {
    "collapsed": false
   },
   "id": "54baa432c8a98826"
  },
  {
   "cell_type": "code",
   "outputs": [],
   "source": [
    "weather_model_h1 = BayesianNetwork([\n",
    "    ('weather', 'precipitation'),\n",
    "    ('weather', 'wind'),\n",
    "    ('precipitation', 'temp_max'),\n",
    "    ('precipitation', 'temp_min'),\n",
    "    ('wind', 'temp_min'),\n",
    "    ('wind', 'temp_max')\n",
    "])\n",
    "\n",
    "weather_model_h2 = BayesianNetwork([\n",
    "    ('weather', 'wind'),\n",
    "    ('wind', 'precipitation'),\n",
    "    ('precipitation', 'temp_max'),\n",
    "    ('precipitation', 'temp_min')\n",
    "])\n",
    "\n"
   ],
   "metadata": {
    "collapsed": false
   },
   "id": "abfcbb6a8d117e86"
  }
 ],
 "metadata": {
  "kernelspec": {
   "display_name": "Python 3",
   "language": "python",
   "name": "python3"
  },
  "language_info": {
   "codemirror_mode": {
    "name": "ipython",
    "version": 2
   },
   "file_extension": ".py",
   "mimetype": "text/x-python",
   "name": "python",
   "nbconvert_exporter": "python",
   "pygments_lexer": "ipython2",
   "version": "2.7.6"
  }
 },
 "nbformat": 4,
 "nbformat_minor": 5
}
